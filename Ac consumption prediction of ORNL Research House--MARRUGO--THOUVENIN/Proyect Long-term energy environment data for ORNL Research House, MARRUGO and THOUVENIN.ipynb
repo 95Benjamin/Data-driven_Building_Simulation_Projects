{
 "cells": [
  {
   "cell_type": "markdown",
   "metadata": {},
   "source": [
    "# Import of libreries"
   ]
  },
  {
   "cell_type": "code",
   "execution_count": 24,
   "metadata": {
    "collapsed": true
   },
   "outputs": [],
   "source": [
    "import numpy as np\n",
    "import pandas as pd\n",
    "import matplotlib.pyplot as plt\n",
    "plt.rcParams['figure.figsize'] = (10, 6)"
   ]
  },
  {
   "cell_type": "markdown",
   "metadata": {},
   "source": [
    "# Import the raw data of Proyect Long-term energy environment data for ORNL Research House"
   ]
  },
  {
   "cell_type": "code",
   "execution_count": 2,
   "metadata": {
    "collapsed": false
   },
   "outputs": [
    {
     "name": "stderr",
     "output_type": "stream",
     "text": [
      "/Users/Marrugo/Library/Enthought/Canopy/edm/envs/User/lib/python2.7/site-packages/IPython/core/interactiveshell.py:2717: DtypeWarning: Columns (68,71,83,84,101) have mixed types. Specify dtype option on import or set low_memory=False.\n",
      "  interactivity=interactivity, compiler=compiler, result=result)\n"
     ]
    }
   ],
   "source": [
    "#Data import \n",
    "DataFolderPath = \"/Users/Marrugo/Dropbox/git_for_clone/Ac consumption prediction of ORNL Research House--MARRUGO--THOUVENIN/data_Oak_Ride_National_Laboratory.csv\"\n",
    "DF_Data_RAW = pd.read_csv(DataFolderPath,sep = \",\",index_col=0) "
   ]
  },
  {
   "cell_type": "markdown",
   "metadata": {},
   "source": [
    "Convert the index of the Data in datatime type"
   ]
  },
  {
   "cell_type": "code",
   "execution_count": 3,
   "metadata": {
    "collapsed": true
   },
   "outputs": [],
   "source": [
    "previousIndex= DF_Data_RAW.index\n",
    "NewparsedIndex = pd.to_datetime(previousIndex)\n",
    "DF_Data_RAW.index= NewparsedIndex"
   ]
  },
  {
   "cell_type": "markdown",
   "metadata": {},
   "source": [
    "# Definition of functions"
   ]
  },
  {
   "cell_type": "markdown",
   "metadata": {},
   "source": [
    "Function of lagged data for one column"
   ]
  },
  {
   "cell_type": "code",
   "execution_count": 5,
   "metadata": {
    "collapsed": true
   },
   "outputs": [],
   "source": [
    "def lag_column(df,column_name,lag_period=1):\n",
    "    for i in range(1,lag_period+1,1):\n",
    "        new_column_name = column_name+\"-\"+str(i*15)+\"min\"\n",
    "        df[new_column_name]=df[column_name].shift(i)\n",
    "    return df"
   ]
  },
  {
   "cell_type": "markdown",
   "metadata": {},
   "source": [
    "Function of lagged data for all columns"
   ]
  },
  {
   "cell_type": "code",
   "execution_count": 7,
   "metadata": {
    "collapsed": true
   },
   "outputs": [],
   "source": [
    "def lag_columnall(df,lag_period=1):\n",
    "    for column_name in df.columns.tolist():\n",
    "        for i in range(1,36+1,1):\n",
    "            new_column_name = column_name+\"-\"+str(i*15)+\"min\"\n",
    "            df[new_column_name]=df[column_name].shift(i)\n",
    "    return df"
   ]
  },
  {
   "cell_type": "markdown",
   "metadata": {},
   "source": [
    "Function of time features for the data "
   ]
  },
  {
   "cell_type": "code",
   "execution_count": 8,
   "metadata": {
    "collapsed": true
   },
   "outputs": [],
   "source": [
    "def features_creation(df):\n",
    "    # creatures time based features from pandas dataframe\n",
    "    # such hour of day, weekday/weekend, day/night and so on\n",
    "    # sin hour and cos hour as just indirect representation of time of day\n",
    "    df['sin_hour'] = np.sin((df.index.hour)*2*np.pi/24)\n",
    "    df['cos_hour'] = np.cos((df.index.hour)*2*np.pi/24)#later try 24 vector binary format\n",
    "    df['hour'] = df.index.hour # 0 to 23\n",
    "    df['day_of_week'] = df.index.dayofweek #Monday = 0, sunday = 6\n",
    "    df['weekend'] = [ 1 if day in (5, 6) else 0 for day in df.index.dayofweek ] # 1 for weekend and 0 for weekdays\n",
    "    df['month'] = df.index.month\n",
    "    df['week_of_year'] = df.index.week\n",
    "    # day = 1 if(10Hrs -19Hrs) and Night = 0 (otherwise)\n",
    "    df['day_night'] = [1 if day<20 and day>9 else 0 for day in df.index.hour ]\n",
    "    return df"
   ]
  },
  {
   "cell_type": "markdown",
   "metadata": {},
   "source": [
    "# Creating lagged data for 9 hours"
   ]
  },
  {
   "cell_type": "code",
   "execution_count": 9,
   "metadata": {
    "collapsed": true
   },
   "outputs": [],
   "source": [
    "#Data Lagged\n",
    "DF_data_raw=DF_Data_RAW.drop(\"RECORD\",axis=1)\n",
    "DF_data_raw=DF_data_raw.astype(\"float64\")\n",
    "DF_data_raw_lagged=lag_columnall(DF_data_raw,36)"
   ]
  },
  {
   "cell_type": "markdown",
   "metadata": {},
   "source": [
    "# Correlation of the lagged data"
   ]
  },
  {
   "cell_type": "markdown",
   "metadata": {},
   "source": [
    "Correlating the data"
   ]
  },
  {
   "cell_type": "code",
   "execution_count": 10,
   "metadata": {
    "collapsed": true
   },
   "outputs": [],
   "source": [
    "#correlation of data\n",
    "correlation=DF_data_raw_lagged.corr()"
   ]
  },
  {
   "cell_type": "markdown",
   "metadata": {},
   "source": [
    "Saving the correlation in a .CSV file"
   ]
  },
  {
   "cell_type": "code",
   "execution_count": 29,
   "metadata": {
    "collapsed": true
   },
   "outputs": [],
   "source": [
    "DataFolderPath1 = \"/Users/Marrugo/Dropbox/git_for_clone/Ac consumption prediction of ORNL Research House--MARRUGO--THOUVENIN/data_correlation.csv\"\n",
    "correlation.to_csv(DataFolderPath1,sep = \",\") "
   ]
  },
  {
   "cell_type": "markdown",
   "metadata": {},
   "source": [
    "# Data selection of good correlation"
   ]
  },
  {
   "cell_type": "markdown",
   "metadata": {},
   "source": [
    "Selecting the output data that is the total Ac consumption of the house "
   ]
  },
  {
   "cell_type": "code",
   "execution_count": 19,
   "metadata": {
    "collapsed": true
   },
   "outputs": [],
   "source": [
    "#Data selection\n",
    "DF_TotalEnergy=DF_Data_RAW[[\"main_Tot\"]]"
   ]
  },
  {
   "cell_type": "markdown",
   "metadata": {},
   "source": [
    "Selecting the input data from the Raw data (Temperature,relativity humidity, wind speed, solar radiation, precipitation, roof relative humidity, roof temperature, attic relative humidity, temperature of floor 1 and temperature of floor 2)"
   ]
  },
  {
   "cell_type": "code",
   "execution_count": 11,
   "metadata": {
    "collapsed": true
   },
   "outputs": [],
   "source": [
    "\n",
    "DF_Input1=DF_Data_RAW.loc[:,\"Outside_Tmp_Avg\":\"wind_speed_mean\"]\n",
    "DF_solar_radiation=DF_Data_RAW[[\"SlrW1_Avg\"]]\n",
    "DF_Precipitation=DF_Data_RAW[[\"Rain_in_Tot\"]]\n",
    "DF_dryer=DF_Data_RAW[[\"dryer_Tot\"]]\n",
    "DF_RH_lvl1=DF_Data_RAW[[\"LVL1_RH_Avg\"]]\n",
    "DF_RH_lvl2=DF_Data_RAW[[\"LVL2_RH_Avg\"]]\n",
    "DF_WallNava_RH=DF_Data_RAW[[\"WallNcav_RH_Avg\"]]\n",
    "DF_RoofN_RH=DF_Data_RAW[[\"RoofN_RH_Avg\"]]\n",
    "DF_Roofn_tmp=DF_Data_RAW[[\"RoofN_tmp_Avg\"]]"
   ]
  },
  {
   "cell_type": "markdown",
   "metadata": {},
   "source": [
    "Combining the output data and the input data"
   ]
  },
  {
   "cell_type": "code",
   "execution_count": 20,
   "metadata": {
    "collapsed": true
   },
   "outputs": [],
   "source": [
    "#Data selected compilation\n",
    "DF_Data_selected=DF_TotalEnergy.join([DF_Input1,DF_solar_radiation,DF_Roofn_tmp,DF_RoofN_RH,DF_Precipitation,DF_WallNava_RH,DF_dryer,DF_RH_lvl2,DF_RH_lvl1])"
   ]
  },
  {
   "cell_type": "markdown",
   "metadata": {},
   "source": [
    "Cleaning the non value data"
   ]
  },
  {
   "cell_type": "code",
   "execution_count": 33,
   "metadata": {
    "collapsed": true
   },
   "outputs": [],
   "source": [
    "DF_Data_selected_clean = DF_Data_selected.dropna()"
   ]
  },
  {
   "cell_type": "markdown",
   "metadata": {},
   "source": [
    "Converting the data to float64 to do the correlation"
   ]
  },
  {
   "cell_type": "code",
   "execution_count": 13,
   "metadata": {
    "collapsed": true
   },
   "outputs": [],
   "source": [
    "#Data conversion \n",
    "DF_Data_selected_float64=DF_Data_selected_clean.astype(\"float64\")"
   ]
  },
  {
   "cell_type": "markdown",
   "metadata": {},
   "source": [
    "Adding the time base features to data"
   ]
  },
  {
   "cell_type": "code",
   "execution_count": 32,
   "metadata": {
    "collapsed": true
   },
   "outputs": [],
   "source": [
    "#Changing the name of the columns \n",
    "Data_final=features_creation(DF_Data_selected_float64)"
   ]
  },
  {
   "cell_type": "markdown",
   "metadata": {},
   "source": [
    "Replacing the name of the columns"
   ]
  },
  {
   "cell_type": "code",
   "execution_count": 31,
   "metadata": {
    "collapsed": false
   },
   "outputs": [],
   "source": [
    "Data_final.rename(columns = {'main_Tot':\"AC_consump\"},inplace=True)\n",
    "Data_final.rename(columns = {'Outside_Tmp_Avg':\"Temperature_Avg\"},inplace=True)\n",
    "Data_final.rename(columns = {'Outside_RH_Avg':\"Relative_Humidity\"},inplace=True)\n",
    "Data_final.rename(columns = {'SlrW1_Avg':\"Solar_radiation\"},inplace=True)\n",
    "Data_final.rename(columns = {'Rain_in_Tot':\"Precipitation\"},inplace=True)\n",
    "Data_final.rename(columns = {'dryer_Tot':\"Dryer\"},inplace=True)\n",
    "Data_final.rename(columns = {'LVL1_RH_Avg':\"RH_lvl1\"},inplace=True)\n",
    "Data_final.rename(columns = {'LVL2_RH_Avg':\"RH_lvl2\"},inplace=True)\n",
    "Data_final.rename(columns = {'WallNcav_RH_Avg':\"RH_roof_cavity\"},inplace=True)\n",
    "Data_final.rename(columns = {'RoofN_RH_Avg':\"RH_roof_north\"},inplace=True)\n",
    "Data_final.rename(columns = {'RoofN_tmp_Avg':\"RH_temp_notth\"},inplace=True)"
   ]
  },
  {
   "cell_type": "markdown",
   "metadata": {},
   "source": [
    "Showing the first 5 rows of the final data"
   ]
  },
  {
   "cell_type": "code",
   "execution_count": 30,
   "metadata": {
    "collapsed": false
   },
   "outputs": [
    {
     "data": {
      "text/html": [
       "<div>\n",
       "<table border=\"1\" class=\"dataframe\">\n",
       "  <thead>\n",
       "    <tr style=\"text-align: right;\">\n",
       "      <th></th>\n",
       "      <th>AC_consump</th>\n",
       "      <th>Temperature_Avg</th>\n",
       "      <th>Relative_Humidity</th>\n",
       "      <th>wind_speed_mean</th>\n",
       "      <th>Solar_radiation</th>\n",
       "      <th>RH_temp_notth</th>\n",
       "      <th>RH_roof_north</th>\n",
       "      <th>Precipitation</th>\n",
       "      <th>RH_roof_cavity</th>\n",
       "      <th>Dryer</th>\n",
       "      <th>...</th>\n",
       "      <th>Temperature_Avg-5.45 hrs</th>\n",
       "      <th>Relative_Humidity-5.0 hrs</th>\n",
       "      <th>Relative_Humidity-5.15 hrs</th>\n",
       "      <th>Relative_Humidity-5.3 hrs</th>\n",
       "      <th>Precipitation-0.45 hrs</th>\n",
       "      <th>Precipitation-3 hrs</th>\n",
       "      <th>RH_roof_north-9 hrs</th>\n",
       "      <th>RH_roof_north-9.15 hrs</th>\n",
       "      <th>RH_temp_notth-9 hrs</th>\n",
       "      <th>RH_temp_notth-9.15 hrs</th>\n",
       "    </tr>\n",
       "    <tr>\n",
       "      <th>TIMESTAMP</th>\n",
       "      <th></th>\n",
       "      <th></th>\n",
       "      <th></th>\n",
       "      <th></th>\n",
       "      <th></th>\n",
       "      <th></th>\n",
       "      <th></th>\n",
       "      <th></th>\n",
       "      <th></th>\n",
       "      <th></th>\n",
       "      <th></th>\n",
       "      <th></th>\n",
       "      <th></th>\n",
       "      <th></th>\n",
       "      <th></th>\n",
       "      <th></th>\n",
       "      <th></th>\n",
       "      <th></th>\n",
       "      <th></th>\n",
       "      <th></th>\n",
       "      <th></th>\n",
       "    </tr>\n",
       "  </thead>\n",
       "  <tbody>\n",
       "    <tr>\n",
       "      <th>2013-10-01 09:30:00</th>\n",
       "      <td>347.5</td>\n",
       "      <td>60.44</td>\n",
       "      <td>94.4</td>\n",
       "      <td>0.0</td>\n",
       "      <td>75.62</td>\n",
       "      <td>60.39</td>\n",
       "      <td>61.82</td>\n",
       "      <td>0.0</td>\n",
       "      <td>66.68</td>\n",
       "      <td>1.0</td>\n",
       "      <td>...</td>\n",
       "      <td>NaN</td>\n",
       "      <td>NaN</td>\n",
       "      <td>NaN</td>\n",
       "      <td>NaN</td>\n",
       "      <td>NaN</td>\n",
       "      <td>NaN</td>\n",
       "      <td>NaN</td>\n",
       "      <td>NaN</td>\n",
       "      <td>NaN</td>\n",
       "      <td>NaN</td>\n",
       "    </tr>\n",
       "    <tr>\n",
       "      <th>2013-10-01 09:45:00</th>\n",
       "      <td>305.0</td>\n",
       "      <td>61.48</td>\n",
       "      <td>94.1</td>\n",
       "      <td>0.0</td>\n",
       "      <td>92.90</td>\n",
       "      <td>61.75</td>\n",
       "      <td>60.85</td>\n",
       "      <td>0.0</td>\n",
       "      <td>66.63</td>\n",
       "      <td>0.5</td>\n",
       "      <td>...</td>\n",
       "      <td>NaN</td>\n",
       "      <td>NaN</td>\n",
       "      <td>NaN</td>\n",
       "      <td>NaN</td>\n",
       "      <td>NaN</td>\n",
       "      <td>NaN</td>\n",
       "      <td>NaN</td>\n",
       "      <td>NaN</td>\n",
       "      <td>NaN</td>\n",
       "      <td>NaN</td>\n",
       "    </tr>\n",
       "    <tr>\n",
       "      <th>2013-10-01 10:00:00</th>\n",
       "      <td>292.5</td>\n",
       "      <td>62.69</td>\n",
       "      <td>93.3</td>\n",
       "      <td>0.0</td>\n",
       "      <td>105.40</td>\n",
       "      <td>63.20</td>\n",
       "      <td>59.73</td>\n",
       "      <td>0.0</td>\n",
       "      <td>66.60</td>\n",
       "      <td>0.5</td>\n",
       "      <td>...</td>\n",
       "      <td>NaN</td>\n",
       "      <td>NaN</td>\n",
       "      <td>NaN</td>\n",
       "      <td>NaN</td>\n",
       "      <td>NaN</td>\n",
       "      <td>NaN</td>\n",
       "      <td>NaN</td>\n",
       "      <td>NaN</td>\n",
       "      <td>NaN</td>\n",
       "      <td>NaN</td>\n",
       "    </tr>\n",
       "    <tr>\n",
       "      <th>2013-10-01 10:15:00</th>\n",
       "      <td>627.5</td>\n",
       "      <td>63.56</td>\n",
       "      <td>91.4</td>\n",
       "      <td>0.0</td>\n",
       "      <td>119.40</td>\n",
       "      <td>64.61</td>\n",
       "      <td>58.76</td>\n",
       "      <td>0.0</td>\n",
       "      <td>66.62</td>\n",
       "      <td>0.5</td>\n",
       "      <td>...</td>\n",
       "      <td>NaN</td>\n",
       "      <td>NaN</td>\n",
       "      <td>NaN</td>\n",
       "      <td>NaN</td>\n",
       "      <td>0.0</td>\n",
       "      <td>NaN</td>\n",
       "      <td>NaN</td>\n",
       "      <td>NaN</td>\n",
       "      <td>NaN</td>\n",
       "      <td>NaN</td>\n",
       "    </tr>\n",
       "    <tr>\n",
       "      <th>2013-10-01 10:30:00</th>\n",
       "      <td>192.5</td>\n",
       "      <td>64.44</td>\n",
       "      <td>88.9</td>\n",
       "      <td>0.0</td>\n",
       "      <td>139.00</td>\n",
       "      <td>66.02</td>\n",
       "      <td>57.96</td>\n",
       "      <td>0.0</td>\n",
       "      <td>66.63</td>\n",
       "      <td>0.5</td>\n",
       "      <td>...</td>\n",
       "      <td>NaN</td>\n",
       "      <td>NaN</td>\n",
       "      <td>NaN</td>\n",
       "      <td>NaN</td>\n",
       "      <td>0.0</td>\n",
       "      <td>NaN</td>\n",
       "      <td>NaN</td>\n",
       "      <td>NaN</td>\n",
       "      <td>NaN</td>\n",
       "      <td>NaN</td>\n",
       "    </tr>\n",
       "  </tbody>\n",
       "</table>\n",
       "<p>5 rows × 35 columns</p>\n",
       "</div>"
      ],
      "text/plain": [
       "                     AC_consump  Temperature_Avg  Relative_Humidity  \\\n",
       "TIMESTAMP                                                             \n",
       "2013-10-01 09:30:00       347.5            60.44               94.4   \n",
       "2013-10-01 09:45:00       305.0            61.48               94.1   \n",
       "2013-10-01 10:00:00       292.5            62.69               93.3   \n",
       "2013-10-01 10:15:00       627.5            63.56               91.4   \n",
       "2013-10-01 10:30:00       192.5            64.44               88.9   \n",
       "\n",
       "                     wind_speed_mean  Solar_radiation  RH_temp_notth  \\\n",
       "TIMESTAMP                                                              \n",
       "2013-10-01 09:30:00              0.0            75.62          60.39   \n",
       "2013-10-01 09:45:00              0.0            92.90          61.75   \n",
       "2013-10-01 10:00:00              0.0           105.40          63.20   \n",
       "2013-10-01 10:15:00              0.0           119.40          64.61   \n",
       "2013-10-01 10:30:00              0.0           139.00          66.02   \n",
       "\n",
       "                     RH_roof_north  Precipitation  RH_roof_cavity  Dryer  \\\n",
       "TIMESTAMP                                                                  \n",
       "2013-10-01 09:30:00          61.82            0.0           66.68    1.0   \n",
       "2013-10-01 09:45:00          60.85            0.0           66.63    0.5   \n",
       "2013-10-01 10:00:00          59.73            0.0           66.60    0.5   \n",
       "2013-10-01 10:15:00          58.76            0.0           66.62    0.5   \n",
       "2013-10-01 10:30:00          57.96            0.0           66.63    0.5   \n",
       "\n",
       "                              ...            Temperature_Avg-5.45 hrs  \\\n",
       "TIMESTAMP                     ...                                       \n",
       "2013-10-01 09:30:00           ...                                 NaN   \n",
       "2013-10-01 09:45:00           ...                                 NaN   \n",
       "2013-10-01 10:00:00           ...                                 NaN   \n",
       "2013-10-01 10:15:00           ...                                 NaN   \n",
       "2013-10-01 10:30:00           ...                                 NaN   \n",
       "\n",
       "                     Relative_Humidity-5.0 hrs  Relative_Humidity-5.15 hrs  \\\n",
       "TIMESTAMP                                                                    \n",
       "2013-10-01 09:30:00                        NaN                         NaN   \n",
       "2013-10-01 09:45:00                        NaN                         NaN   \n",
       "2013-10-01 10:00:00                        NaN                         NaN   \n",
       "2013-10-01 10:15:00                        NaN                         NaN   \n",
       "2013-10-01 10:30:00                        NaN                         NaN   \n",
       "\n",
       "                     Relative_Humidity-5.3 hrs  Precipitation-0.45 hrs  \\\n",
       "TIMESTAMP                                                                \n",
       "2013-10-01 09:30:00                        NaN                     NaN   \n",
       "2013-10-01 09:45:00                        NaN                     NaN   \n",
       "2013-10-01 10:00:00                        NaN                     NaN   \n",
       "2013-10-01 10:15:00                        NaN                     0.0   \n",
       "2013-10-01 10:30:00                        NaN                     0.0   \n",
       "\n",
       "                     Precipitation-3 hrs  RH_roof_north-9 hrs  \\\n",
       "TIMESTAMP                                                       \n",
       "2013-10-01 09:30:00                  NaN                  NaN   \n",
       "2013-10-01 09:45:00                  NaN                  NaN   \n",
       "2013-10-01 10:00:00                  NaN                  NaN   \n",
       "2013-10-01 10:15:00                  NaN                  NaN   \n",
       "2013-10-01 10:30:00                  NaN                  NaN   \n",
       "\n",
       "                     RH_roof_north-9.15 hrs  RH_temp_notth-9 hrs  \\\n",
       "TIMESTAMP                                                          \n",
       "2013-10-01 09:30:00                     NaN                  NaN   \n",
       "2013-10-01 09:45:00                     NaN                  NaN   \n",
       "2013-10-01 10:00:00                     NaN                  NaN   \n",
       "2013-10-01 10:15:00                     NaN                  NaN   \n",
       "2013-10-01 10:30:00                     NaN                  NaN   \n",
       "\n",
       "                     RH_temp_notth-9.15 hrs  \n",
       "TIMESTAMP                                    \n",
       "2013-10-01 09:30:00                     NaN  \n",
       "2013-10-01 09:45:00                     NaN  \n",
       "2013-10-01 10:00:00                     NaN  \n",
       "2013-10-01 10:15:00                     NaN  \n",
       "2013-10-01 10:30:00                     NaN  \n",
       "\n",
       "[5 rows x 35 columns]"
      ]
     },
     "execution_count": 30,
     "metadata": {},
     "output_type": "execute_result"
    }
   ],
   "source": [
    "Data_final.head()"
   ]
  },
  {
   "cell_type": "markdown",
   "metadata": {},
   "source": [
    "# Data lagged selected"
   ]
  },
  {
   "cell_type": "markdown",
   "metadata": {},
   "source": [
    "Adding the best correlated lagged data with respect to the AC consumption to the final data"
   ]
  },
  {
   "cell_type": "code",
   "execution_count": 27,
   "metadata": {
    "collapsed": false
   },
   "outputs": [],
   "source": [
    "#solar radiation lagged data\n",
    "Data_final[\"Solar_radiation-6.15 hrs\"]=Data_final[\"Solar_radiation\"].shift(25)\n",
    "Data_final[\"Solar_radiation-6.3 hrs\"]=Data_final[\"Solar_radiation\"].shift(26)\n",
    "Data_final[\"Solar_radiation-6.45 hrs\"]=Data_final[\"Solar_radiation\"].shift(27)\n",
    "\n",
    "#temperature lagged data\n",
    "Data_final[\"Temperature_Avg-5.15 hrs\"]=Data_final[\"Temperature_Avg\"].shift(21)\n",
    "Data_final[\"Temperature_Avg-5.3 hrs\"]=Data_final[\"Temperature_Avg\"].shift(22)\n",
    "Data_final[\"Temperature_Avg-5.45 hrs\"]=Data_final[\"Temperature_Avg\"].shift(23)\n",
    "\n",
    "#relative humidity lagged data\n",
    "Data_final[\"Relative_Humidity-5.0 hrs\"]=Data_final[\"Relative_Humidity\"].shift(20)\n",
    "Data_final[\"Relative_Humidity-5.15 hrs\"]=Data_final[\"Relative_Humidity\"].shift(21)\n",
    "Data_final[\"Relative_Humidity-5.3 hrs\"]=Data_final[\"Relative_Humidity\"].shift(22)\n",
    "\n",
    "#precipitation lagged data \n",
    "Data_final[\"Precipitation-0.45 hrs\"]=Data_final[\"Precipitation\"].shift(3)\n",
    "Data_final[\"Precipitation-3 hrs\"]=Data_final[\"Precipitation\"].shift(12)\n",
    "\n",
    "#Roof north relative humidity lagged data \n",
    "Data_final[\"RH_roof_north-9 hrs\"]=Data_final[\"RH_roof_north\"].shift(36)\n",
    "Data_final[\"RH_roof_north-9.15 hrs\"]=Data_final[\"RH_roof_north\"].shift(37)\n",
    "\n",
    "#Roof north temperature lagged data \n",
    "Data_final[\"RH_temp_notth-9 hrs\"]=Data_final[\"RH_temp_notth\"].shift(36)\n",
    "Data_final[\"RH_temp_notth-9.15 hrs\"]=Data_final[\"RH_temp_notth\"].shift(37)"
   ]
  },
  {
   "cell_type": "markdown",
   "metadata": {},
   "source": [
    "Organize the final data according with the lagged made"
   ]
  },
  {
   "cell_type": "code",
   "execution_count": 34,
   "metadata": {
    "collapsed": true
   },
   "outputs": [],
   "source": [
    "#Final data for linear regression \n",
    "Data_final.dropna(inplace=True)"
   ]
  },
  {
   "cell_type": "markdown",
   "metadata": {},
   "source": [
    "Showing the first 5 rows of the final data with the lagged data"
   ]
  },
  {
   "cell_type": "code",
   "execution_count": 35,
   "metadata": {
    "collapsed": false
   },
   "outputs": [
    {
     "data": {
      "text/html": [
       "<div>\n",
       "<table border=\"1\" class=\"dataframe\">\n",
       "  <thead>\n",
       "    <tr style=\"text-align: right;\">\n",
       "      <th></th>\n",
       "      <th>AC_consump</th>\n",
       "      <th>Temperature_Avg</th>\n",
       "      <th>Relative_Humidity</th>\n",
       "      <th>wind_speed_mean</th>\n",
       "      <th>Solar_radiation</th>\n",
       "      <th>RH_temp_notth</th>\n",
       "      <th>RH_roof_north</th>\n",
       "      <th>Precipitation</th>\n",
       "      <th>RH_roof_cavity</th>\n",
       "      <th>Dryer</th>\n",
       "      <th>...</th>\n",
       "      <th>Temperature_Avg-5.45 hrs</th>\n",
       "      <th>Relative_Humidity-5.0 hrs</th>\n",
       "      <th>Relative_Humidity-5.15 hrs</th>\n",
       "      <th>Relative_Humidity-5.3 hrs</th>\n",
       "      <th>Precipitation-0.45 hrs</th>\n",
       "      <th>Precipitation-3 hrs</th>\n",
       "      <th>RH_roof_north-9 hrs</th>\n",
       "      <th>RH_roof_north-9.15 hrs</th>\n",
       "      <th>RH_temp_notth-9 hrs</th>\n",
       "      <th>RH_temp_notth-9.15 hrs</th>\n",
       "    </tr>\n",
       "    <tr>\n",
       "      <th>TIMESTAMP</th>\n",
       "      <th></th>\n",
       "      <th></th>\n",
       "      <th></th>\n",
       "      <th></th>\n",
       "      <th></th>\n",
       "      <th></th>\n",
       "      <th></th>\n",
       "      <th></th>\n",
       "      <th></th>\n",
       "      <th></th>\n",
       "      <th></th>\n",
       "      <th></th>\n",
       "      <th></th>\n",
       "      <th></th>\n",
       "      <th></th>\n",
       "      <th></th>\n",
       "      <th></th>\n",
       "      <th></th>\n",
       "      <th></th>\n",
       "      <th></th>\n",
       "      <th></th>\n",
       "    </tr>\n",
       "  </thead>\n",
       "  <tbody>\n",
       "    <tr>\n",
       "      <th>2013-10-01 18:45:00</th>\n",
       "      <td>332.5</td>\n",
       "      <td>73.18</td>\n",
       "      <td>68.92</td>\n",
       "      <td>0.0</td>\n",
       "      <td>17.650</td>\n",
       "      <td>87.6</td>\n",
       "      <td>40.82</td>\n",
       "      <td>0.0</td>\n",
       "      <td>63.59</td>\n",
       "      <td>0.5</td>\n",
       "      <td>...</td>\n",
       "      <td>74.44</td>\n",
       "      <td>57.36</td>\n",
       "      <td>59.62</td>\n",
       "      <td>64.57</td>\n",
       "      <td>0.0</td>\n",
       "      <td>0.0</td>\n",
       "      <td>60.85</td>\n",
       "      <td>61.82</td>\n",
       "      <td>61.75</td>\n",
       "      <td>60.39</td>\n",
       "    </tr>\n",
       "    <tr>\n",
       "      <th>2013-10-01 19:00:00</th>\n",
       "      <td>197.5</td>\n",
       "      <td>71.59</td>\n",
       "      <td>73.92</td>\n",
       "      <td>0.0</td>\n",
       "      <td>12.610</td>\n",
       "      <td>85.9</td>\n",
       "      <td>41.89</td>\n",
       "      <td>0.0</td>\n",
       "      <td>63.56</td>\n",
       "      <td>0.5</td>\n",
       "      <td>...</td>\n",
       "      <td>74.62</td>\n",
       "      <td>57.79</td>\n",
       "      <td>57.36</td>\n",
       "      <td>59.62</td>\n",
       "      <td>0.0</td>\n",
       "      <td>0.0</td>\n",
       "      <td>59.73</td>\n",
       "      <td>60.85</td>\n",
       "      <td>63.20</td>\n",
       "      <td>61.75</td>\n",
       "    </tr>\n",
       "    <tr>\n",
       "      <th>2013-10-01 19:15:00</th>\n",
       "      <td>462.5</td>\n",
       "      <td>70.26</td>\n",
       "      <td>76.02</td>\n",
       "      <td>0.0</td>\n",
       "      <td>7.179</td>\n",
       "      <td>84.0</td>\n",
       "      <td>42.97</td>\n",
       "      <td>0.0</td>\n",
       "      <td>63.56</td>\n",
       "      <td>0.5</td>\n",
       "      <td>...</td>\n",
       "      <td>77.53</td>\n",
       "      <td>58.28</td>\n",
       "      <td>57.79</td>\n",
       "      <td>57.36</td>\n",
       "      <td>0.0</td>\n",
       "      <td>0.0</td>\n",
       "      <td>58.76</td>\n",
       "      <td>59.73</td>\n",
       "      <td>64.61</td>\n",
       "      <td>63.20</td>\n",
       "    </tr>\n",
       "    <tr>\n",
       "      <th>2013-10-01 19:30:00</th>\n",
       "      <td>480.0</td>\n",
       "      <td>68.99</td>\n",
       "      <td>79.21</td>\n",
       "      <td>0.0</td>\n",
       "      <td>2.344</td>\n",
       "      <td>82.1</td>\n",
       "      <td>44.09</td>\n",
       "      <td>0.0</td>\n",
       "      <td>63.57</td>\n",
       "      <td>0.5</td>\n",
       "      <td>...</td>\n",
       "      <td>78.07</td>\n",
       "      <td>54.68</td>\n",
       "      <td>58.28</td>\n",
       "      <td>57.79</td>\n",
       "      <td>0.0</td>\n",
       "      <td>0.0</td>\n",
       "      <td>57.96</td>\n",
       "      <td>58.76</td>\n",
       "      <td>66.02</td>\n",
       "      <td>64.61</td>\n",
       "    </tr>\n",
       "    <tr>\n",
       "      <th>2013-10-01 19:45:00</th>\n",
       "      <td>515.0</td>\n",
       "      <td>67.63</td>\n",
       "      <td>83.50</td>\n",
       "      <td>0.0</td>\n",
       "      <td>0.273</td>\n",
       "      <td>80.0</td>\n",
       "      <td>45.49</td>\n",
       "      <td>0.0</td>\n",
       "      <td>63.62</td>\n",
       "      <td>0.5</td>\n",
       "      <td>...</td>\n",
       "      <td>77.37</td>\n",
       "      <td>55.73</td>\n",
       "      <td>54.68</td>\n",
       "      <td>58.28</td>\n",
       "      <td>0.0</td>\n",
       "      <td>0.0</td>\n",
       "      <td>57.13</td>\n",
       "      <td>57.96</td>\n",
       "      <td>67.39</td>\n",
       "      <td>66.02</td>\n",
       "    </tr>\n",
       "  </tbody>\n",
       "</table>\n",
       "<p>5 rows × 35 columns</p>\n",
       "</div>"
      ],
      "text/plain": [
       "                     AC_consump  Temperature_Avg  Relative_Humidity  \\\n",
       "TIMESTAMP                                                             \n",
       "2013-10-01 18:45:00       332.5            73.18              68.92   \n",
       "2013-10-01 19:00:00       197.5            71.59              73.92   \n",
       "2013-10-01 19:15:00       462.5            70.26              76.02   \n",
       "2013-10-01 19:30:00       480.0            68.99              79.21   \n",
       "2013-10-01 19:45:00       515.0            67.63              83.50   \n",
       "\n",
       "                     wind_speed_mean  Solar_radiation  RH_temp_notth  \\\n",
       "TIMESTAMP                                                              \n",
       "2013-10-01 18:45:00              0.0           17.650           87.6   \n",
       "2013-10-01 19:00:00              0.0           12.610           85.9   \n",
       "2013-10-01 19:15:00              0.0            7.179           84.0   \n",
       "2013-10-01 19:30:00              0.0            2.344           82.1   \n",
       "2013-10-01 19:45:00              0.0            0.273           80.0   \n",
       "\n",
       "                     RH_roof_north  Precipitation  RH_roof_cavity  Dryer  \\\n",
       "TIMESTAMP                                                                  \n",
       "2013-10-01 18:45:00          40.82            0.0           63.59    0.5   \n",
       "2013-10-01 19:00:00          41.89            0.0           63.56    0.5   \n",
       "2013-10-01 19:15:00          42.97            0.0           63.56    0.5   \n",
       "2013-10-01 19:30:00          44.09            0.0           63.57    0.5   \n",
       "2013-10-01 19:45:00          45.49            0.0           63.62    0.5   \n",
       "\n",
       "                              ...            Temperature_Avg-5.45 hrs  \\\n",
       "TIMESTAMP                     ...                                       \n",
       "2013-10-01 18:45:00           ...                               74.44   \n",
       "2013-10-01 19:00:00           ...                               74.62   \n",
       "2013-10-01 19:15:00           ...                               77.53   \n",
       "2013-10-01 19:30:00           ...                               78.07   \n",
       "2013-10-01 19:45:00           ...                               77.37   \n",
       "\n",
       "                     Relative_Humidity-5.0 hrs  Relative_Humidity-5.15 hrs  \\\n",
       "TIMESTAMP                                                                    \n",
       "2013-10-01 18:45:00                      57.36                       59.62   \n",
       "2013-10-01 19:00:00                      57.79                       57.36   \n",
       "2013-10-01 19:15:00                      58.28                       57.79   \n",
       "2013-10-01 19:30:00                      54.68                       58.28   \n",
       "2013-10-01 19:45:00                      55.73                       54.68   \n",
       "\n",
       "                     Relative_Humidity-5.3 hrs  Precipitation-0.45 hrs  \\\n",
       "TIMESTAMP                                                                \n",
       "2013-10-01 18:45:00                      64.57                     0.0   \n",
       "2013-10-01 19:00:00                      59.62                     0.0   \n",
       "2013-10-01 19:15:00                      57.36                     0.0   \n",
       "2013-10-01 19:30:00                      57.79                     0.0   \n",
       "2013-10-01 19:45:00                      58.28                     0.0   \n",
       "\n",
       "                     Precipitation-3 hrs  RH_roof_north-9 hrs  \\\n",
       "TIMESTAMP                                                       \n",
       "2013-10-01 18:45:00                  0.0                60.85   \n",
       "2013-10-01 19:00:00                  0.0                59.73   \n",
       "2013-10-01 19:15:00                  0.0                58.76   \n",
       "2013-10-01 19:30:00                  0.0                57.96   \n",
       "2013-10-01 19:45:00                  0.0                57.13   \n",
       "\n",
       "                     RH_roof_north-9.15 hrs  RH_temp_notth-9 hrs  \\\n",
       "TIMESTAMP                                                          \n",
       "2013-10-01 18:45:00                   61.82                61.75   \n",
       "2013-10-01 19:00:00                   60.85                63.20   \n",
       "2013-10-01 19:15:00                   59.73                64.61   \n",
       "2013-10-01 19:30:00                   58.76                66.02   \n",
       "2013-10-01 19:45:00                   57.96                67.39   \n",
       "\n",
       "                     RH_temp_notth-9.15 hrs  \n",
       "TIMESTAMP                                    \n",
       "2013-10-01 18:45:00                   60.39  \n",
       "2013-10-01 19:00:00                   61.75  \n",
       "2013-10-01 19:15:00                   63.20  \n",
       "2013-10-01 19:30:00                   64.61  \n",
       "2013-10-01 19:45:00                   66.02  \n",
       "\n",
       "[5 rows x 35 columns]"
      ]
     },
     "execution_count": 35,
     "metadata": {},
     "output_type": "execute_result"
    }
   ],
   "source": [
    "Data_final.head()"
   ]
  },
  {
   "cell_type": "markdown",
   "metadata": {},
   "source": [
    "# Machine learning implementation"
   ]
  },
  {
   "cell_type": "markdown",
   "metadata": {},
   "source": [
    "Defining the target of the random forest regression"
   ]
  },
  {
   "cell_type": "code",
   "execution_count": 36,
   "metadata": {
    "collapsed": true
   },
   "outputs": [],
   "source": [
    "DF_target = Data_final[\"AC_consump\"]"
   ]
  },
  {
   "cell_type": "markdown",
   "metadata": {},
   "source": [
    "Defining the features of the random forest regression"
   ]
  },
  {
   "cell_type": "code",
   "execution_count": 37,
   "metadata": {
    "collapsed": true
   },
   "outputs": [],
   "source": [
    "DF_features = Data_final.drop(\"AC_consump\",axis=1)"
   ]
  },
  {
   "cell_type": "markdown",
   "metadata": {},
   "source": [
    "Importing the train test split librery"
   ]
  },
  {
   "cell_type": "code",
   "execution_count": 38,
   "metadata": {
    "collapsed": true
   },
   "outputs": [],
   "source": [
    "#importing train test split \n",
    "from sklearn.model_selection import train_test_split"
   ]
  },
  {
   "cell_type": "markdown",
   "metadata": {},
   "source": [
    "Defining the data from train and test random forest regression"
   ]
  },
  {
   "cell_type": "code",
   "execution_count": 39,
   "metadata": {
    "collapsed": true
   },
   "outputs": [],
   "source": [
    "X_train, X_test, y_train, y_test = train_test_split(DF_features, DF_target, test_size=0.2, random_state=41234)"
   ]
  },
  {
   "cell_type": "markdown",
   "metadata": {},
   "source": [
    "Importing the random forest regression model librery"
   ]
  },
  {
   "cell_type": "code",
   "execution_count": 22,
   "metadata": {
    "collapsed": true
   },
   "outputs": [],
   "source": [
    "#importing random forest regression \n",
    "from sklearn.ensemble import RandomForestRegressor\n",
    "reg = RandomForestRegressor()"
   ]
  },
  {
   "cell_type": "raw",
   "metadata": {},
   "source": [
    "Importing the cross validation for random forest regression "
   ]
  },
  {
   "cell_type": "code",
   "execution_count": 40,
   "metadata": {
    "collapsed": true
   },
   "outputs": [],
   "source": [
    "#training random forest regression with cross validation \n",
    "from sklearn.model_selection import cross_val_predict"
   ]
  },
  {
   "cell_type": "markdown",
   "metadata": {},
   "source": [
    "Predicting data with the test data with the model of random forest"
   ]
  },
  {
   "cell_type": "code",
   "execution_count": 41,
   "metadata": {
    "collapsed": true
   },
   "outputs": [],
   "source": [
    "predict = cross_val_predict(reg,DF_features,DF_target,cv=25)"
   ]
  },
  {
   "cell_type": "markdown",
   "metadata": {},
   "source": [
    "Creating a series data with the predicte data using the random forest model"
   ]
  },
  {
   "cell_type": "code",
   "execution_count": 42,
   "metadata": {
    "collapsed": true
   },
   "outputs": [],
   "source": [
    "predictions = pd.Series(predict,index=DF_target.index).rename(\"AC_consump\"+'_predicted')"
   ]
  },
  {
   "cell_type": "markdown",
   "metadata": {},
   "source": [
    "Creating a data frame with the predicted data and the test data"
   ]
  },
  {
   "cell_type": "code",
   "execution_count": 43,
   "metadata": {
    "collapsed": true
   },
   "outputs": [],
   "source": [
    "predictions_frame = predictions.to_frame()\n",
    "predictions_frame[\"AC_consump\"]=DF_target"
   ]
  },
  {
   "cell_type": "markdown",
   "metadata": {},
   "source": [
    "# Results"
   ]
  },
  {
   "cell_type": "markdown",
   "metadata": {},
   "source": [
    "Ploting the prediction and the test data for the range of date (2014-09-01:2014-09-03)"
   ]
  },
  {
   "cell_type": "code",
   "execution_count": 25,
   "metadata": {
    "collapsed": false
   },
   "outputs": [
    {
     "data": {
      "image/png": "[encoded data removed]",
      "text/plain": [
       "<matplotlib.figure.Figure at 0x1118fd490>"
      ]
     },
     "metadata": {},
     "output_type": "display_data"
    }
   ],
   "source": [
    "#Ploting linear regression results for a specifc data range\n",
    "predictions_frame['2014-09-01 13:45:00':'2014-09-03 23:15:00'].plot()\n",
    "plt.xlabel('Time')\n",
    "plt.ylabel('AC Power [w]')\n",
    "plt.ylim([0,1700])\n",
    "plt.show()"
   ]
  },
  {
   "cell_type": "markdown",
   "metadata": {},
   "source": [
    "Importing the libraries for the square error, mean error and mean square error"
   ]
  },
  {
   "cell_type": "code",
   "execution_count": 26,
   "metadata": {
    "collapsed": true
   },
   "outputs": [],
   "source": [
    "#importing metrics for the data error \n",
    "from sklearn.metrics import mean_absolute_error,mean_squared_error,r2_score"
   ]
  },
  {
   "cell_type": "markdown",
   "metadata": {},
   "source": [
    "Calculating the squared error, mean absolute error and mean squared absuluted error"
   ]
  },
  {
   "cell_type": "code",
   "execution_count": 17,
   "metadata": {
    "collapsed": true
   },
   "outputs": [],
   "source": [
    "R2_score = r2_score(predictions_frame[\"AC_consump\"],predictions_frame[\"AC_consump_predicted\"])\n",
    "Mean_absolute=mean_absolute_error(predictions_frame[\"AC_consump\"],predictions_frame[\"AC_consump_predicted\"])\n",
    "Mean_absolute_square=mean_squared_error(predictions_frame[\"AC_consump\"],predictions_frame[\"AC_consump_predicted\"])"
   ]
  },
  {
   "cell_type": "markdown",
   "metadata": {},
   "source": [
    "Showing the results of the errors"
   ]
  },
  {
   "cell_type": "code",
   "execution_count": 16,
   "metadata": {
    "collapsed": false,
    "scrolled": true
   },
   "outputs": [
    {
     "name": "stdout",
     "output_type": "stream",
     "text": [
      " The square error of the predicted data is 0.564134889576\n",
      "\n",
      " The mean absolute error of the predicted data is 110.62194081\n",
      "\n",
      " The mean absolute square error of the predicted data is 24275.7759336\n",
      "\n"
     ]
    }
   ],
   "source": [
    "#showing results of data error\n",
    "print \" The square error of the predicted data is \"+str(R2_score)+\"\\n\"\n",
    "print \" The mean absolute error of the predicted data is \"+str(Mean_absolute)+\"\\n\"\n",
    "print \" The mean absolute square error of the predicted data is \"+str(Mean_absolute_square)+\"\\n\"\n",
    "\n"
   ]
  },
  {
   "cell_type": "code",
   "execution_count": null,
   "metadata": {
    "collapsed": true
   },
   "outputs": [],
   "source": []
  }
 ],
 "metadata": {
  "kernelspec": {
   "display_name": "Python 2",
   "language": "python",
   "name": "python2"
  },
  "language_info": {
   "codemirror_mode": {
    "name": "ipython",
    "version": 2
   },
   "file_extension": ".py",
   "mimetype": "text/x-python",
   "name": "python",
   "nbconvert_exporter": "python",
   "pygments_lexer": "ipython2",
   "version": "2.7.13"
  }
 },
 "nbformat": 4,
 "nbformat_minor": 2
}
