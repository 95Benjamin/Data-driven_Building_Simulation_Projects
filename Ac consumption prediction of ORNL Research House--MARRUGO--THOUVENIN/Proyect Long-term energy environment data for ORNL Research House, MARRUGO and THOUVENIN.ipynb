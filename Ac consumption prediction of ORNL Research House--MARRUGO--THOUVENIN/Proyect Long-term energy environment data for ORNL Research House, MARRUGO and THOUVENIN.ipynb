{
 "cells": [
  {
   "cell_type": "markdown",
   "metadata": {
    "deletable": true,
    "editable": true
   },
   "source": [
    "# Import of libreries"
   ]
  },
  {
   "cell_type": "code",
   "execution_count": 7,
   "metadata": {
    "collapsed": true,
    "deletable": true,
    "editable": true
   },
   "outputs": [],
   "source": [
    "import numpy as np\n",
    "import pandas as pd\n",
    "import matplotlib.pyplot as plt\n",
    "plt.rcParams['figure.figsize'] = (10, 6)"
   ]
  },
  {
   "cell_type": "markdown",
   "metadata": {
    "deletable": true,
    "editable": true
   },
   "source": [
    "# Import the raw data of Proyect Long-term energy environment data for ORNL Research House"
   ]
  },
  {
   "cell_type": "code",
   "execution_count": 8,
   "metadata": {
    "collapsed": false,
    "deletable": true,
    "editable": true
   },
   "outputs": [
    {
     "name": "stderr",
     "output_type": "stream",
     "text": [
      "/Users/Marrugo/Library/Enthought/Canopy/edm/envs/User/lib/python2.7/site-packages/IPython/core/interactiveshell.py:2717: DtypeWarning: Columns (68,71,83,84,101) have mixed types. Specify dtype option on import or set low_memory=False.\n",
      "  interactivity=interactivity, compiler=compiler, result=result)\n"
     ]
    }
   ],
   "source": [
    "#Data import \n",
    "DataFolderPath = \"/Users/Marrugo/Dropbox/git_for_clone/Ac consumption prediction of ORNL Research House--MARRUGO--THOUVENIN/data_Oak_Ride_National_Laboratory.csv\"\n",
    "DF_Data_RAW = pd.read_csv(DataFolderPath,sep = \",\",index_col=0) "
   ]
  },
  {
   "cell_type": "markdown",
   "metadata": {
    "deletable": true,
    "editable": true
   },
   "source": [
    "Convert the index of the Data in datatime type"
   ]
  },
  {
   "cell_type": "code",
   "execution_count": 10,
   "metadata": {
    "collapsed": true,
    "deletable": true,
    "editable": true
   },
   "outputs": [],
   "source": [
    "previousIndex= DF_Data_RAW.index\n",
    "NewparsedIndex = pd.to_datetime(previousIndex)\n",
    "DF_Data_RAW.index= NewparsedIndex"
   ]
  },
  {
   "cell_type": "markdown",
   "metadata": {
    "deletable": true,
    "editable": true
   },
   "source": [
    "# Definition of functions"
   ]
  },
  {
   "cell_type": "markdown",
   "metadata": {
    "deletable": true,
    "editable": true
   },
   "source": [
    "Function of lagged data for one column"
   ]
  },
  {
   "cell_type": "code",
   "execution_count": 16,
   "metadata": {
    "collapsed": true,
    "deletable": true,
    "editable": true
   },
   "outputs": [],
   "source": [
    "def lag_column(df,column_name,lag_period=1):\n",
    "    for i in range(1,lag_period+1,1):\n",
    "        new_column_name = column_name+\"-\"+str(i)+\"hour\"\n",
    "        df[new_column_name]=df[column_name].shift(i)\n",
    "    return df"
   ]
  },
  {
   "cell_type": "markdown",
   "metadata": {
    "deletable": true,
    "editable": true
   },
   "source": [
    "Function of lagged data for all columns"
   ]
  },
  {
   "cell_type": "code",
   "execution_count": 18,
   "metadata": {
    "collapsed": true,
    "deletable": true,
    "editable": true
   },
   "outputs": [],
   "source": [
    "def lag_columnall(df,delay,lag_period=1):\n",
    "    for column_name in df.columns.tolist():\n",
    "        for i in range(1*delay,lag_period+delay-1,1):\n",
    "            new_column_name = column_name+\"-\"+str(i)+\"hour\"\n",
    "            df[new_column_name]=df[column_name].shift(i)\n",
    "    return df"
   ]
  },
  {
   "cell_type": "markdown",
   "metadata": {
    "deletable": true,
    "editable": true
   },
   "source": [
    "Function of time features for the data "
   ]
  },
  {
   "cell_type": "code",
   "execution_count": 4,
   "metadata": {
    "collapsed": true,
    "deletable": true,
    "editable": true
   },
   "outputs": [],
   "source": [
    "def features_creation(df):\n",
    "    # creatures time based features from pandas dataframe\n",
    "    # such hour of day, weekday/weekend, day/night and so on\n",
    "    # sin hour and cos hour as just indirect representation of time of day\n",
    "    df['sin_hour'] = np.sin((df.index.hour)*2*np.pi/24)\n",
    "    df['cos_hour'] = np.cos((df.index.hour)*2*np.pi/24)#later try 24 vector binary format\n",
    "    df['hour'] = df.index.hour # 0 to 23\n",
    "    df['minute'] = df.index.minute # 00 to 59\n",
    "    df['day_of_week'] = df.index.dayofweek #Monday = 0, sunday = 6\n",
    "    df['weekend'] = [ 1 if day in (5, 6) else 0 for day in df.index.dayofweek ] # 1 for weekend and 0 for weekdays\n",
    "    df['month'] = df.index.month\n",
    "    df['week_of_year'] = df.index.week\n",
    "    # day = 1 if(10Hrs -19Hrs) and Night = 0 (otherwise)\n",
    "    df['day_night'] = [1 if day<20 and day>9 else 0 for day in df.index.hour ]\n",
    "    return df"
   ]
  },
  {
   "cell_type": "markdown",
   "metadata": {},
   "source": [
    "# Converting data from 15 min samplesto 1h samples"
   ]
  },
  {
   "cell_type": "markdown",
   "metadata": {},
   "source": [
    "Adding time features to the data"
   ]
  },
  {
   "cell_type": "code",
   "execution_count": 68,
   "metadata": {
    "collapsed": false,
    "scrolled": true
   },
   "outputs": [],
   "source": [
    "#RAW data with time features\n",
    "DF_Data_features=features_creation(DF_Data_RAW)"
   ]
  },
  {
   "cell_type": "markdown",
   "metadata": {},
   "source": [
    "Selecting the data for each hour (#:00) where # is from 0 to 23"
   ]
  },
  {
   "cell_type": "code",
   "execution_count": 69,
   "metadata": {
    "collapsed": true
   },
   "outputs": [],
   "source": [
    "#Selecting the data of each hour\n",
    "DF_Data_hour=DF_Data_features.loc[DF_Data_features['minute'] == 0]"
   ]
  },
  {
   "cell_type": "markdown",
   "metadata": {},
   "source": [
    "Deleting time features"
   ]
  },
  {
   "cell_type": "code",
   "execution_count": 70,
   "metadata": {
    "collapsed": true
   },
   "outputs": [],
   "source": [
    "#Deleting the time features\n",
    "DF_data_raw_hour=DF_Data_hour.drop([\"RECORD\",\"sin_hour\",\"hour\",\"minute\",\"cos_hour\",\"day_of_week\",\"weekend\",\"month\",\"week_of_year\",\"day_night\"],axis=1)\n"
   ]
  },
  {
   "cell_type": "markdown",
   "metadata": {},
   "source": [
    "Creating a copy of the data"
   ]
  },
  {
   "cell_type": "code",
   "execution_count": 71,
   "metadata": {
    "collapsed": true
   },
   "outputs": [],
   "source": [
    "#creating copy for the data\n",
    "DF_data_raw_24=DF_data_raw_hour.copy()"
   ]
  },
  {
   "cell_type": "markdown",
   "metadata": {
    "deletable": true,
    "editable": true
   },
   "source": [
    "# Creating lagged data for 9 hours"
   ]
  },
  {
   "cell_type": "code",
   "execution_count": 19,
   "metadata": {
    "collapsed": false,
    "deletable": true,
    "editable": true
   },
   "outputs": [],
   "source": [
    "#Data lagged for 9 hours\n",
    "DF_data_raw_hour_lagged=lag_columnall(DF_data_raw_hour,1,9)\n",
    "#Data type conversion\n",
    "DF_for_correlation=DF_data_raw_hour_lagged.astype(\"float64\")"
   ]
  },
  {
   "cell_type": "markdown",
   "metadata": {
    "deletable": true,
    "editable": true
   },
   "source": [
    "# Correlation of the lagged data"
   ]
  },
  {
   "cell_type": "markdown",
   "metadata": {
    "deletable": true,
    "editable": true
   },
   "source": [
    "Correlating the data"
   ]
  },
  {
   "cell_type": "code",
   "execution_count": 95,
   "metadata": {
    "collapsed": true,
    "deletable": true,
    "editable": true
   },
   "outputs": [],
   "source": [
    "#correlation of data\n",
    "correlation=DF_for_correlation.corr()"
   ]
  },
  {
   "cell_type": "markdown",
   "metadata": {
    "deletable": true,
    "editable": true
   },
   "source": [
    "Saving the correlation in a .CSV file"
   ]
  },
  {
   "cell_type": "code",
   "execution_count": 29,
   "metadata": {
    "collapsed": true,
    "deletable": true,
    "editable": true
   },
   "outputs": [],
   "source": [
    "DataFolderPath1 = \"/Users/Marrugo/Dropbox/git_for_clone/Ac consumption prediction of ORNL Research House--MARRUGO--THOUVENIN/data_correlation.csv\"\n",
    "correlation.to_csv(DataFolderPath1,sep = \",\") "
   ]
  },
  {
   "cell_type": "markdown",
   "metadata": {
    "deletable": true,
    "editable": true
   },
   "source": [
    "# Data selection of good correlation"
   ]
  },
  {
   "cell_type": "markdown",
   "metadata": {
    "deletable": true,
    "editable": true
   },
   "source": [
    "Selecting the output data that is the total Heat pump consumption of the house "
   ]
  },
  {
   "cell_type": "code",
   "execution_count": 21,
   "metadata": {
    "collapsed": true,
    "deletable": true,
    "editable": true
   },
   "outputs": [],
   "source": [
    "#Data selection\n",
    "DF_HP_energy=DF_data_raw_hour[[\"HP_out_Tot\"]]"
   ]
  },
  {
   "cell_type": "markdown",
   "metadata": {
    "deletable": true,
    "editable": true
   },
   "source": [
    "Selecting the input data from the Raw data (Energy consumption, Temperature, relativity humidity, wind speed, solar radiation, precipitation, roof relative humidity, roof temperature, attic relative humidity, temperature of floor 1 and temperature of floor 2)"
   ]
  },
  {
   "cell_type": "code",
   "execution_count": 22,
   "metadata": {
    "collapsed": true,
    "deletable": true,
    "editable": true
   },
   "outputs": [],
   "source": [
    "\n",
    "DF_TotalEnergy=DF_data_raw_hour[[\"main_Tot\"]]\n",
    "DF_Input1=DF_data_raw_hour.loc[:,\"Outside_Tmp_Avg\":\"wind_speed_mean\"]\n",
    "DF_solar_radiation=DF_data_raw_hour[[\"SlrW1_Avg\"]]\n",
    "DF_Precipitation=DF_data_raw_hour[[\"Rain_in_Tot\"]]\n",
    "DF_RH_lvl1=DF_data_raw_hour[[\"LVL1_RH_Avg\"]]\n",
    "DF_RH_lvl2=DF_data_raw_hour[[\"LVL2_RH_Avg\"]]\n",
    "DF_WallNava_RH=DF_data_raw_hour[[\"WallNcav_RH_Avg\"]]\n",
    "DF_RoofN_RH=DF_data_raw_hour[[\"RoofN_RH_Avg\"]]\n",
    "DF_Roofn_tmp=DF_data_raw_hour[[\"RoofN_tmp_Avg\"]]"
   ]
  },
  {
   "cell_type": "markdown",
   "metadata": {
    "deletable": true,
    "editable": true
   },
   "source": [
    "Combining the output data and the input data"
   ]
  },
  {
   "cell_type": "code",
   "execution_count": 55,
   "metadata": {
    "collapsed": true,
    "deletable": true,
    "editable": true
   },
   "outputs": [],
   "source": [
    "#Data selected compilation\n",
    "DF_Data_selected=pd.concat([DF_HP_energy,DF_TotalEnergy,DF_Input1,DF_solar_radiation,DF_Roofn_tmp,DF_RoofN_RH,DF_Precipitation,DF_WallNava_RH,DF_RH_lvl2,DF_RH_lvl1], axis=1)\n"
   ]
  },
  {
   "cell_type": "markdown",
   "metadata": {
    "deletable": true,
    "editable": true
   },
   "source": [
    "Cleaning the non value data"
   ]
  },
  {
   "cell_type": "code",
   "execution_count": 56,
   "metadata": {
    "collapsed": true,
    "deletable": true,
    "editable": true
   },
   "outputs": [],
   "source": [
    "DF_Data_selected_clean = DF_Data_selected.dropna()"
   ]
  },
  {
   "cell_type": "markdown",
   "metadata": {
    "deletable": true,
    "editable": true
   },
   "source": [
    "Converting the data to float64 to do the correlation"
   ]
  },
  {
   "cell_type": "code",
   "execution_count": 57,
   "metadata": {
    "collapsed": true,
    "deletable": true,
    "editable": true
   },
   "outputs": [],
   "source": [
    "#Data conversion \n",
    "DF_Data_selected_float64=DF_Data_selected_clean.astype(\"float64\")"
   ]
  },
  {
   "cell_type": "markdown",
   "metadata": {
    "deletable": true,
    "editable": true
   },
   "source": [
    "Adding the time base features to data"
   ]
  },
  {
   "cell_type": "code",
   "execution_count": 58,
   "metadata": {
    "collapsed": true,
    "deletable": true,
    "editable": true
   },
   "outputs": [],
   "source": [
    "#Changing the name of the columns \n",
    "Data_final=features_creation(DF_Data_selected_float64)"
   ]
  },
  {
   "cell_type": "markdown",
   "metadata": {
    "deletable": true,
    "editable": true
   },
   "source": [
    "Replacing the name of the columns"
   ]
  },
  {
   "cell_type": "code",
   "execution_count": 59,
   "metadata": {
    "collapsed": false,
    "deletable": true,
    "editable": true
   },
   "outputs": [],
   "source": [
    "Data_final.rename(columns = {'main_Tot':\"AC_consump\"},inplace=True)\n",
    "Data_final.rename(columns = {'HP_out_Tot':\"HP_consump\"},inplace=True)\n",
    "Data_final.rename(columns = {'Outside_Tmp_Avg':\"Temperature_Avg\"},inplace=True)\n",
    "Data_final.rename(columns = {'Outside_RH_Avg':\"Relative_Humidity\"},inplace=True)\n",
    "Data_final.rename(columns = {'SlrW1_Avg':\"Solar_radiation\"},inplace=True)\n",
    "Data_final.rename(columns = {'Rain_in_Tot':\"Precipitation\"},inplace=True)\n",
    "Data_final.rename(columns = {'LVL1_RH_Avg':\"RH_lvl1\"},inplace=True)\n",
    "Data_final.rename(columns = {'LVL2_RH_Avg':\"RH_lvl2\"},inplace=True)\n",
    "Data_final.rename(columns = {'WallNcav_RH_Avg':\"RH_roof_cavity\"},inplace=True)\n",
    "Data_final.rename(columns = {'RoofN_RH_Avg':\"RH_roof_north\"},inplace=True)\n",
    "Data_final.rename(columns = {'RoofN_tmp_Avg':\"RH_temp_notth\"},inplace=True)"
   ]
  },
  {
   "cell_type": "markdown",
   "metadata": {
    "deletable": true,
    "editable": true
   },
   "source": [
    "Showing the first 5 rows of the final data"
   ]
  },
  {
   "cell_type": "code",
   "execution_count": 65,
   "metadata": {
    "collapsed": false,
    "deletable": true,
    "editable": true
   },
   "outputs": [
    {
     "data": {
      "text/html": [
       "<div>\n",
       "<table border=\"1\" class=\"dataframe\">\n",
       "  <thead>\n",
       "    <tr style=\"text-align: right;\">\n",
       "      <th></th>\n",
       "      <th>HP_consump</th>\n",
       "      <th>AC_consump</th>\n",
       "      <th>Temperature_Avg</th>\n",
       "      <th>Relative_Humidity</th>\n",
       "      <th>wind_speed_mean</th>\n",
       "      <th>Solar_radiation</th>\n",
       "      <th>RH_temp_notth</th>\n",
       "      <th>RH_roof_north</th>\n",
       "      <th>Precipitation</th>\n",
       "      <th>RH_roof_cavity</th>\n",
       "      <th>...</th>\n",
       "      <th>RH_lvl1</th>\n",
       "      <th>sin_hour</th>\n",
       "      <th>cos_hour</th>\n",
       "      <th>hour</th>\n",
       "      <th>minute</th>\n",
       "      <th>day_of_week</th>\n",
       "      <th>weekend</th>\n",
       "      <th>month</th>\n",
       "      <th>week_of_year</th>\n",
       "      <th>day_night</th>\n",
       "    </tr>\n",
       "    <tr>\n",
       "      <th>TIMESTAMP</th>\n",
       "      <th></th>\n",
       "      <th></th>\n",
       "      <th></th>\n",
       "      <th></th>\n",
       "      <th></th>\n",
       "      <th></th>\n",
       "      <th></th>\n",
       "      <th></th>\n",
       "      <th></th>\n",
       "      <th></th>\n",
       "      <th></th>\n",
       "      <th></th>\n",
       "      <th></th>\n",
       "      <th></th>\n",
       "      <th></th>\n",
       "      <th></th>\n",
       "      <th></th>\n",
       "      <th></th>\n",
       "      <th></th>\n",
       "      <th></th>\n",
       "      <th></th>\n",
       "    </tr>\n",
       "  </thead>\n",
       "  <tbody>\n",
       "    <tr>\n",
       "      <th>2013-10-01 01:00:00</th>\n",
       "      <td>16.50</td>\n",
       "      <td>165.0</td>\n",
       "      <td>59.66</td>\n",
       "      <td>93.5</td>\n",
       "      <td>0.0</td>\n",
       "      <td>0.003</td>\n",
       "      <td>61.71</td>\n",
       "      <td>60.91</td>\n",
       "      <td>0.0</td>\n",
       "      <td>64.23</td>\n",
       "      <td>...</td>\n",
       "      <td>52.15</td>\n",
       "      <td>0.258819</td>\n",
       "      <td>0.965926</td>\n",
       "      <td>1</td>\n",
       "      <td>0</td>\n",
       "      <td>1</td>\n",
       "      <td>0</td>\n",
       "      <td>10</td>\n",
       "      <td>40</td>\n",
       "      <td>0</td>\n",
       "    </tr>\n",
       "    <tr>\n",
       "      <th>2013-10-01 02:00:00</th>\n",
       "      <td>15.75</td>\n",
       "      <td>170.0</td>\n",
       "      <td>58.15</td>\n",
       "      <td>94.2</td>\n",
       "      <td>0.0</td>\n",
       "      <td>0.000</td>\n",
       "      <td>59.16</td>\n",
       "      <td>62.95</td>\n",
       "      <td>0.0</td>\n",
       "      <td>64.49</td>\n",
       "      <td>...</td>\n",
       "      <td>51.83</td>\n",
       "      <td>0.500000</td>\n",
       "      <td>0.866025</td>\n",
       "      <td>2</td>\n",
       "      <td>0</td>\n",
       "      <td>1</td>\n",
       "      <td>0</td>\n",
       "      <td>10</td>\n",
       "      <td>40</td>\n",
       "      <td>0</td>\n",
       "    </tr>\n",
       "    <tr>\n",
       "      <th>2013-10-01 03:00:00</th>\n",
       "      <td>15.75</td>\n",
       "      <td>157.5</td>\n",
       "      <td>56.57</td>\n",
       "      <td>94.0</td>\n",
       "      <td>0.0</td>\n",
       "      <td>0.000</td>\n",
       "      <td>57.38</td>\n",
       "      <td>64.16</td>\n",
       "      <td>0.0</td>\n",
       "      <td>64.70</td>\n",
       "      <td>...</td>\n",
       "      <td>51.94</td>\n",
       "      <td>0.707107</td>\n",
       "      <td>0.707107</td>\n",
       "      <td>3</td>\n",
       "      <td>0</td>\n",
       "      <td>1</td>\n",
       "      <td>0</td>\n",
       "      <td>10</td>\n",
       "      <td>40</td>\n",
       "      <td>0</td>\n",
       "    </tr>\n",
       "    <tr>\n",
       "      <th>2013-10-01 04:00:00</th>\n",
       "      <td>15.75</td>\n",
       "      <td>157.5</td>\n",
       "      <td>56.03</td>\n",
       "      <td>94.6</td>\n",
       "      <td>0.0</td>\n",
       "      <td>0.000</td>\n",
       "      <td>55.73</td>\n",
       "      <td>65.39</td>\n",
       "      <td>0.0</td>\n",
       "      <td>65.10</td>\n",
       "      <td>...</td>\n",
       "      <td>51.87</td>\n",
       "      <td>0.866025</td>\n",
       "      <td>0.500000</td>\n",
       "      <td>4</td>\n",
       "      <td>0</td>\n",
       "      <td>1</td>\n",
       "      <td>0</td>\n",
       "      <td>10</td>\n",
       "      <td>40</td>\n",
       "      <td>0</td>\n",
       "    </tr>\n",
       "    <tr>\n",
       "      <th>2013-10-01 05:00:00</th>\n",
       "      <td>16.50</td>\n",
       "      <td>172.5</td>\n",
       "      <td>55.18</td>\n",
       "      <td>94.7</td>\n",
       "      <td>0.0</td>\n",
       "      <td>0.000</td>\n",
       "      <td>54.52</td>\n",
       "      <td>66.12</td>\n",
       "      <td>0.0</td>\n",
       "      <td>65.35</td>\n",
       "      <td>...</td>\n",
       "      <td>51.56</td>\n",
       "      <td>0.965926</td>\n",
       "      <td>0.258819</td>\n",
       "      <td>5</td>\n",
       "      <td>0</td>\n",
       "      <td>1</td>\n",
       "      <td>0</td>\n",
       "      <td>10</td>\n",
       "      <td>40</td>\n",
       "      <td>0</td>\n",
       "    </tr>\n",
       "  </tbody>\n",
       "</table>\n",
       "<p>5 rows × 21 columns</p>\n",
       "</div>"
      ],
      "text/plain": [
       "                     HP_consump  AC_consump  Temperature_Avg  \\\n",
       "TIMESTAMP                                                      \n",
       "2013-10-01 01:00:00       16.50       165.0            59.66   \n",
       "2013-10-01 02:00:00       15.75       170.0            58.15   \n",
       "2013-10-01 03:00:00       15.75       157.5            56.57   \n",
       "2013-10-01 04:00:00       15.75       157.5            56.03   \n",
       "2013-10-01 05:00:00       16.50       172.5            55.18   \n",
       "\n",
       "                     Relative_Humidity  wind_speed_mean  Solar_radiation  \\\n",
       "TIMESTAMP                                                                  \n",
       "2013-10-01 01:00:00               93.5              0.0            0.003   \n",
       "2013-10-01 02:00:00               94.2              0.0            0.000   \n",
       "2013-10-01 03:00:00               94.0              0.0            0.000   \n",
       "2013-10-01 04:00:00               94.6              0.0            0.000   \n",
       "2013-10-01 05:00:00               94.7              0.0            0.000   \n",
       "\n",
       "                     RH_temp_notth  RH_roof_north  Precipitation  \\\n",
       "TIMESTAMP                                                          \n",
       "2013-10-01 01:00:00          61.71          60.91            0.0   \n",
       "2013-10-01 02:00:00          59.16          62.95            0.0   \n",
       "2013-10-01 03:00:00          57.38          64.16            0.0   \n",
       "2013-10-01 04:00:00          55.73          65.39            0.0   \n",
       "2013-10-01 05:00:00          54.52          66.12            0.0   \n",
       "\n",
       "                     RH_roof_cavity    ...      RH_lvl1  sin_hour  cos_hour  \\\n",
       "TIMESTAMP                              ...                                    \n",
       "2013-10-01 01:00:00           64.23    ...        52.15  0.258819  0.965926   \n",
       "2013-10-01 02:00:00           64.49    ...        51.83  0.500000  0.866025   \n",
       "2013-10-01 03:00:00           64.70    ...        51.94  0.707107  0.707107   \n",
       "2013-10-01 04:00:00           65.10    ...        51.87  0.866025  0.500000   \n",
       "2013-10-01 05:00:00           65.35    ...        51.56  0.965926  0.258819   \n",
       "\n",
       "                     hour  minute  day_of_week  weekend  month  week_of_year  \\\n",
       "TIMESTAMP                                                                      \n",
       "2013-10-01 01:00:00     1       0            1        0     10            40   \n",
       "2013-10-01 02:00:00     2       0            1        0     10            40   \n",
       "2013-10-01 03:00:00     3       0            1        0     10            40   \n",
       "2013-10-01 04:00:00     4       0            1        0     10            40   \n",
       "2013-10-01 05:00:00     5       0            1        0     10            40   \n",
       "\n",
       "                     day_night  \n",
       "TIMESTAMP                       \n",
       "2013-10-01 01:00:00          0  \n",
       "2013-10-01 02:00:00          0  \n",
       "2013-10-01 03:00:00          0  \n",
       "2013-10-01 04:00:00          0  \n",
       "2013-10-01 05:00:00          0  \n",
       "\n",
       "[5 rows x 21 columns]"
      ]
     },
     "execution_count": 65,
     "metadata": {},
     "output_type": "execute_result"
    }
   ],
   "source": [
    "Data_final.head()"
   ]
  },
  {
   "cell_type": "markdown",
   "metadata": {},
   "source": [
    "Creating a copy of the dataframe with the final data"
   ]
  },
  {
   "cell_type": "code",
   "execution_count": 66,
   "metadata": {
    "collapsed": true
   },
   "outputs": [],
   "source": [
    "#copying dataframe \n",
    "Data_final24=Data_final.copy()"
   ]
  },
  {
   "cell_type": "markdown",
   "metadata": {
    "deletable": true,
    "editable": true
   },
   "source": [
    "# Data lagged selected"
   ]
  },
  {
   "cell_type": "markdown",
   "metadata": {
    "deletable": true,
    "editable": true
   },
   "source": [
    "Adding the best correlated lagged data with respect to the Heat pump consumption to the final data for 1 hr lag"
   ]
  },
  {
   "cell_type": "code",
   "execution_count": 30,
   "metadata": {
    "collapsed": false,
    "deletable": true,
    "editable": true
   },
   "outputs": [],
   "source": [
    "#solar radiation lagged data\n",
    "Data_final[\"Solar_radiation-9 hrs\"]=Data_final[\"Solar_radiation\"].shift(9)\n",
    "Data_final[\"Solar_radiation-10 hrs\"]=Data_final[\"Solar_radiation\"].shift(10)\n",
    "Data_final[\"Solar_radiation-8 hrs\"]=Data_final[\"Solar_radiation\"].shift(8)\n",
    "\n",
    "#Energy consumption lagged data\n",
    "Data_final[\"AC_consump-1 hrs\"]=Data_final[\"AC_consump\"].shift(1)\n",
    "#Energy of heat pump lagged data\n",
    "Data_final[\"HP_consump-1 hrs\"]=Data_final[\"HP_consump\"].shift(1)\n",
    "\n",
    "#temperature lagged data\n",
    "Data_final[\"Temperature_Avg-3 hrs\"]=Data_final[\"Temperature_Avg\"].shift(3)\n",
    "Data_final[\"Temperature_Avg-2 hrs\"]=Data_final[\"Temperature_Avg\"].shift(2)\n",
    "Data_final[\"Temperature_Avg-1 hrs\"]=Data_final[\"Temperature_Avg\"].shift(1)\n",
    "\n",
    "#relative humidity lagged data\n",
    "Data_final[\"Relative_Humidity-9 hrs\"]=Data_final[\"Relative_Humidity\"].shift(9)\n",
    "Data_final[\"Relative_Humidity-8 hrs\"]=Data_final[\"Relative_Humidity\"].shift(8)\n",
    "Data_final[\"Relative_Humidity-10 hrs\"]=Data_final[\"Relative_Humidity\"].shift(10)\n",
    "\n",
    "#precipitation lagged data \n",
    "Data_final[\"Precipitation-5 hrs\"]=Data_final[\"Precipitation\"].shift(5)\n",
    "Data_final[\"Precipitation-2 hrs\"]=Data_final[\"Precipitation\"].shift(2)\n",
    "\n",
    "#Roof north relative humidity lagged data \n",
    "Data_final[\"RH_roof_north-1 hrs\"]=Data_final[\"RH_roof_north\"].shift(1)\n",
    "Data_final[\"RH_roof_north-2 hrs\"]=Data_final[\"RH_roof_north\"].shift(2)\n",
    "\n",
    "#Roof north temperature lagged data \n",
    "Data_final[\"RH_temp_notth-9 hrs\"]=Data_final[\"RH_temp_notth\"].shift(9)\n",
    "Data_final[\"RH_temp_notth-8 hrs\"]=Data_final[\"RH_temp_notth\"].shift(8)\n",
    "\n",
    "#Relative humidity of story 1 lagged data \n",
    "Data_final[\"RH_lvl1-1 hrs\"]=Data_final[\"RH_lvl1\"].shift(1)\n",
    "\n",
    "#Relative humidity of story 2  lagged data \n",
    "Data_final[\"RH_lvl2-1 hrs\"]=Data_final[\"RH_lvl2\"].shift(1)\n",
    "\n",
    "#Relative humidity of the roof cavity lagged data \n",
    "Data_final[\"RH_roof_cavity-3 hrs\"]=Data_final[\"RH_roof_cavity\"].shift(3)\n",
    "Data_final[\"RH_roof_cavity-1 hrs\"]=Data_final[\"RH_roof_cavity\"].shift(1)"
   ]
  },
  {
   "cell_type": "markdown",
   "metadata": {
    "deletable": true,
    "editable": true
   },
   "source": [
    "Organize the final data according with the lagged made"
   ]
  },
  {
   "cell_type": "code",
   "execution_count": 31,
   "metadata": {
    "collapsed": true,
    "deletable": true,
    "editable": true
   },
   "outputs": [],
   "source": [
    "#Final data for linear regression \n",
    "Data_final.dropna(inplace=True)"
   ]
  },
  {
   "cell_type": "markdown",
   "metadata": {
    "deletable": true,
    "editable": true
   },
   "source": [
    "Showing the first 5 rows of the final data with the lagged data"
   ]
  },
  {
   "cell_type": "code",
   "execution_count": 32,
   "metadata": {
    "collapsed": false,
    "deletable": true,
    "editable": true
   },
   "outputs": [
    {
     "data": {
      "text/html": [
       "<div>\n",
       "<table border=\"1\" class=\"dataframe\">\n",
       "  <thead>\n",
       "    <tr style=\"text-align: right;\">\n",
       "      <th></th>\n",
       "      <th>HP_consump</th>\n",
       "      <th>AC_consump</th>\n",
       "      <th>Temperature_Avg</th>\n",
       "      <th>Relative_Humidity</th>\n",
       "      <th>wind_speed_mean</th>\n",
       "      <th>Solar_radiation</th>\n",
       "      <th>RH_temp_notth</th>\n",
       "      <th>RH_roof_north</th>\n",
       "      <th>Precipitation</th>\n",
       "      <th>RH_roof_cavity</th>\n",
       "      <th>...</th>\n",
       "      <th>Precipitation-5 hrs</th>\n",
       "      <th>Precipitation-2 hrs</th>\n",
       "      <th>RH_roof_north-1 hrs</th>\n",
       "      <th>RH_roof_north-2 hrs</th>\n",
       "      <th>RH_temp_notth-9 hrs</th>\n",
       "      <th>RH_temp_notth-8 hrs</th>\n",
       "      <th>RH_lvl1-1 hrs</th>\n",
       "      <th>RH_lvl2-1 hrs</th>\n",
       "      <th>RH_roof_cavity-3 hrs</th>\n",
       "      <th>RH_roof_cavity-1 hrs</th>\n",
       "    </tr>\n",
       "    <tr>\n",
       "      <th>TIMESTAMP</th>\n",
       "      <th></th>\n",
       "      <th></th>\n",
       "      <th></th>\n",
       "      <th></th>\n",
       "      <th></th>\n",
       "      <th></th>\n",
       "      <th></th>\n",
       "      <th></th>\n",
       "      <th></th>\n",
       "      <th></th>\n",
       "      <th></th>\n",
       "      <th></th>\n",
       "      <th></th>\n",
       "      <th></th>\n",
       "      <th></th>\n",
       "      <th></th>\n",
       "      <th></th>\n",
       "      <th></th>\n",
       "      <th></th>\n",
       "      <th></th>\n",
       "      <th></th>\n",
       "    </tr>\n",
       "  </thead>\n",
       "  <tbody>\n",
       "    <tr>\n",
       "      <th>2013-10-01 11:00:00</th>\n",
       "      <td>16.5</td>\n",
       "      <td>707.5</td>\n",
       "      <td>66.24</td>\n",
       "      <td>82.00</td>\n",
       "      <td>0.000</td>\n",
       "      <td>148.1</td>\n",
       "      <td>68.97</td>\n",
       "      <td>56.30</td>\n",
       "      <td>0.0</td>\n",
       "      <td>66.61</td>\n",
       "      <td>...</td>\n",
       "      <td>0.0</td>\n",
       "      <td>0.0</td>\n",
       "      <td>59.73</td>\n",
       "      <td>62.14</td>\n",
       "      <td>59.16</td>\n",
       "      <td>57.38</td>\n",
       "      <td>51.42</td>\n",
       "      <td>50.88</td>\n",
       "      <td>66.30</td>\n",
       "      <td>66.60</td>\n",
       "    </tr>\n",
       "    <tr>\n",
       "      <th>2013-10-01 12:00:00</th>\n",
       "      <td>16.5</td>\n",
       "      <td>155.0</td>\n",
       "      <td>72.49</td>\n",
       "      <td>67.50</td>\n",
       "      <td>1.576</td>\n",
       "      <td>622.6</td>\n",
       "      <td>83.50</td>\n",
       "      <td>49.19</td>\n",
       "      <td>0.0</td>\n",
       "      <td>66.53</td>\n",
       "      <td>...</td>\n",
       "      <td>0.0</td>\n",
       "      <td>0.0</td>\n",
       "      <td>56.30</td>\n",
       "      <td>59.73</td>\n",
       "      <td>57.38</td>\n",
       "      <td>55.73</td>\n",
       "      <td>51.71</td>\n",
       "      <td>51.00</td>\n",
       "      <td>66.58</td>\n",
       "      <td>66.61</td>\n",
       "    </tr>\n",
       "    <tr>\n",
       "      <th>2013-10-01 13:00:00</th>\n",
       "      <td>16.5</td>\n",
       "      <td>122.5</td>\n",
       "      <td>74.44</td>\n",
       "      <td>64.15</td>\n",
       "      <td>2.178</td>\n",
       "      <td>530.2</td>\n",
       "      <td>97.30</td>\n",
       "      <td>40.68</td>\n",
       "      <td>0.0</td>\n",
       "      <td>66.14</td>\n",
       "      <td>...</td>\n",
       "      <td>0.0</td>\n",
       "      <td>0.0</td>\n",
       "      <td>49.19</td>\n",
       "      <td>56.30</td>\n",
       "      <td>55.73</td>\n",
       "      <td>54.52</td>\n",
       "      <td>52.34</td>\n",
       "      <td>51.17</td>\n",
       "      <td>66.60</td>\n",
       "      <td>66.53</td>\n",
       "    </tr>\n",
       "    <tr>\n",
       "      <th>2013-10-01 14:00:00</th>\n",
       "      <td>225.0</td>\n",
       "      <td>372.5</td>\n",
       "      <td>77.37</td>\n",
       "      <td>57.79</td>\n",
       "      <td>1.566</td>\n",
       "      <td>667.3</td>\n",
       "      <td>102.90</td>\n",
       "      <td>37.19</td>\n",
       "      <td>0.0</td>\n",
       "      <td>65.60</td>\n",
       "      <td>...</td>\n",
       "      <td>0.0</td>\n",
       "      <td>0.0</td>\n",
       "      <td>40.68</td>\n",
       "      <td>49.19</td>\n",
       "      <td>54.52</td>\n",
       "      <td>53.62</td>\n",
       "      <td>51.84</td>\n",
       "      <td>51.18</td>\n",
       "      <td>66.61</td>\n",
       "      <td>66.14</td>\n",
       "    </tr>\n",
       "    <tr>\n",
       "      <th>2013-10-01 15:00:00</th>\n",
       "      <td>81.0</td>\n",
       "      <td>215.0</td>\n",
       "      <td>78.34</td>\n",
       "      <td>54.72</td>\n",
       "      <td>2.492</td>\n",
       "      <td>622.0</td>\n",
       "      <td>104.70</td>\n",
       "      <td>35.35</td>\n",
       "      <td>0.0</td>\n",
       "      <td>65.11</td>\n",
       "      <td>...</td>\n",
       "      <td>0.0</td>\n",
       "      <td>0.0</td>\n",
       "      <td>37.19</td>\n",
       "      <td>40.68</td>\n",
       "      <td>53.62</td>\n",
       "      <td>53.71</td>\n",
       "      <td>48.97</td>\n",
       "      <td>50.43</td>\n",
       "      <td>66.53</td>\n",
       "      <td>65.60</td>\n",
       "    </tr>\n",
       "  </tbody>\n",
       "</table>\n",
       "<p>5 rows × 42 columns</p>\n",
       "</div>"
      ],
      "text/plain": [
       "                     HP_consump  AC_consump  Temperature_Avg  \\\n",
       "TIMESTAMP                                                      \n",
       "2013-10-01 11:00:00        16.5       707.5            66.24   \n",
       "2013-10-01 12:00:00        16.5       155.0            72.49   \n",
       "2013-10-01 13:00:00        16.5       122.5            74.44   \n",
       "2013-10-01 14:00:00       225.0       372.5            77.37   \n",
       "2013-10-01 15:00:00        81.0       215.0            78.34   \n",
       "\n",
       "                     Relative_Humidity  wind_speed_mean  Solar_radiation  \\\n",
       "TIMESTAMP                                                                  \n",
       "2013-10-01 11:00:00              82.00            0.000            148.1   \n",
       "2013-10-01 12:00:00              67.50            1.576            622.6   \n",
       "2013-10-01 13:00:00              64.15            2.178            530.2   \n",
       "2013-10-01 14:00:00              57.79            1.566            667.3   \n",
       "2013-10-01 15:00:00              54.72            2.492            622.0   \n",
       "\n",
       "                     RH_temp_notth  RH_roof_north  Precipitation  \\\n",
       "TIMESTAMP                                                          \n",
       "2013-10-01 11:00:00          68.97          56.30            0.0   \n",
       "2013-10-01 12:00:00          83.50          49.19            0.0   \n",
       "2013-10-01 13:00:00          97.30          40.68            0.0   \n",
       "2013-10-01 14:00:00         102.90          37.19            0.0   \n",
       "2013-10-01 15:00:00         104.70          35.35            0.0   \n",
       "\n",
       "                     RH_roof_cavity          ...           \\\n",
       "TIMESTAMP                                    ...            \n",
       "2013-10-01 11:00:00           66.61          ...            \n",
       "2013-10-01 12:00:00           66.53          ...            \n",
       "2013-10-01 13:00:00           66.14          ...            \n",
       "2013-10-01 14:00:00           65.60          ...            \n",
       "2013-10-01 15:00:00           65.11          ...            \n",
       "\n",
       "                     Precipitation-5 hrs  Precipitation-2 hrs  \\\n",
       "TIMESTAMP                                                       \n",
       "2013-10-01 11:00:00                  0.0                  0.0   \n",
       "2013-10-01 12:00:00                  0.0                  0.0   \n",
       "2013-10-01 13:00:00                  0.0                  0.0   \n",
       "2013-10-01 14:00:00                  0.0                  0.0   \n",
       "2013-10-01 15:00:00                  0.0                  0.0   \n",
       "\n",
       "                     RH_roof_north-1 hrs  RH_roof_north-2 hrs  \\\n",
       "TIMESTAMP                                                       \n",
       "2013-10-01 11:00:00                59.73                62.14   \n",
       "2013-10-01 12:00:00                56.30                59.73   \n",
       "2013-10-01 13:00:00                49.19                56.30   \n",
       "2013-10-01 14:00:00                40.68                49.19   \n",
       "2013-10-01 15:00:00                37.19                40.68   \n",
       "\n",
       "                     RH_temp_notth-9 hrs  RH_temp_notth-8 hrs  RH_lvl1-1 hrs  \\\n",
       "TIMESTAMP                                                                      \n",
       "2013-10-01 11:00:00                59.16                57.38          51.42   \n",
       "2013-10-01 12:00:00                57.38                55.73          51.71   \n",
       "2013-10-01 13:00:00                55.73                54.52          52.34   \n",
       "2013-10-01 14:00:00                54.52                53.62          51.84   \n",
       "2013-10-01 15:00:00                53.62                53.71          48.97   \n",
       "\n",
       "                     RH_lvl2-1 hrs  RH_roof_cavity-3 hrs  RH_roof_cavity-1 hrs  \n",
       "TIMESTAMP                                                                       \n",
       "2013-10-01 11:00:00          50.88                 66.30                 66.60  \n",
       "2013-10-01 12:00:00          51.00                 66.58                 66.61  \n",
       "2013-10-01 13:00:00          51.17                 66.60                 66.53  \n",
       "2013-10-01 14:00:00          51.18                 66.61                 66.14  \n",
       "2013-10-01 15:00:00          50.43                 66.53                 65.60  \n",
       "\n",
       "[5 rows x 42 columns]"
      ]
     },
     "execution_count": 32,
     "metadata": {},
     "output_type": "execute_result"
    }
   ],
   "source": [
    "Data_final.head()"
   ]
  },
  {
   "cell_type": "markdown",
   "metadata": {
    "deletable": true,
    "editable": true
   },
   "source": [
    "# Machine learning implementation"
   ]
  },
  {
   "cell_type": "markdown",
   "metadata": {
    "deletable": true,
    "editable": true
   },
   "source": [
    "Defining the target of the random forest regression"
   ]
  },
  {
   "cell_type": "code",
   "execution_count": 33,
   "metadata": {
    "collapsed": true,
    "deletable": true,
    "editable": true
   },
   "outputs": [],
   "source": [
    "DF_target = Data_final[\"HP_consump\"]"
   ]
  },
  {
   "cell_type": "markdown",
   "metadata": {
    "deletable": true,
    "editable": true
   },
   "source": [
    "Defining the features of the random forest regression"
   ]
  },
  {
   "cell_type": "code",
   "execution_count": 34,
   "metadata": {
    "collapsed": true,
    "deletable": true,
    "editable": true
   },
   "outputs": [],
   "source": [
    "DF_features = Data_final.drop(\"HP_consump\",axis=1)"
   ]
  },
  {
   "cell_type": "markdown",
   "metadata": {
    "deletable": true,
    "editable": true
   },
   "source": [
    "Importing the train test split librery"
   ]
  },
  {
   "cell_type": "code",
   "execution_count": 35,
   "metadata": {
    "collapsed": true,
    "deletable": true,
    "editable": true
   },
   "outputs": [],
   "source": [
    "#importing train test split \n",
    "from sklearn.model_selection import train_test_split"
   ]
  },
  {
   "cell_type": "markdown",
   "metadata": {
    "deletable": true,
    "editable": true
   },
   "source": [
    "Defining the data from train and test random forest regression"
   ]
  },
  {
   "cell_type": "code",
   "execution_count": 36,
   "metadata": {
    "collapsed": true,
    "deletable": true,
    "editable": true
   },
   "outputs": [],
   "source": [
    "X_train, X_test, y_train, y_test = train_test_split(DF_features, DF_target, test_size=0.2, random_state=41234)"
   ]
  },
  {
   "cell_type": "markdown",
   "metadata": {
    "deletable": true,
    "editable": true
   },
   "source": [
    "Importing the random forest regression model librery"
   ]
  },
  {
   "cell_type": "code",
   "execution_count": 37,
   "metadata": {
    "collapsed": true,
    "deletable": true,
    "editable": true
   },
   "outputs": [],
   "source": [
    "#importing random forest regression \n",
    "from sklearn.ensemble import RandomForestRegressor\n",
    "reg = RandomForestRegressor()"
   ]
  },
  {
   "cell_type": "raw",
   "metadata": {
    "deletable": true,
    "editable": true
   },
   "source": [
    "Importing the cross validation for random forest regression "
   ]
  },
  {
   "cell_type": "code",
   "execution_count": 38,
   "metadata": {
    "collapsed": true,
    "deletable": true,
    "editable": true
   },
   "outputs": [],
   "source": [
    "#training random forest regression with cross validation \n",
    "from sklearn.model_selection import cross_val_predict"
   ]
  },
  {
   "cell_type": "markdown",
   "metadata": {
    "deletable": true,
    "editable": true
   },
   "source": [
    "Predicting data with the test data with the model of random forest"
   ]
  },
  {
   "cell_type": "code",
   "execution_count": 39,
   "metadata": {
    "collapsed": true,
    "deletable": true,
    "editable": true
   },
   "outputs": [],
   "source": [
    "predict = cross_val_predict(reg,DF_features,DF_target,cv=25)"
   ]
  },
  {
   "cell_type": "markdown",
   "metadata": {
    "deletable": true,
    "editable": true
   },
   "source": [
    "Creating a series data with the predicte data using the random forest model"
   ]
  },
  {
   "cell_type": "code",
   "execution_count": 40,
   "metadata": {
    "collapsed": true,
    "deletable": true,
    "editable": true
   },
   "outputs": [],
   "source": [
    "predictions = pd.Series(predict,index=DF_target.index).rename(\"HP_consump\"+'_predicted')"
   ]
  },
  {
   "cell_type": "markdown",
   "metadata": {
    "deletable": true,
    "editable": true
   },
   "source": [
    "Creating a data frame with the predicted data and the test data"
   ]
  },
  {
   "cell_type": "code",
   "execution_count": 41,
   "metadata": {
    "collapsed": true,
    "deletable": true,
    "editable": true
   },
   "outputs": [],
   "source": [
    "predictions_frame = predictions.to_frame()\n",
    "predictions_frame[\"HP_consump\"]=DF_target"
   ]
  },
  {
   "cell_type": "markdown",
   "metadata": {
    "deletable": true,
    "editable": true
   },
   "source": [
    "# Results"
   ]
  },
  {
   "cell_type": "markdown",
   "metadata": {
    "deletable": true,
    "editable": true
   },
   "source": [
    "Ploting the prediction and the test data for the range of date (2014-09-01:2014-09-03)"
   ]
  },
  {
   "cell_type": "code",
   "execution_count": 44,
   "metadata": {
    "collapsed": false,
    "deletable": true,
    "editable": true
   },
   "outputs": [
    {
     "data": {
      "image/png": "[encoded data removed]",
      "text/plain": [
       "<matplotlib.figure.Figure at 0x112b27390>"
      ]
     },
     "metadata": {},
     "output_type": "display_data"
    }
   ],
   "source": [
    "#Ploting linear regression results for a specifc data range\n",
    "predictions_frame['2014-09-01 13:45:00':'2014-09-03 23:15:00'].plot()\n",
    "plt.xlabel('Time')\n",
    "plt.title(\"1 hr Prediction\")\n",
    "plt.ylabel('AC Power [w]')\n",
    "plt.ylim([0,400])\n",
    "plt.show()"
   ]
  },
  {
   "cell_type": "markdown",
   "metadata": {
    "deletable": true,
    "editable": true
   },
   "source": [
    "Importing the libraries for the square error, mean error and mean square error"
   ]
  },
  {
   "cell_type": "code",
   "execution_count": 45,
   "metadata": {
    "collapsed": true,
    "deletable": true,
    "editable": true
   },
   "outputs": [],
   "source": [
    "#importing metrics for the data error \n",
    "from sklearn.metrics import mean_absolute_error,mean_squared_error,r2_score"
   ]
  },
  {
   "cell_type": "markdown",
   "metadata": {
    "deletable": true,
    "editable": true
   },
   "source": [
    "Calculating the squared error, mean absolute error and mean squared absuluted error"
   ]
  },
  {
   "cell_type": "code",
   "execution_count": 93,
   "metadata": {
    "collapsed": true,
    "deletable": true,
    "editable": true
   },
   "outputs": [],
   "source": [
    "R2_score = r2_score(predictions_frame[\"HP_consump\"],predictions_frame[\"HP_consump_predicted\"])\n",
    "Mean_absolute=mean_absolute_error(predictions_frame[\"HP_consump\"],predictions_frame[\"HP_consump_predicted\"])\n",
    "Mean_absolute_square=mean_squared_error(predictions_frame[\"HP_consump\"],predictions_frame[\"HP_consump_predicted\"])"
   ]
  },
  {
   "cell_type": "markdown",
   "metadata": {
    "deletable": true,
    "editable": true
   },
   "source": [
    "Showing the results of the errors"
   ]
  },
  {
   "cell_type": "code",
   "execution_count": 94,
   "metadata": {
    "collapsed": false,
    "deletable": true,
    "editable": true,
    "scrolled": true
   },
   "outputs": [
    {
     "name": "stdout",
     "output_type": "stream",
     "text": [
      " The square error of the predicted data for 1 hr  is 0.810105472656\n",
      "\n",
      " The mean absolute error of the predicted data for 1 hr is 27.9121771429\n",
      "\n",
      " The mean absolute square error of the predicted data for 1 hr is 2642.61587789\n",
      "\n"
     ]
    }
   ],
   "source": [
    "#showing results of data error\n",
    "print \" The square error of the predicted data for 1 hr  is \"+str(R2_score)+\"\\n\"\n",
    "print \" The mean absolute error of the predicted data for 1 hr is \"+str(Mean_absolute)+\"\\n\"\n",
    "print \" The mean absolute square error of the predicted data for 1 hr is \"+str(Mean_absolute_square)+\"\\n\"\n"
   ]
  },
  {
   "cell_type": "markdown",
   "metadata": {
    "collapsed": true,
    "deletable": true,
    "editable": true
   },
   "source": [
    "# Prediction for 24 hrs ahead"
   ]
  },
  {
   "cell_type": "markdown",
   "metadata": {},
   "source": [
    "Creating the delay set up"
   ]
  },
  {
   "cell_type": "code",
   "execution_count": 73,
   "metadata": {
    "collapsed": true
   },
   "outputs": [],
   "source": [
    "#delay\n",
    "delay=24"
   ]
  },
  {
   "cell_type": "markdown",
   "metadata": {
    "deletable": true,
    "editable": true
   },
   "source": [
    "# Data lagged selected"
   ]
  },
  {
   "cell_type": "markdown",
   "metadata": {},
   "source": [
    "Creating 24 hrs lagged data"
   ]
  },
  {
   "cell_type": "code",
   "execution_count": 72,
   "metadata": {
    "collapsed": false
   },
   "outputs": [
    {
     "data": {
      "text/html": [
       "<div>\n",
       "<table border=\"1\" class=\"dataframe\">\n",
       "  <thead>\n",
       "    <tr style=\"text-align: right;\">\n",
       "      <th></th>\n",
       "      <th>main_Tot</th>\n",
       "      <th>Batt_Volt_Avg</th>\n",
       "      <th>PV_generated_Tot</th>\n",
       "      <th>HP_in_Tot</th>\n",
       "      <th>HP_out_Tot</th>\n",
       "      <th>Fantech_Tot</th>\n",
       "      <th>solar_HW_pump_Tot</th>\n",
       "      <th>HW_Tot</th>\n",
       "      <th>bathup_lts_Tot</th>\n",
       "      <th>LVL1_lts_Tot</th>\n",
       "      <th>...</th>\n",
       "      <th>bath_plg_Tot</th>\n",
       "      <th>gar_ext_lts_Tot</th>\n",
       "      <th>garage_tmp_Avg</th>\n",
       "      <th>jacuzzi_plg_Tot</th>\n",
       "      <th>dishHot_tmp_Avg</th>\n",
       "      <th>washHot_tmp_Avg</th>\n",
       "      <th>L1_heater_Tot</th>\n",
       "      <th>Tstat1_tmp_Avg</th>\n",
       "      <th>Tstat2_tmp_Avg</th>\n",
       "      <th>TV_plg_Tot</th>\n",
       "    </tr>\n",
       "    <tr>\n",
       "      <th>TIMESTAMP</th>\n",
       "      <th></th>\n",
       "      <th></th>\n",
       "      <th></th>\n",
       "      <th></th>\n",
       "      <th></th>\n",
       "      <th></th>\n",
       "      <th></th>\n",
       "      <th></th>\n",
       "      <th></th>\n",
       "      <th></th>\n",
       "      <th></th>\n",
       "      <th></th>\n",
       "      <th></th>\n",
       "      <th></th>\n",
       "      <th></th>\n",
       "      <th></th>\n",
       "      <th></th>\n",
       "      <th></th>\n",
       "      <th></th>\n",
       "      <th></th>\n",
       "      <th></th>\n",
       "    </tr>\n",
       "  </thead>\n",
       "  <tbody>\n",
       "    <tr>\n",
       "      <th>2013-10-01 01:00:00</th>\n",
       "      <td>165.0</td>\n",
       "      <td>12.81</td>\n",
       "      <td>0.75</td>\n",
       "      <td>6.25</td>\n",
       "      <td>16.50</td>\n",
       "      <td>0.667</td>\n",
       "      <td>0.0</td>\n",
       "      <td>0.0</td>\n",
       "      <td>0.50</td>\n",
       "      <td>1.250</td>\n",
       "      <td>...</td>\n",
       "      <td>0.625</td>\n",
       "      <td>1.125</td>\n",
       "      <td>69.79</td>\n",
       "      <td>60.75</td>\n",
       "      <td>NAN</td>\n",
       "      <td>NAN</td>\n",
       "      <td>0.375</td>\n",
       "      <td>76.12</td>\n",
       "      <td>NAN</td>\n",
       "      <td>0.417</td>\n",
       "    </tr>\n",
       "    <tr>\n",
       "      <th>2013-10-01 02:00:00</th>\n",
       "      <td>170.0</td>\n",
       "      <td>12.81</td>\n",
       "      <td>0.75</td>\n",
       "      <td>5.00</td>\n",
       "      <td>15.75</td>\n",
       "      <td>0.667</td>\n",
       "      <td>0.0</td>\n",
       "      <td>0.0</td>\n",
       "      <td>0.50</td>\n",
       "      <td>1.250</td>\n",
       "      <td>...</td>\n",
       "      <td>0.625</td>\n",
       "      <td>1.250</td>\n",
       "      <td>69.64</td>\n",
       "      <td>59.00</td>\n",
       "      <td>NAN</td>\n",
       "      <td>NAN</td>\n",
       "      <td>0.500</td>\n",
       "      <td>76.11</td>\n",
       "      <td>NAN</td>\n",
       "      <td>0.396</td>\n",
       "    </tr>\n",
       "    <tr>\n",
       "      <th>2013-10-01 03:00:00</th>\n",
       "      <td>157.5</td>\n",
       "      <td>12.80</td>\n",
       "      <td>0.75</td>\n",
       "      <td>5.00</td>\n",
       "      <td>15.75</td>\n",
       "      <td>0.708</td>\n",
       "      <td>0.0</td>\n",
       "      <td>0.0</td>\n",
       "      <td>0.50</td>\n",
       "      <td>1.375</td>\n",
       "      <td>...</td>\n",
       "      <td>0.625</td>\n",
       "      <td>1.250</td>\n",
       "      <td>69.50</td>\n",
       "      <td>66.50</td>\n",
       "      <td>NAN</td>\n",
       "      <td>NAN</td>\n",
       "      <td>0.500</td>\n",
       "      <td>75.83</td>\n",
       "      <td>NAN</td>\n",
       "      <td>0.396</td>\n",
       "    </tr>\n",
       "    <tr>\n",
       "      <th>2013-10-01 04:00:00</th>\n",
       "      <td>157.5</td>\n",
       "      <td>12.80</td>\n",
       "      <td>0.75</td>\n",
       "      <td>5.00</td>\n",
       "      <td>15.75</td>\n",
       "      <td>0.667</td>\n",
       "      <td>0.0</td>\n",
       "      <td>0.0</td>\n",
       "      <td>0.25</td>\n",
       "      <td>1.375</td>\n",
       "      <td>...</td>\n",
       "      <td>0.625</td>\n",
       "      <td>1.125</td>\n",
       "      <td>69.38</td>\n",
       "      <td>66.25</td>\n",
       "      <td>NAN</td>\n",
       "      <td>NAN</td>\n",
       "      <td>0.500</td>\n",
       "      <td>75.62</td>\n",
       "      <td>NAN</td>\n",
       "      <td>0.396</td>\n",
       "    </tr>\n",
       "    <tr>\n",
       "      <th>2013-10-01 05:00:00</th>\n",
       "      <td>172.5</td>\n",
       "      <td>12.80</td>\n",
       "      <td>0.75</td>\n",
       "      <td>5.00</td>\n",
       "      <td>16.50</td>\n",
       "      <td>0.708</td>\n",
       "      <td>0.0</td>\n",
       "      <td>0.0</td>\n",
       "      <td>0.50</td>\n",
       "      <td>1.250</td>\n",
       "      <td>...</td>\n",
       "      <td>0.625</td>\n",
       "      <td>1.125</td>\n",
       "      <td>69.29</td>\n",
       "      <td>60.00</td>\n",
       "      <td>NAN</td>\n",
       "      <td>NAN</td>\n",
       "      <td>0.500</td>\n",
       "      <td>75.58</td>\n",
       "      <td>NAN</td>\n",
       "      <td>0.396</td>\n",
       "    </tr>\n",
       "  </tbody>\n",
       "</table>\n",
       "<p>5 rows × 101 columns</p>\n",
       "</div>"
      ],
      "text/plain": [
       "                     main_Tot  Batt_Volt_Avg  PV_generated_Tot  HP_in_Tot  \\\n",
       "TIMESTAMP                                                                   \n",
       "2013-10-01 01:00:00     165.0          12.81              0.75       6.25   \n",
       "2013-10-01 02:00:00     170.0          12.81              0.75       5.00   \n",
       "2013-10-01 03:00:00     157.5          12.80              0.75       5.00   \n",
       "2013-10-01 04:00:00     157.5          12.80              0.75       5.00   \n",
       "2013-10-01 05:00:00     172.5          12.80              0.75       5.00   \n",
       "\n",
       "                     HP_out_Tot  Fantech_Tot  solar_HW_pump_Tot  HW_Tot  \\\n",
       "TIMESTAMP                                                                 \n",
       "2013-10-01 01:00:00       16.50        0.667                0.0     0.0   \n",
       "2013-10-01 02:00:00       15.75        0.667                0.0     0.0   \n",
       "2013-10-01 03:00:00       15.75        0.708                0.0     0.0   \n",
       "2013-10-01 04:00:00       15.75        0.667                0.0     0.0   \n",
       "2013-10-01 05:00:00       16.50        0.708                0.0     0.0   \n",
       "\n",
       "                     bathup_lts_Tot  LVL1_lts_Tot     ...      bath_plg_Tot  \\\n",
       "TIMESTAMP                                             ...                     \n",
       "2013-10-01 01:00:00            0.50         1.250     ...             0.625   \n",
       "2013-10-01 02:00:00            0.50         1.250     ...             0.625   \n",
       "2013-10-01 03:00:00            0.50         1.375     ...             0.625   \n",
       "2013-10-01 04:00:00            0.25         1.375     ...             0.625   \n",
       "2013-10-01 05:00:00            0.50         1.250     ...             0.625   \n",
       "\n",
       "                     gar_ext_lts_Tot  garage_tmp_Avg  jacuzzi_plg_Tot  \\\n",
       "TIMESTAMP                                                               \n",
       "2013-10-01 01:00:00            1.125           69.79            60.75   \n",
       "2013-10-01 02:00:00            1.250           69.64            59.00   \n",
       "2013-10-01 03:00:00            1.250           69.50            66.50   \n",
       "2013-10-01 04:00:00            1.125           69.38            66.25   \n",
       "2013-10-01 05:00:00            1.125           69.29            60.00   \n",
       "\n",
       "                     dishHot_tmp_Avg  washHot_tmp_Avg  L1_heater_Tot  \\\n",
       "TIMESTAMP                                                              \n",
       "2013-10-01 01:00:00              NAN              NAN          0.375   \n",
       "2013-10-01 02:00:00              NAN              NAN          0.500   \n",
       "2013-10-01 03:00:00              NAN              NAN          0.500   \n",
       "2013-10-01 04:00:00              NAN              NAN          0.500   \n",
       "2013-10-01 05:00:00              NAN              NAN          0.500   \n",
       "\n",
       "                     Tstat1_tmp_Avg  Tstat2_tmp_Avg  TV_plg_Tot  \n",
       "TIMESTAMP                                                        \n",
       "2013-10-01 01:00:00           76.12             NAN       0.417  \n",
       "2013-10-01 02:00:00           76.11             NAN       0.396  \n",
       "2013-10-01 03:00:00           75.83             NAN       0.396  \n",
       "2013-10-01 04:00:00           75.62             NAN       0.396  \n",
       "2013-10-01 05:00:00           75.58             NAN       0.396  \n",
       "\n",
       "[5 rows x 101 columns]"
      ]
     },
     "execution_count": 72,
     "metadata": {},
     "output_type": "execute_result"
    }
   ],
   "source": [
    "DF_data_raw_24.head()"
   ]
  },
  {
   "cell_type": "code",
   "execution_count": 74,
   "metadata": {
    "collapsed": false
   },
   "outputs": [],
   "source": [
    "#Creating 24 hrs lagged data\n",
    "DF_data_raw_24h=lag_columnall(DF_data_raw_24,delay,24)"
   ]
  },
  {
   "cell_type": "code",
   "execution_count": 75,
   "metadata": {
    "collapsed": false
   },
   "outputs": [
    {
     "data": {
      "text/html": [
       "<div>\n",
       "<table border=\"1\" class=\"dataframe\">\n",
       "  <thead>\n",
       "    <tr style=\"text-align: right;\">\n",
       "      <th></th>\n",
       "      <th>main_Tot</th>\n",
       "      <th>Batt_Volt_Avg</th>\n",
       "      <th>PV_generated_Tot</th>\n",
       "      <th>HP_in_Tot</th>\n",
       "      <th>HP_out_Tot</th>\n",
       "      <th>Fantech_Tot</th>\n",
       "      <th>solar_HW_pump_Tot</th>\n",
       "      <th>HW_Tot</th>\n",
       "      <th>bathup_lts_Tot</th>\n",
       "      <th>LVL1_lts_Tot</th>\n",
       "      <th>...</th>\n",
       "      <th>TV_plg_Tot-37hour</th>\n",
       "      <th>TV_plg_Tot-38hour</th>\n",
       "      <th>TV_plg_Tot-39hour</th>\n",
       "      <th>TV_plg_Tot-40hour</th>\n",
       "      <th>TV_plg_Tot-41hour</th>\n",
       "      <th>TV_plg_Tot-42hour</th>\n",
       "      <th>TV_plg_Tot-43hour</th>\n",
       "      <th>TV_plg_Tot-44hour</th>\n",
       "      <th>TV_plg_Tot-45hour</th>\n",
       "      <th>TV_plg_Tot-46hour</th>\n",
       "    </tr>\n",
       "    <tr>\n",
       "      <th>TIMESTAMP</th>\n",
       "      <th></th>\n",
       "      <th></th>\n",
       "      <th></th>\n",
       "      <th></th>\n",
       "      <th></th>\n",
       "      <th></th>\n",
       "      <th></th>\n",
       "      <th></th>\n",
       "      <th></th>\n",
       "      <th></th>\n",
       "      <th></th>\n",
       "      <th></th>\n",
       "      <th></th>\n",
       "      <th></th>\n",
       "      <th></th>\n",
       "      <th></th>\n",
       "      <th></th>\n",
       "      <th></th>\n",
       "      <th></th>\n",
       "      <th></th>\n",
       "      <th></th>\n",
       "    </tr>\n",
       "  </thead>\n",
       "  <tbody>\n",
       "    <tr>\n",
       "      <th>2013-10-01 01:00:00</th>\n",
       "      <td>165.0</td>\n",
       "      <td>12.81</td>\n",
       "      <td>0.75</td>\n",
       "      <td>6.25</td>\n",
       "      <td>16.50</td>\n",
       "      <td>0.667</td>\n",
       "      <td>0.0</td>\n",
       "      <td>0.0</td>\n",
       "      <td>0.50</td>\n",
       "      <td>1.250</td>\n",
       "      <td>...</td>\n",
       "      <td>NaN</td>\n",
       "      <td>NaN</td>\n",
       "      <td>NaN</td>\n",
       "      <td>NaN</td>\n",
       "      <td>NaN</td>\n",
       "      <td>NaN</td>\n",
       "      <td>NaN</td>\n",
       "      <td>NaN</td>\n",
       "      <td>NaN</td>\n",
       "      <td>NaN</td>\n",
       "    </tr>\n",
       "    <tr>\n",
       "      <th>2013-10-01 02:00:00</th>\n",
       "      <td>170.0</td>\n",
       "      <td>12.81</td>\n",
       "      <td>0.75</td>\n",
       "      <td>5.00</td>\n",
       "      <td>15.75</td>\n",
       "      <td>0.667</td>\n",
       "      <td>0.0</td>\n",
       "      <td>0.0</td>\n",
       "      <td>0.50</td>\n",
       "      <td>1.250</td>\n",
       "      <td>...</td>\n",
       "      <td>NaN</td>\n",
       "      <td>NaN</td>\n",
       "      <td>NaN</td>\n",
       "      <td>NaN</td>\n",
       "      <td>NaN</td>\n",
       "      <td>NaN</td>\n",
       "      <td>NaN</td>\n",
       "      <td>NaN</td>\n",
       "      <td>NaN</td>\n",
       "      <td>NaN</td>\n",
       "    </tr>\n",
       "    <tr>\n",
       "      <th>2013-10-01 03:00:00</th>\n",
       "      <td>157.5</td>\n",
       "      <td>12.80</td>\n",
       "      <td>0.75</td>\n",
       "      <td>5.00</td>\n",
       "      <td>15.75</td>\n",
       "      <td>0.708</td>\n",
       "      <td>0.0</td>\n",
       "      <td>0.0</td>\n",
       "      <td>0.50</td>\n",
       "      <td>1.375</td>\n",
       "      <td>...</td>\n",
       "      <td>NaN</td>\n",
       "      <td>NaN</td>\n",
       "      <td>NaN</td>\n",
       "      <td>NaN</td>\n",
       "      <td>NaN</td>\n",
       "      <td>NaN</td>\n",
       "      <td>NaN</td>\n",
       "      <td>NaN</td>\n",
       "      <td>NaN</td>\n",
       "      <td>NaN</td>\n",
       "    </tr>\n",
       "    <tr>\n",
       "      <th>2013-10-01 04:00:00</th>\n",
       "      <td>157.5</td>\n",
       "      <td>12.80</td>\n",
       "      <td>0.75</td>\n",
       "      <td>5.00</td>\n",
       "      <td>15.75</td>\n",
       "      <td>0.667</td>\n",
       "      <td>0.0</td>\n",
       "      <td>0.0</td>\n",
       "      <td>0.25</td>\n",
       "      <td>1.375</td>\n",
       "      <td>...</td>\n",
       "      <td>NaN</td>\n",
       "      <td>NaN</td>\n",
       "      <td>NaN</td>\n",
       "      <td>NaN</td>\n",
       "      <td>NaN</td>\n",
       "      <td>NaN</td>\n",
       "      <td>NaN</td>\n",
       "      <td>NaN</td>\n",
       "      <td>NaN</td>\n",
       "      <td>NaN</td>\n",
       "    </tr>\n",
       "    <tr>\n",
       "      <th>2013-10-01 05:00:00</th>\n",
       "      <td>172.5</td>\n",
       "      <td>12.80</td>\n",
       "      <td>0.75</td>\n",
       "      <td>5.00</td>\n",
       "      <td>16.50</td>\n",
       "      <td>0.708</td>\n",
       "      <td>0.0</td>\n",
       "      <td>0.0</td>\n",
       "      <td>0.50</td>\n",
       "      <td>1.250</td>\n",
       "      <td>...</td>\n",
       "      <td>NaN</td>\n",
       "      <td>NaN</td>\n",
       "      <td>NaN</td>\n",
       "      <td>NaN</td>\n",
       "      <td>NaN</td>\n",
       "      <td>NaN</td>\n",
       "      <td>NaN</td>\n",
       "      <td>NaN</td>\n",
       "      <td>NaN</td>\n",
       "      <td>NaN</td>\n",
       "    </tr>\n",
       "  </tbody>\n",
       "</table>\n",
       "<p>5 rows × 2424 columns</p>\n",
       "</div>"
      ],
      "text/plain": [
       "                     main_Tot  Batt_Volt_Avg  PV_generated_Tot  HP_in_Tot  \\\n",
       "TIMESTAMP                                                                   \n",
       "2013-10-01 01:00:00     165.0          12.81              0.75       6.25   \n",
       "2013-10-01 02:00:00     170.0          12.81              0.75       5.00   \n",
       "2013-10-01 03:00:00     157.5          12.80              0.75       5.00   \n",
       "2013-10-01 04:00:00     157.5          12.80              0.75       5.00   \n",
       "2013-10-01 05:00:00     172.5          12.80              0.75       5.00   \n",
       "\n",
       "                     HP_out_Tot  Fantech_Tot  solar_HW_pump_Tot  HW_Tot  \\\n",
       "TIMESTAMP                                                                 \n",
       "2013-10-01 01:00:00       16.50        0.667                0.0     0.0   \n",
       "2013-10-01 02:00:00       15.75        0.667                0.0     0.0   \n",
       "2013-10-01 03:00:00       15.75        0.708                0.0     0.0   \n",
       "2013-10-01 04:00:00       15.75        0.667                0.0     0.0   \n",
       "2013-10-01 05:00:00       16.50        0.708                0.0     0.0   \n",
       "\n",
       "                     bathup_lts_Tot  LVL1_lts_Tot        ...          \\\n",
       "TIMESTAMP                                                ...           \n",
       "2013-10-01 01:00:00            0.50         1.250        ...           \n",
       "2013-10-01 02:00:00            0.50         1.250        ...           \n",
       "2013-10-01 03:00:00            0.50         1.375        ...           \n",
       "2013-10-01 04:00:00            0.25         1.375        ...           \n",
       "2013-10-01 05:00:00            0.50         1.250        ...           \n",
       "\n",
       "                     TV_plg_Tot-37hour  TV_plg_Tot-38hour  TV_plg_Tot-39hour  \\\n",
       "TIMESTAMP                                                                      \n",
       "2013-10-01 01:00:00                NaN                NaN                NaN   \n",
       "2013-10-01 02:00:00                NaN                NaN                NaN   \n",
       "2013-10-01 03:00:00                NaN                NaN                NaN   \n",
       "2013-10-01 04:00:00                NaN                NaN                NaN   \n",
       "2013-10-01 05:00:00                NaN                NaN                NaN   \n",
       "\n",
       "                     TV_plg_Tot-40hour  TV_plg_Tot-41hour  TV_plg_Tot-42hour  \\\n",
       "TIMESTAMP                                                                      \n",
       "2013-10-01 01:00:00                NaN                NaN                NaN   \n",
       "2013-10-01 02:00:00                NaN                NaN                NaN   \n",
       "2013-10-01 03:00:00                NaN                NaN                NaN   \n",
       "2013-10-01 04:00:00                NaN                NaN                NaN   \n",
       "2013-10-01 05:00:00                NaN                NaN                NaN   \n",
       "\n",
       "                     TV_plg_Tot-43hour  TV_plg_Tot-44hour  TV_plg_Tot-45hour  \\\n",
       "TIMESTAMP                                                                      \n",
       "2013-10-01 01:00:00                NaN                NaN                NaN   \n",
       "2013-10-01 02:00:00                NaN                NaN                NaN   \n",
       "2013-10-01 03:00:00                NaN                NaN                NaN   \n",
       "2013-10-01 04:00:00                NaN                NaN                NaN   \n",
       "2013-10-01 05:00:00                NaN                NaN                NaN   \n",
       "\n",
       "                     TV_plg_Tot-46hour  \n",
       "TIMESTAMP                               \n",
       "2013-10-01 01:00:00                NaN  \n",
       "2013-10-01 02:00:00                NaN  \n",
       "2013-10-01 03:00:00                NaN  \n",
       "2013-10-01 04:00:00                NaN  \n",
       "2013-10-01 05:00:00                NaN  \n",
       "\n",
       "[5 rows x 2424 columns]"
      ]
     },
     "execution_count": 75,
     "metadata": {},
     "output_type": "execute_result"
    }
   ],
   "source": [
    "DF_data_raw_24h.head()"
   ]
  },
  {
   "cell_type": "code",
   "execution_count": 76,
   "metadata": {
    "collapsed": true
   },
   "outputs": [],
   "source": [
    "#Data type conversion\n",
    "DF_for_correlation24=DF_data_raw_24h.astype(\"float64\")"
   ]
  },
  {
   "cell_type": "markdown",
   "metadata": {
    "deletable": true,
    "editable": true
   },
   "source": [
    "# Correlation of the lagged data"
   ]
  },
  {
   "cell_type": "markdown",
   "metadata": {
    "deletable": true,
    "editable": true
   },
   "source": [
    "Correlating the data"
   ]
  },
  {
   "cell_type": "code",
   "execution_count": 98,
   "metadata": {
    "collapsed": false,
    "deletable": true,
    "editable": true
   },
   "outputs": [],
   "source": [
    "#correlation of data\n",
    "correlation24=DF_for_correlation24.corr()"
   ]
  },
  {
   "cell_type": "markdown",
   "metadata": {
    "deletable": true,
    "editable": true
   },
   "source": [
    "Saving the correlation in a .CSV file"
   ]
  },
  {
   "cell_type": "code",
   "execution_count": 99,
   "metadata": {
    "collapsed": true,
    "deletable": true,
    "editable": true
   },
   "outputs": [],
   "source": [
    "DataFolderPath2 = \"/Users/Marrugo/Dropbox/git_for_clone/Ac consumption prediction of ORNL Research House--MARRUGO--THOUVENIN/data_correlation24.csv\"\n",
    "correlation24.to_csv(DataFolderPath2,sep = \",\") "
   ]
  },
  {
   "cell_type": "markdown",
   "metadata": {},
   "source": [
    "# Selected lagged data"
   ]
  },
  {
   "cell_type": "markdown",
   "metadata": {
    "deletable": true,
    "editable": true
   },
   "source": [
    "Adding the best correlated lagged data with respect to the Heat pump consumption to the final data for a lag of 24 hrs"
   ]
  },
  {
   "cell_type": "code",
   "execution_count": 77,
   "metadata": {
    "collapsed": true
   },
   "outputs": [],
   "source": [
    "#solar radiation lagged data\n",
    "Data_final24[\"Solar_radiation-36 hrs\"]=Data_final24[\"Solar_radiation\"].shift(36)\n",
    "Data_final24[\"Solar_radiation-35 hrs\"]=Data_final24[\"Solar_radiation\"].shift(35)\n",
    "Data_final24[\"Solar_radiation-34 hrs\"]=Data_final24[\"Solar_radiation\"].shift(34)\n",
    "\n",
    "#Energy consumption lagged data\n",
    "Data_final24[\"AC_consump-24 hrs\"]=Data_final24[\"AC_consump\"].shift(delay)\n",
    "#Energy of heat pump lagged data\n",
    "Data_final24[\"HP_consump-24 hrs\"]=Data_final24[\"HP_consump\"].shift(delay)\n",
    "\n",
    "#temperature lagged data\n",
    "Data_final24[\"Temperature_Avg-26 hrs\"]=Data_final24[\"Temperature_Avg\"].shift(26)\n",
    "Data_final24[\"Temperature_Avg-25 hrs\"]=Data_final24[\"Temperature_Avg\"].shift(25)\n",
    "Data_final24[\"Temperature_Avg-24 hrs\"]=Data_final24[\"Temperature_Avg\"].shift(24)\n",
    "\n",
    "#relative humidity lagged data\n",
    "Data_final24[\"Relative_Humidity-39 hrs\"]=Data_final24[\"Relative_Humidity\"].shift(39)\n",
    "Data_final24[\"Relative_Humidity-38 hrs\"]=Data_final24[\"Relative_Humidity\"].shift(38)\n",
    "Data_final24[\"Relative_Humidity-40 hrs\"]=Data_final24[\"Relative_Humidity\"].shift(40)\n",
    "\n",
    "#precipitation lagged data \n",
    "Data_final24[\"Precipitation-45 hrs\"]=Data_final24[\"Precipitation\"].shift(45)\n",
    "Data_final24[\"Precipitation-46 hrs\"]=Data_final24[\"Precipitation\"].shift(46)\n",
    "\n",
    "#Roof north relative humidity lagged data \n",
    "Data_final24[\"RH_roof_north-24 hrs\"]=Data_final24[\"RH_roof_north\"].shift(24)\n",
    "Data_final24[\"RH_roof_north-25 hrs\"]=Data_final24[\"RH_roof_north\"].shift(25)\n",
    "\n",
    "#Roof north temperature lagged data \n",
    "Data_final24[\"RH_temp_notth-35 hrs\"]=Data_final24[\"RH_temp_notth\"].shift(35)\n",
    "Data_final24[\"RH_temp_notth-34 hrs\"]=Data_final24[\"RH_temp_notth\"].shift(34)\n",
    "\n",
    "#Relative humidity of story 1 lagged data \n",
    "Data_final24[\"RH_lvl1-24 hrs\"]=Data_final24[\"RH_lvl1\"].shift(24)\n",
    "\n",
    "#Relative humidity of story 2  lagged data \n",
    "Data_final24[\"RH_lvl2-24 hrs\"]=Data_final24[\"RH_lvl2\"].shift(24)\n",
    "\n",
    "#Relative humidity of the roof cavity lagged data \n",
    "Data_final24[\"RH_roof_cavity-29 hrs\"]=Data_final24[\"RH_roof_cavity\"].shift(29)\n",
    "Data_final24[\"RH_roof_cavity-28 hrs\"]=Data_final24[\"RH_roof_cavity\"].shift(28)"
   ]
  },
  {
   "cell_type": "markdown",
   "metadata": {},
   "source": [
    "Cleaning the empty values of the data "
   ]
  },
  {
   "cell_type": "code",
   "execution_count": 78,
   "metadata": {
    "collapsed": false
   },
   "outputs": [
    {
     "data": {
      "text/html": [
       "<div>\n",
       "<table border=\"1\" class=\"dataframe\">\n",
       "  <thead>\n",
       "    <tr style=\"text-align: right;\">\n",
       "      <th></th>\n",
       "      <th>HP_consump</th>\n",
       "      <th>AC_consump</th>\n",
       "      <th>Temperature_Avg</th>\n",
       "      <th>Relative_Humidity</th>\n",
       "      <th>wind_speed_mean</th>\n",
       "      <th>Solar_radiation</th>\n",
       "      <th>RH_temp_notth</th>\n",
       "      <th>RH_roof_north</th>\n",
       "      <th>Precipitation</th>\n",
       "      <th>RH_roof_cavity</th>\n",
       "      <th>...</th>\n",
       "      <th>Precipitation-45 hrs</th>\n",
       "      <th>Precipitation-46 hrs</th>\n",
       "      <th>RH_roof_north-24 hrs</th>\n",
       "      <th>RH_roof_north-25 hrs</th>\n",
       "      <th>RH_temp_notth-35 hrs</th>\n",
       "      <th>RH_temp_notth-34 hrs</th>\n",
       "      <th>RH_lvl1-24 hrs</th>\n",
       "      <th>RH_lvl2-24 hrs</th>\n",
       "      <th>RH_roof_cavity-29 hrs</th>\n",
       "      <th>RH_roof_cavity-28 hrs</th>\n",
       "    </tr>\n",
       "    <tr>\n",
       "      <th>TIMESTAMP</th>\n",
       "      <th></th>\n",
       "      <th></th>\n",
       "      <th></th>\n",
       "      <th></th>\n",
       "      <th></th>\n",
       "      <th></th>\n",
       "      <th></th>\n",
       "      <th></th>\n",
       "      <th></th>\n",
       "      <th></th>\n",
       "      <th></th>\n",
       "      <th></th>\n",
       "      <th></th>\n",
       "      <th></th>\n",
       "      <th></th>\n",
       "      <th></th>\n",
       "      <th></th>\n",
       "      <th></th>\n",
       "      <th></th>\n",
       "      <th></th>\n",
       "      <th></th>\n",
       "    </tr>\n",
       "  </thead>\n",
       "  <tbody>\n",
       "    <tr>\n",
       "      <th>2013-10-02 23:00:00</th>\n",
       "      <td>187.50</td>\n",
       "      <td>687.5</td>\n",
       "      <td>65.12</td>\n",
       "      <td>93.5</td>\n",
       "      <td>0.0</td>\n",
       "      <td>0.000</td>\n",
       "      <td>68.67</td>\n",
       "      <td>57.84</td>\n",
       "      <td>0.0</td>\n",
       "      <td>61.31</td>\n",
       "      <td>...</td>\n",
       "      <td>0.0</td>\n",
       "      <td>0.0</td>\n",
       "      <td>57.18</td>\n",
       "      <td>54.95</td>\n",
       "      <td>83.5</td>\n",
       "      <td>97.3</td>\n",
       "      <td>50.53</td>\n",
       "      <td>49.74</td>\n",
       "      <td>63.75</td>\n",
       "      <td>63.56</td>\n",
       "    </tr>\n",
       "    <tr>\n",
       "      <th>2013-10-03 00:00:00</th>\n",
       "      <td>15.75</td>\n",
       "      <td>257.5</td>\n",
       "      <td>64.23</td>\n",
       "      <td>93.8</td>\n",
       "      <td>0.0</td>\n",
       "      <td>0.003</td>\n",
       "      <td>66.94</td>\n",
       "      <td>59.13</td>\n",
       "      <td>0.0</td>\n",
       "      <td>61.40</td>\n",
       "      <td>...</td>\n",
       "      <td>0.0</td>\n",
       "      <td>0.0</td>\n",
       "      <td>59.01</td>\n",
       "      <td>57.18</td>\n",
       "      <td>97.3</td>\n",
       "      <td>102.9</td>\n",
       "      <td>51.54</td>\n",
       "      <td>50.75</td>\n",
       "      <td>63.56</td>\n",
       "      <td>63.68</td>\n",
       "    </tr>\n",
       "    <tr>\n",
       "      <th>2013-10-03 01:00:00</th>\n",
       "      <td>16.50</td>\n",
       "      <td>157.5</td>\n",
       "      <td>63.56</td>\n",
       "      <td>94.0</td>\n",
       "      <td>0.0</td>\n",
       "      <td>0.007</td>\n",
       "      <td>65.13</td>\n",
       "      <td>60.06</td>\n",
       "      <td>0.0</td>\n",
       "      <td>61.47</td>\n",
       "      <td>...</td>\n",
       "      <td>0.0</td>\n",
       "      <td>0.0</td>\n",
       "      <td>60.02</td>\n",
       "      <td>59.01</td>\n",
       "      <td>102.9</td>\n",
       "      <td>104.7</td>\n",
       "      <td>51.77</td>\n",
       "      <td>50.96</td>\n",
       "      <td>63.68</td>\n",
       "      <td>63.88</td>\n",
       "    </tr>\n",
       "    <tr>\n",
       "      <th>2013-10-03 02:00:00</th>\n",
       "      <td>16.50</td>\n",
       "      <td>172.5</td>\n",
       "      <td>63.39</td>\n",
       "      <td>94.1</td>\n",
       "      <td>0.0</td>\n",
       "      <td>0.037</td>\n",
       "      <td>64.54</td>\n",
       "      <td>60.22</td>\n",
       "      <td>0.0</td>\n",
       "      <td>61.69</td>\n",
       "      <td>...</td>\n",
       "      <td>0.0</td>\n",
       "      <td>0.0</td>\n",
       "      <td>60.55</td>\n",
       "      <td>60.02</td>\n",
       "      <td>104.7</td>\n",
       "      <td>102.1</td>\n",
       "      <td>51.69</td>\n",
       "      <td>51.01</td>\n",
       "      <td>63.88</td>\n",
       "      <td>63.89</td>\n",
       "    </tr>\n",
       "    <tr>\n",
       "      <th>2013-10-03 03:00:00</th>\n",
       "      <td>15.75</td>\n",
       "      <td>177.5</td>\n",
       "      <td>63.17</td>\n",
       "      <td>94.1</td>\n",
       "      <td>0.0</td>\n",
       "      <td>0.010</td>\n",
       "      <td>63.49</td>\n",
       "      <td>60.78</td>\n",
       "      <td>0.0</td>\n",
       "      <td>61.80</td>\n",
       "      <td>...</td>\n",
       "      <td>0.0</td>\n",
       "      <td>0.0</td>\n",
       "      <td>59.86</td>\n",
       "      <td>60.55</td>\n",
       "      <td>102.1</td>\n",
       "      <td>97.0</td>\n",
       "      <td>51.24</td>\n",
       "      <td>50.90</td>\n",
       "      <td>63.89</td>\n",
       "      <td>64.02</td>\n",
       "    </tr>\n",
       "  </tbody>\n",
       "</table>\n",
       "<p>5 rows × 42 columns</p>\n",
       "</div>"
      ],
      "text/plain": [
       "                     HP_consump  AC_consump  Temperature_Avg  \\\n",
       "TIMESTAMP                                                      \n",
       "2013-10-02 23:00:00      187.50       687.5            65.12   \n",
       "2013-10-03 00:00:00       15.75       257.5            64.23   \n",
       "2013-10-03 01:00:00       16.50       157.5            63.56   \n",
       "2013-10-03 02:00:00       16.50       172.5            63.39   \n",
       "2013-10-03 03:00:00       15.75       177.5            63.17   \n",
       "\n",
       "                     Relative_Humidity  wind_speed_mean  Solar_radiation  \\\n",
       "TIMESTAMP                                                                  \n",
       "2013-10-02 23:00:00               93.5              0.0            0.000   \n",
       "2013-10-03 00:00:00               93.8              0.0            0.003   \n",
       "2013-10-03 01:00:00               94.0              0.0            0.007   \n",
       "2013-10-03 02:00:00               94.1              0.0            0.037   \n",
       "2013-10-03 03:00:00               94.1              0.0            0.010   \n",
       "\n",
       "                     RH_temp_notth  RH_roof_north  Precipitation  \\\n",
       "TIMESTAMP                                                          \n",
       "2013-10-02 23:00:00          68.67          57.84            0.0   \n",
       "2013-10-03 00:00:00          66.94          59.13            0.0   \n",
       "2013-10-03 01:00:00          65.13          60.06            0.0   \n",
       "2013-10-03 02:00:00          64.54          60.22            0.0   \n",
       "2013-10-03 03:00:00          63.49          60.78            0.0   \n",
       "\n",
       "                     RH_roof_cavity          ...            \\\n",
       "TIMESTAMP                                    ...             \n",
       "2013-10-02 23:00:00           61.31          ...             \n",
       "2013-10-03 00:00:00           61.40          ...             \n",
       "2013-10-03 01:00:00           61.47          ...             \n",
       "2013-10-03 02:00:00           61.69          ...             \n",
       "2013-10-03 03:00:00           61.80          ...             \n",
       "\n",
       "                     Precipitation-45 hrs  Precipitation-46 hrs  \\\n",
       "TIMESTAMP                                                         \n",
       "2013-10-02 23:00:00                   0.0                   0.0   \n",
       "2013-10-03 00:00:00                   0.0                   0.0   \n",
       "2013-10-03 01:00:00                   0.0                   0.0   \n",
       "2013-10-03 02:00:00                   0.0                   0.0   \n",
       "2013-10-03 03:00:00                   0.0                   0.0   \n",
       "\n",
       "                     RH_roof_north-24 hrs  RH_roof_north-25 hrs  \\\n",
       "TIMESTAMP                                                         \n",
       "2013-10-02 23:00:00                 57.18                 54.95   \n",
       "2013-10-03 00:00:00                 59.01                 57.18   \n",
       "2013-10-03 01:00:00                 60.02                 59.01   \n",
       "2013-10-03 02:00:00                 60.55                 60.02   \n",
       "2013-10-03 03:00:00                 59.86                 60.55   \n",
       "\n",
       "                     RH_temp_notth-35 hrs  RH_temp_notth-34 hrs  \\\n",
       "TIMESTAMP                                                         \n",
       "2013-10-02 23:00:00                  83.5                  97.3   \n",
       "2013-10-03 00:00:00                  97.3                 102.9   \n",
       "2013-10-03 01:00:00                 102.9                 104.7   \n",
       "2013-10-03 02:00:00                 104.7                 102.1   \n",
       "2013-10-03 03:00:00                 102.1                  97.0   \n",
       "\n",
       "                     RH_lvl1-24 hrs  RH_lvl2-24 hrs  RH_roof_cavity-29 hrs  \\\n",
       "TIMESTAMP                                                                    \n",
       "2013-10-02 23:00:00           50.53           49.74                  63.75   \n",
       "2013-10-03 00:00:00           51.54           50.75                  63.56   \n",
       "2013-10-03 01:00:00           51.77           50.96                  63.68   \n",
       "2013-10-03 02:00:00           51.69           51.01                  63.88   \n",
       "2013-10-03 03:00:00           51.24           50.90                  63.89   \n",
       "\n",
       "                     RH_roof_cavity-28 hrs  \n",
       "TIMESTAMP                                   \n",
       "2013-10-02 23:00:00                  63.56  \n",
       "2013-10-03 00:00:00                  63.68  \n",
       "2013-10-03 01:00:00                  63.88  \n",
       "2013-10-03 02:00:00                  63.89  \n",
       "2013-10-03 03:00:00                  64.02  \n",
       "\n",
       "[5 rows x 42 columns]"
      ]
     },
     "execution_count": 78,
     "metadata": {},
     "output_type": "execute_result"
    }
   ],
   "source": [
    "Data_final24.dropna(inplace=True)\n",
    "Data_final24.head()"
   ]
  },
  {
   "cell_type": "markdown",
   "metadata": {
    "deletable": true,
    "editable": true
   },
   "source": [
    "# Machine learning implementation"
   ]
  },
  {
   "cell_type": "markdown",
   "metadata": {
    "deletable": true,
    "editable": true
   },
   "source": [
    "Defining the target of the random forest regression"
   ]
  },
  {
   "cell_type": "code",
   "execution_count": 79,
   "metadata": {
    "collapsed": true,
    "deletable": true,
    "editable": true
   },
   "outputs": [],
   "source": [
    "DF_target24 = Data_final24[\"HP_consump\"]"
   ]
  },
  {
   "cell_type": "markdown",
   "metadata": {
    "deletable": true,
    "editable": true
   },
   "source": [
    "Defining the features of the random forest regression"
   ]
  },
  {
   "cell_type": "code",
   "execution_count": 80,
   "metadata": {
    "collapsed": true,
    "deletable": true,
    "editable": true
   },
   "outputs": [],
   "source": [
    "DF_features24 = Data_final24.drop(\"HP_consump\",axis=1)"
   ]
  },
  {
   "cell_type": "markdown",
   "metadata": {
    "deletable": true,
    "editable": true
   },
   "source": [
    "Importing the train test split librery"
   ]
  },
  {
   "cell_type": "code",
   "execution_count": 81,
   "metadata": {
    "collapsed": true,
    "deletable": true,
    "editable": true
   },
   "outputs": [],
   "source": [
    "#importing train test split \n",
    "from sklearn.model_selection import train_test_split"
   ]
  },
  {
   "cell_type": "markdown",
   "metadata": {
    "deletable": true,
    "editable": true
   },
   "source": [
    "Defining the data from train and test random forest regression"
   ]
  },
  {
   "cell_type": "code",
   "execution_count": 82,
   "metadata": {
    "collapsed": true,
    "deletable": true,
    "editable": true
   },
   "outputs": [],
   "source": [
    "X_train, X_test, y_train, y_test = train_test_split(DF_features24, DF_target24, test_size=0.2, random_state=41234)\n"
   ]
  },
  {
   "cell_type": "markdown",
   "metadata": {
    "deletable": true,
    "editable": true
   },
   "source": [
    "Importing the random forest regression model librery"
   ]
  },
  {
   "cell_type": "code",
   "execution_count": 83,
   "metadata": {
    "collapsed": true,
    "deletable": true,
    "editable": true
   },
   "outputs": [],
   "source": [
    "#importing random forest regression \n",
    "from sklearn.ensemble import RandomForestRegressor\n",
    "reg2 = RandomForestRegressor()"
   ]
  },
  {
   "cell_type": "markdown",
   "metadata": {
    "deletable": true,
    "editable": true
   },
   "source": [
    "Importing the cross validation for random forest regression "
   ]
  },
  {
   "cell_type": "code",
   "execution_count": 84,
   "metadata": {
    "collapsed": true,
    "deletable": true,
    "editable": true
   },
   "outputs": [],
   "source": [
    "#training random forest regression with cross validation \n",
    "from sklearn.model_selection import cross_val_predict"
   ]
  },
  {
   "cell_type": "markdown",
   "metadata": {
    "deletable": true,
    "editable": true
   },
   "source": [
    "Predicting data with the test data with the model of random forest"
   ]
  },
  {
   "cell_type": "code",
   "execution_count": 85,
   "metadata": {
    "collapsed": true,
    "deletable": true,
    "editable": true
   },
   "outputs": [],
   "source": [
    "predict24 = cross_val_predict(reg2,DF_features24,DF_target24,cv=25)"
   ]
  },
  {
   "cell_type": "markdown",
   "metadata": {
    "deletable": true,
    "editable": true
   },
   "source": [
    "Creating a series data with the predicte data using the random forest model"
   ]
  },
  {
   "cell_type": "code",
   "execution_count": 86,
   "metadata": {
    "collapsed": true,
    "deletable": true,
    "editable": true
   },
   "outputs": [],
   "source": [
    "predictions24 = pd.Series(predict24,index=DF_target24.index).rename(\"HP_consump\"+'_predicted')"
   ]
  },
  {
   "cell_type": "markdown",
   "metadata": {
    "deletable": true,
    "editable": true
   },
   "source": [
    "Creating a data frame with the predicted data and the test data"
   ]
  },
  {
   "cell_type": "code",
   "execution_count": 87,
   "metadata": {
    "collapsed": true,
    "deletable": true,
    "editable": true
   },
   "outputs": [],
   "source": [
    "predictions_frame24 = predictions24.to_frame()\n",
    "predictions_frame24[\"HP_consump\"]=DF_target24"
   ]
  },
  {
   "cell_type": "markdown",
   "metadata": {
    "deletable": true,
    "editable": true
   },
   "source": [
    "# Results"
   ]
  },
  {
   "cell_type": "markdown",
   "metadata": {
    "deletable": true,
    "editable": true
   },
   "source": [
    "Ploting the prediction and the test data for the range of date (2014-09-01:2014-09-03)"
   ]
  },
  {
   "cell_type": "code",
   "execution_count": 88,
   "metadata": {
    "collapsed": false,
    "deletable": true,
    "editable": true
   },
   "outputs": [
    {
     "data": {
      "image/png": "[encoded data removed]",
      "text/plain": [
       "<matplotlib.figure.Figure at 0x118f433d0>"
      ]
     },
     "metadata": {},
     "output_type": "display_data"
    }
   ],
   "source": [
    "#Ploting linear regression results for a specifc data range\n",
    "predictions_frame24['2014-09-01 13:45:00':'2014-09-05 23:15:00'].plot()\n",
    "plt.xlabel('Time')\n",
    "plt.title(\"24 hrs Prediction\")\n",
    "plt.ylabel('AC Power [w]')\n",
    "plt.ylim([0,500])\n",
    "plt.show()"
   ]
  },
  {
   "cell_type": "markdown",
   "metadata": {
    "deletable": true,
    "editable": true
   },
   "source": [
    "Importing the libraries for the square error, mean error and mean square error"
   ]
  },
  {
   "cell_type": "code",
   "execution_count": 89,
   "metadata": {
    "collapsed": true,
    "deletable": true,
    "editable": true
   },
   "outputs": [],
   "source": [
    "#importing metrics for the data error \n",
    "from sklearn.metrics import mean_absolute_error,mean_squared_error,r2_score"
   ]
  },
  {
   "cell_type": "markdown",
   "metadata": {
    "deletable": true,
    "editable": true
   },
   "source": [
    "Calculating the squared error, mean absolute error and mean squared absuluted error"
   ]
  },
  {
   "cell_type": "code",
   "execution_count": 90,
   "metadata": {
    "collapsed": true,
    "deletable": true,
    "editable": true
   },
   "outputs": [],
   "source": [
    "R2_score = r2_score(predictions_frame24[\"HP_consump\"],predictions_frame24[\"HP_consump_predicted\"])\n",
    "Mean_absolute=mean_absolute_error(predictions_frame24[\"HP_consump\"],predictions_frame24[\"HP_consump_predicted\"])\n",
    "Mean_absolute_square=mean_squared_error(predictions_frame24[\"HP_consump\"],predictions_frame24[\"HP_consump_predicted\"])\n"
   ]
  },
  {
   "cell_type": "markdown",
   "metadata": {
    "deletable": true,
    "editable": true
   },
   "source": [
    "Showing the results of the errors"
   ]
  },
  {
   "cell_type": "code",
   "execution_count": 91,
   "metadata": {
    "collapsed": false,
    "deletable": true,
    "editable": true,
    "scrolled": true
   },
   "outputs": [
    {
     "name": "stdout",
     "output_type": "stream",
     "text": [
      " The square error of the predicted data for 24 hrs is 0.677076308782\n",
      "\n",
      " The mean absolute error of the predicted data for 24 hrs is 33.7995105577\n",
      "\n",
      " The mean absolute square error of the predicted data for 24 hrs is 4501.06444902\n",
      "\n"
     ]
    }
   ],
   "source": [
    "#showing results of data error\n",
    "print \" The square error of the predicted data for 24 hrs is \"+str(R2_score)+\"\\n\"\n",
    "print \" The mean absolute error of the predicted data for 24 hrs is \"+str(Mean_absolute)+\"\\n\"\n",
    "print \" The mean absolute square error of the predicted data for 24 hrs is \"+str(Mean_absolute_square)+\"\\n\"\n"
   ]
  },
  {
   "cell_type": "code",
   "execution_count": null,
   "metadata": {
    "collapsed": true
   },
   "outputs": [],
   "source": []
  }
 ],
 "metadata": {
  "kernelspec": {
   "display_name": "Python 2",
   "language": "python",
   "name": "python2"
  },
  "language_info": {
   "codemirror_mode": {
    "name": "ipython",
    "version": 2
   },
   "file_extension": ".py",
   "mimetype": "text/x-python",
   "name": "python",
   "nbconvert_exporter": "python",
   "pygments_lexer": "ipython2",
   "version": "2.7.13"
  }
 },
 "nbformat": 4,
 "nbformat_minor": 2
}
