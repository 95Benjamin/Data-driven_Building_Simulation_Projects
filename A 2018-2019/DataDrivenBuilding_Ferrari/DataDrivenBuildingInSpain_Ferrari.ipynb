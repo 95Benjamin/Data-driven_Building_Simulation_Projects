{
 "cells": [
  {
   "cell_type": "markdown",
   "metadata": {},
   "source": [
    "## Project DataDrivenBuildingInSpain_Ferrari"
   ]
  },
  {
   "cell_type": "markdown",
   "metadata": {},
   "source": [
    "In this project, I'm trying predict the *indoor room* temperature by means of correlation and machine learning methods from the data of *sun irradiation*, *outdoor temperature*, *room lighting* and *outdoor humidity* of a building located in **Seville** ( Spain ).\n",
    "\n",
    "First of all, I'm gonna import all the required modules."
   ]
  },
  {
   "cell_type": "code",
   "execution_count": 6,
   "metadata": {
    "collapsed": true
   },
   "outputs": [],
   "source": [
    "import os\n",
    "import numpy as np\n",
    "import pandas as pd\n",
    "import matplotlib.pyplot as plt\n",
    "import seaborn as sns"
   ]
  },
  {
   "cell_type": "markdown",
   "metadata": {},
   "source": [
    "With the following command I avoid the warning caused by the attempt of changing the value of objects in data frames."
   ]
  },
  {
   "cell_type": "code",
   "execution_count": 7,
   "metadata": {
    "collapsed": true
   },
   "outputs": [],
   "source": [
    "pd.set_option('mode.chained_assignment', None)"
   ]
  },
  {
   "cell_type": "markdown",
   "metadata": {},
   "source": [
    "Now, I enter the folder where the data I need are located."
   ]
  },
  {
   "cell_type": "code",
   "execution_count": 8,
   "metadata": {
    "collapsed": true
   },
   "outputs": [],
   "source": [
    "InputFolder = r\"C:\\Users\\Mirko\\Desktop\\DataDrivenBuilding_Ferrari\"\n",
    "os.chdir(InputFolder)"
   ]
  },
  {
   "cell_type": "markdown",
   "metadata": {},
   "source": [
    "Now I'm going to read the initial data from the .csv file found on the Internet and convert it into a dataframe. I'm also changing the format of index to Date Time format. \n",
    "From all the data, I want to select days from 15/03/2012 to 22/03/2012 ( one week )."
   ]
  },
  {
   "cell_type": "code",
   "execution_count": 9,
   "metadata": {
    "collapsed": false,
    "scrolled": true
   },
   "outputs": [
    {
     "data": {
      "text/html": [
       "<div>\n",
       "<style>\n",
       "    .dataframe thead tr:only-child th {\n",
       "        text-align: right;\n",
       "    }\n",
       "\n",
       "    .dataframe thead th {\n",
       "        text-align: left;\n",
       "    }\n",
       "\n",
       "    .dataframe tbody tr th {\n",
       "        vertical-align: top;\n",
       "    }\n",
       "</style>\n",
       "<table border=\"1\" class=\"dataframe\">\n",
       "  <thead>\n",
       "    <tr style=\"text-align: right;\">\n",
       "      <th></th>\n",
       "      <th>Temperature_Comedor_Sensor</th>\n",
       "      <th>Temperature_Habitacion_Sensor</th>\n",
       "      <th>Weather_Temperature</th>\n",
       "      <th>CO2_Comedor_Sensor</th>\n",
       "      <th>CO2_Habitacion_Sensor</th>\n",
       "      <th>Humedad_Comedor_Sensor</th>\n",
       "      <th>Humedad_Habitacion_Sensor</th>\n",
       "      <th>Lighting_Comedor_Sensor</th>\n",
       "      <th>Lighting_Habitacion_Sensor</th>\n",
       "      <th>Precipitacion</th>\n",
       "      <th>...</th>\n",
       "      <th>Meteo_Exterior_Sol_Oest</th>\n",
       "      <th>Meteo_Exterior_Sol_Est</th>\n",
       "      <th>Meteo_Exterior_Sol_Sud</th>\n",
       "      <th>Meteo_Exterior_Piranometro</th>\n",
       "      <th>Exterior_Entalpic_1</th>\n",
       "      <th>Exterior_Entalpic_2</th>\n",
       "      <th>Exterior_Entalpic_turbo</th>\n",
       "      <th>Temperature_Exterior_Sensor</th>\n",
       "      <th>Humedad_Exterior_Sensor</th>\n",
       "      <th>Day_Of_Week</th>\n",
       "    </tr>\n",
       "  </thead>\n",
       "  <tbody>\n",
       "    <tr>\n",
       "      <th>count</th>\n",
       "      <td>768.000000</td>\n",
       "      <td>768.000000</td>\n",
       "      <td>768.000000</td>\n",
       "      <td>768.000000</td>\n",
       "      <td>768.000000</td>\n",
       "      <td>768.000000</td>\n",
       "      <td>768.000000</td>\n",
       "      <td>768.000000</td>\n",
       "      <td>768.000000</td>\n",
       "      <td>768.000000</td>\n",
       "      <td>...</td>\n",
       "      <td>768.000000</td>\n",
       "      <td>768.000000</td>\n",
       "      <td>768.000000</td>\n",
       "      <td>768.000000</td>\n",
       "      <td>768.0</td>\n",
       "      <td>768.0</td>\n",
       "      <td>768.0</td>\n",
       "      <td>768.000000</td>\n",
       "      <td>768.000000</td>\n",
       "      <td>768.000000</td>\n",
       "    </tr>\n",
       "    <tr>\n",
       "      <th>mean</th>\n",
       "      <td>17.677122</td>\n",
       "      <td>17.331479</td>\n",
       "      <td>12.697657</td>\n",
       "      <td>206.954626</td>\n",
       "      <td>210.571919</td>\n",
       "      <td>42.633959</td>\n",
       "      <td>45.909001</td>\n",
       "      <td>27.729186</td>\n",
       "      <td>39.580455</td>\n",
       "      <td>0.121094</td>\n",
       "      <td>...</td>\n",
       "      <td>15322.247302</td>\n",
       "      <td>11232.182703</td>\n",
       "      <td>23736.192727</td>\n",
       "      <td>201.402311</td>\n",
       "      <td>0.0</td>\n",
       "      <td>0.0</td>\n",
       "      <td>0.0</td>\n",
       "      <td>14.969838</td>\n",
       "      <td>57.607838</td>\n",
       "      <td>3.998785</td>\n",
       "    </tr>\n",
       "    <tr>\n",
       "      <th>std</th>\n",
       "      <td>3.267742</td>\n",
       "      <td>3.164606</td>\n",
       "      <td>3.397326</td>\n",
       "      <td>7.259906</td>\n",
       "      <td>17.716853</td>\n",
       "      <td>6.706208</td>\n",
       "      <td>8.288114</td>\n",
       "      <td>25.562586</td>\n",
       "      <td>42.404370</td>\n",
       "      <td>0.326449</td>\n",
       "      <td>...</td>\n",
       "      <td>27542.487090</td>\n",
       "      <td>21190.599104</td>\n",
       "      <td>35573.475920</td>\n",
       "      <td>292.517196</td>\n",
       "      <td>0.0</td>\n",
       "      <td>0.0</td>\n",
       "      <td>0.0</td>\n",
       "      <td>3.806013</td>\n",
       "      <td>14.863722</td>\n",
       "      <td>1.871441</td>\n",
       "    </tr>\n",
       "    <tr>\n",
       "      <th>min</th>\n",
       "      <td>11.352000</td>\n",
       "      <td>11.076000</td>\n",
       "      <td>4.000000</td>\n",
       "      <td>197.664000</td>\n",
       "      <td>199.179000</td>\n",
       "      <td>27.084000</td>\n",
       "      <td>29.594700</td>\n",
       "      <td>11.165300</td>\n",
       "      <td>11.507300</td>\n",
       "      <td>0.000000</td>\n",
       "      <td>...</td>\n",
       "      <td>0.000000</td>\n",
       "      <td>0.000000</td>\n",
       "      <td>0.000000</td>\n",
       "      <td>-4.034670</td>\n",
       "      <td>0.0</td>\n",
       "      <td>0.0</td>\n",
       "      <td>0.0</td>\n",
       "      <td>9.223330</td>\n",
       "      <td>22.728000</td>\n",
       "      <td>1.000000</td>\n",
       "    </tr>\n",
       "    <tr>\n",
       "      <th>25%</th>\n",
       "      <td>15.313150</td>\n",
       "      <td>14.987650</td>\n",
       "      <td>9.000000</td>\n",
       "      <td>202.059000</td>\n",
       "      <td>204.181000</td>\n",
       "      <td>36.782675</td>\n",
       "      <td>40.844975</td>\n",
       "      <td>11.588700</td>\n",
       "      <td>13.428000</td>\n",
       "      <td>0.000000</td>\n",
       "      <td>...</td>\n",
       "      <td>0.000000</td>\n",
       "      <td>0.000000</td>\n",
       "      <td>0.000000</td>\n",
       "      <td>-3.250670</td>\n",
       "      <td>0.0</td>\n",
       "      <td>0.0</td>\n",
       "      <td>0.0</td>\n",
       "      <td>11.639850</td>\n",
       "      <td>48.065350</td>\n",
       "      <td>2.766668</td>\n",
       "    </tr>\n",
       "    <tr>\n",
       "      <th>50%</th>\n",
       "      <td>18.015000</td>\n",
       "      <td>17.733000</td>\n",
       "      <td>15.000000</td>\n",
       "      <td>205.355000</td>\n",
       "      <td>207.344000</td>\n",
       "      <td>43.328000</td>\n",
       "      <td>46.692000</td>\n",
       "      <td>11.784700</td>\n",
       "      <td>14.499650</td>\n",
       "      <td>0.000000</td>\n",
       "      <td>...</td>\n",
       "      <td>0.000000</td>\n",
       "      <td>0.000000</td>\n",
       "      <td>0.000000</td>\n",
       "      <td>-1.209335</td>\n",
       "      <td>0.0</td>\n",
       "      <td>0.0</td>\n",
       "      <td>0.0</td>\n",
       "      <td>14.383000</td>\n",
       "      <td>61.205350</td>\n",
       "      <td>4.000000</td>\n",
       "    </tr>\n",
       "    <tr>\n",
       "      <th>75%</th>\n",
       "      <td>20.113675</td>\n",
       "      <td>19.655500</td>\n",
       "      <td>15.000000</td>\n",
       "      <td>210.677500</td>\n",
       "      <td>211.437500</td>\n",
       "      <td>47.092700</td>\n",
       "      <td>50.465300</td>\n",
       "      <td>31.065650</td>\n",
       "      <td>43.142975</td>\n",
       "      <td>0.000000</td>\n",
       "      <td>...</td>\n",
       "      <td>14435.400000</td>\n",
       "      <td>9519.100000</td>\n",
       "      <td>47117.675000</td>\n",
       "      <td>416.794750</td>\n",
       "      <td>0.0</td>\n",
       "      <td>0.0</td>\n",
       "      <td>0.0</td>\n",
       "      <td>17.420000</td>\n",
       "      <td>67.524000</td>\n",
       "      <td>5.300002</td>\n",
       "    </tr>\n",
       "    <tr>\n",
       "      <th>max</th>\n",
       "      <td>24.192000</td>\n",
       "      <td>23.512000</td>\n",
       "      <td>18.000000</td>\n",
       "      <td>249.227000</td>\n",
       "      <td>463.317000</td>\n",
       "      <td>60.957300</td>\n",
       "      <td>62.594700</td>\n",
       "      <td>110.693000</td>\n",
       "      <td>162.965000</td>\n",
       "      <td>1.000000</td>\n",
       "      <td>...</td>\n",
       "      <td>94978.000000</td>\n",
       "      <td>82001.900000</td>\n",
       "      <td>95627.900000</td>\n",
       "      <td>923.307000</td>\n",
       "      <td>0.0</td>\n",
       "      <td>0.0</td>\n",
       "      <td>0.0</td>\n",
       "      <td>25.713300</td>\n",
       "      <td>83.805300</td>\n",
       "      <td>7.000000</td>\n",
       "    </tr>\n",
       "  </tbody>\n",
       "</table>\n",
       "<p>8 rows × 22 columns</p>\n",
       "</div>"
      ],
      "text/plain": [
       "       Temperature_Comedor_Sensor  Temperature_Habitacion_Sensor  \\\n",
       "count                  768.000000                     768.000000   \n",
       "mean                    17.677122                      17.331479   \n",
       "std                      3.267742                       3.164606   \n",
       "min                     11.352000                      11.076000   \n",
       "25%                     15.313150                      14.987650   \n",
       "50%                     18.015000                      17.733000   \n",
       "75%                     20.113675                      19.655500   \n",
       "max                     24.192000                      23.512000   \n",
       "\n",
       "       Weather_Temperature  CO2_Comedor_Sensor  CO2_Habitacion_Sensor  \\\n",
       "count           768.000000          768.000000             768.000000   \n",
       "mean             12.697657          206.954626             210.571919   \n",
       "std               3.397326            7.259906              17.716853   \n",
       "min               4.000000          197.664000             199.179000   \n",
       "25%               9.000000          202.059000             204.181000   \n",
       "50%              15.000000          205.355000             207.344000   \n",
       "75%              15.000000          210.677500             211.437500   \n",
       "max              18.000000          249.227000             463.317000   \n",
       "\n",
       "       Humedad_Comedor_Sensor  Humedad_Habitacion_Sensor  \\\n",
       "count              768.000000                 768.000000   \n",
       "mean                42.633959                  45.909001   \n",
       "std                  6.706208                   8.288114   \n",
       "min                 27.084000                  29.594700   \n",
       "25%                 36.782675                  40.844975   \n",
       "50%                 43.328000                  46.692000   \n",
       "75%                 47.092700                  50.465300   \n",
       "max                 60.957300                  62.594700   \n",
       "\n",
       "       Lighting_Comedor_Sensor  Lighting_Habitacion_Sensor  Precipitacion  \\\n",
       "count               768.000000                  768.000000     768.000000   \n",
       "mean                 27.729186                   39.580455       0.121094   \n",
       "std                  25.562586                   42.404370       0.326449   \n",
       "min                  11.165300                   11.507300       0.000000   \n",
       "25%                  11.588700                   13.428000       0.000000   \n",
       "50%                  11.784700                   14.499650       0.000000   \n",
       "75%                  31.065650                   43.142975       0.000000   \n",
       "max                 110.693000                  162.965000       1.000000   \n",
       "\n",
       "          ...       Meteo_Exterior_Sol_Oest  Meteo_Exterior_Sol_Est  \\\n",
       "count     ...                    768.000000              768.000000   \n",
       "mean      ...                  15322.247302            11232.182703   \n",
       "std       ...                  27542.487090            21190.599104   \n",
       "min       ...                      0.000000                0.000000   \n",
       "25%       ...                      0.000000                0.000000   \n",
       "50%       ...                      0.000000                0.000000   \n",
       "75%       ...                  14435.400000             9519.100000   \n",
       "max       ...                  94978.000000            82001.900000   \n",
       "\n",
       "       Meteo_Exterior_Sol_Sud  Meteo_Exterior_Piranometro  \\\n",
       "count              768.000000                  768.000000   \n",
       "mean             23736.192727                  201.402311   \n",
       "std              35573.475920                  292.517196   \n",
       "min                  0.000000                   -4.034670   \n",
       "25%                  0.000000                   -3.250670   \n",
       "50%                  0.000000                   -1.209335   \n",
       "75%              47117.675000                  416.794750   \n",
       "max              95627.900000                  923.307000   \n",
       "\n",
       "       Exterior_Entalpic_1  Exterior_Entalpic_2  Exterior_Entalpic_turbo  \\\n",
       "count                768.0                768.0                    768.0   \n",
       "mean                   0.0                  0.0                      0.0   \n",
       "std                    0.0                  0.0                      0.0   \n",
       "min                    0.0                  0.0                      0.0   \n",
       "25%                    0.0                  0.0                      0.0   \n",
       "50%                    0.0                  0.0                      0.0   \n",
       "75%                    0.0                  0.0                      0.0   \n",
       "max                    0.0                  0.0                      0.0   \n",
       "\n",
       "       Temperature_Exterior_Sensor  Humedad_Exterior_Sensor  Day_Of_Week  \n",
       "count                   768.000000               768.000000   768.000000  \n",
       "mean                     14.969838                57.607838     3.998785  \n",
       "std                       3.806013                14.863722     1.871441  \n",
       "min                       9.223330                22.728000     1.000000  \n",
       "25%                      11.639850                48.065350     2.766668  \n",
       "50%                      14.383000                61.205350     4.000000  \n",
       "75%                      17.420000                67.524000     5.300002  \n",
       "max                      25.713300                83.805300     7.000000  \n",
       "\n",
       "[8 rows x 22 columns]"
      ]
     },
     "execution_count": 9,
     "metadata": {},
     "output_type": "execute_result"
    }
   ],
   "source": [
    "ExcelFileName = \"BuildingDataSet.csv\"\n",
    "Path_ExcelFile = os.path.join(InputFolder,ExcelFileName)\n",
    "DF_StartingDataSet = pd.read_csv(Path_ExcelFile,sep=\",\",index_col=0)\n",
    "PreviousIndex = DF_StartingDataSet.index\n",
    "NewParsedIndex = pd.to_datetime(PreviousIndex)  \n",
    "DF_StartingDataSet.index = NewParsedIndex \n",
    "DF_TargetDataSet = DF_StartingDataSet[\"15-03-2012\":\"22-03-2012\"]\n",
    "DF_TargetDataSet.describe() "
   ]
  },
  {
   "cell_type": "markdown",
   "metadata": {},
   "source": [
    "Now I'm selecting specific columns of the DataFrame so as to correlate target and features. In this case, I'm choosing indoor temperature, sun irradiance, outdoor temperature, room lighting and outdoor humidity."
   ]
  },
  {
   "cell_type": "code",
   "execution_count": 10,
   "metadata": {
    "collapsed": false
   },
   "outputs": [],
   "source": [
    "DF_Choosen = DF_TargetDataSet[['Temperature_Habitacion_Sensor','Meteo_Exterior_Piranometro','Temperature_Exterior_Sensor','Lighting_Habitacion_Sensor','Humedad_Exterior_Sensor']]  \n",
    "DF_Choosen.describe()\n",
    "DF_Choosen.rename(columns = {\"Temperature_Habitacion_Sensor\":\"Indoor Room Temperature\",\"Meteo_Exterior_Piranometro\":\"Sun Irradiance\",\"Temperature_Exterior_Sensor\":\"Outdoor Temperature\",\"Lighting_Habitacion_Sensor\":\"Room Lighting\",\"Humedad_Exterior_Sensor\":\"Outdoor Humidity\"},inplace = True) \n",
    "DF_Choosen[\"Sun Irradiance\"][DF_Choosen[\"Sun Irradiance\"]<0] = 0  "
   ]
  },
  {
   "cell_type": "markdown",
   "metadata": {},
   "source": [
    "To create lagged features, I first make a copy of my selected DataFrame. Then, defining and using a proper function, I will create the lagged features for sun irradiation, outdoor temperature and indoor room temperature."
   ]
  },
  {
   "cell_type": "code",
   "execution_count": 12,
   "metadata": {
    "collapsed": false
   },
   "outputs": [
    {
     "data": {
      "text/html": [
       "<div>\n",
       "<style>\n",
       "    .dataframe thead tr:only-child th {\n",
       "        text-align: right;\n",
       "    }\n",
       "\n",
       "    .dataframe thead th {\n",
       "        text-align: left;\n",
       "    }\n",
       "\n",
       "    .dataframe tbody tr th {\n",
       "        vertical-align: top;\n",
       "    }\n",
       "</style>\n",
       "<table border=\"1\" class=\"dataframe\">\n",
       "  <thead>\n",
       "    <tr style=\"text-align: right;\">\n",
       "      <th></th>\n",
       "      <th>Indoor Room Temperature</th>\n",
       "      <th>Sun Irradiance</th>\n",
       "      <th>Outdoor Temperature</th>\n",
       "      <th>Room Lighting</th>\n",
       "      <th>Outdoor Humidity</th>\n",
       "      <th>Sun Irradiance -3hr</th>\n",
       "      <th>Sun Irradiance -4hr</th>\n",
       "      <th>Sun Irradiance -5hr</th>\n",
       "      <th>Sun Irradiance -6hr</th>\n",
       "      <th>Outdoor Temperature -1hr</th>\n",
       "      <th>Outdoor Temperature -2hr</th>\n",
       "      <th>Outdoor Temperature -3hr</th>\n",
       "      <th>Outdoor Temperature -4hr</th>\n",
       "      <th>Indoor Room Temperature 30minutes before</th>\n",
       "      <th>Indoor Room Temperature 60minutes before</th>\n",
       "    </tr>\n",
       "  </thead>\n",
       "  <tbody>\n",
       "    <tr>\n",
       "      <th>count</th>\n",
       "      <td>744.000000</td>\n",
       "      <td>744.000000</td>\n",
       "      <td>744.000000</td>\n",
       "      <td>744.000000</td>\n",
       "      <td>744.000000</td>\n",
       "      <td>744.000000</td>\n",
       "      <td>744.000000</td>\n",
       "      <td>744.000000</td>\n",
       "      <td>744.000000</td>\n",
       "      <td>744.000000</td>\n",
       "      <td>744.000000</td>\n",
       "      <td>744.000000</td>\n",
       "      <td>744.000000</td>\n",
       "      <td>744.000000</td>\n",
       "      <td>744.000000</td>\n",
       "    </tr>\n",
       "    <tr>\n",
       "      <th>mean</th>\n",
       "      <td>17.269158</td>\n",
       "      <td>209.607826</td>\n",
       "      <td>15.036208</td>\n",
       "      <td>40.424548</td>\n",
       "      <td>57.259919</td>\n",
       "      <td>209.607826</td>\n",
       "      <td>209.607826</td>\n",
       "      <td>209.607826</td>\n",
       "      <td>209.588809</td>\n",
       "      <td>15.032309</td>\n",
       "      <td>15.025563</td>\n",
       "      <td>15.014919</td>\n",
       "      <td>15.000521</td>\n",
       "      <td>17.276891</td>\n",
       "      <td>17.284275</td>\n",
       "    </tr>\n",
       "    <tr>\n",
       "      <th>std</th>\n",
       "      <td>3.195545</td>\n",
       "      <td>293.696608</td>\n",
       "      <td>3.847391</td>\n",
       "      <td>42.817963</td>\n",
       "      <td>14.960144</td>\n",
       "      <td>293.696608</td>\n",
       "      <td>293.696608</td>\n",
       "      <td>293.696608</td>\n",
       "      <td>293.709846</td>\n",
       "      <td>3.849533</td>\n",
       "      <td>3.852656</td>\n",
       "      <td>3.856609</td>\n",
       "      <td>3.860468</td>\n",
       "      <td>3.196080</td>\n",
       "      <td>3.196868</td>\n",
       "    </tr>\n",
       "    <tr>\n",
       "      <th>min</th>\n",
       "      <td>11.076000</td>\n",
       "      <td>0.000000</td>\n",
       "      <td>9.223330</td>\n",
       "      <td>11.507300</td>\n",
       "      <td>22.728000</td>\n",
       "      <td>0.000000</td>\n",
       "      <td>0.000000</td>\n",
       "      <td>0.000000</td>\n",
       "      <td>0.000000</td>\n",
       "      <td>9.223330</td>\n",
       "      <td>9.223330</td>\n",
       "      <td>9.223330</td>\n",
       "      <td>9.223330</td>\n",
       "      <td>11.076000</td>\n",
       "      <td>11.076000</td>\n",
       "    </tr>\n",
       "    <tr>\n",
       "      <th>25%</th>\n",
       "      <td>14.874000</td>\n",
       "      <td>0.000000</td>\n",
       "      <td>11.604000</td>\n",
       "      <td>13.428000</td>\n",
       "      <td>47.600025</td>\n",
       "      <td>0.000000</td>\n",
       "      <td>0.000000</td>\n",
       "      <td>0.000000</td>\n",
       "      <td>0.000000</td>\n",
       "      <td>11.604000</td>\n",
       "      <td>11.604000</td>\n",
       "      <td>11.604000</td>\n",
       "      <td>11.604000</td>\n",
       "      <td>14.874000</td>\n",
       "      <td>14.874000</td>\n",
       "    </tr>\n",
       "    <tr>\n",
       "      <th>50%</th>\n",
       "      <td>17.586700</td>\n",
       "      <td>3.472335</td>\n",
       "      <td>14.564000</td>\n",
       "      <td>15.062000</td>\n",
       "      <td>60.912000</td>\n",
       "      <td>3.472335</td>\n",
       "      <td>3.472335</td>\n",
       "      <td>3.472335</td>\n",
       "      <td>2.875000</td>\n",
       "      <td>14.564000</td>\n",
       "      <td>14.564000</td>\n",
       "      <td>14.540350</td>\n",
       "      <td>14.454650</td>\n",
       "      <td>17.609000</td>\n",
       "      <td>17.624300</td>\n",
       "    </tr>\n",
       "    <tr>\n",
       "      <th>75%</th>\n",
       "      <td>19.686500</td>\n",
       "      <td>433.602500</td>\n",
       "      <td>17.531850</td>\n",
       "      <td>47.017975</td>\n",
       "      <td>67.067325</td>\n",
       "      <td>433.602500</td>\n",
       "      <td>433.602500</td>\n",
       "      <td>433.602500</td>\n",
       "      <td>433.602500</td>\n",
       "      <td>17.531850</td>\n",
       "      <td>17.531850</td>\n",
       "      <td>17.531850</td>\n",
       "      <td>17.531850</td>\n",
       "      <td>19.686500</td>\n",
       "      <td>19.686500</td>\n",
       "    </tr>\n",
       "    <tr>\n",
       "      <th>max</th>\n",
       "      <td>23.512000</td>\n",
       "      <td>923.307000</td>\n",
       "      <td>25.713300</td>\n",
       "      <td>162.965000</td>\n",
       "      <td>83.805300</td>\n",
       "      <td>923.307000</td>\n",
       "      <td>923.307000</td>\n",
       "      <td>923.307000</td>\n",
       "      <td>923.307000</td>\n",
       "      <td>25.713300</td>\n",
       "      <td>25.713300</td>\n",
       "      <td>25.713300</td>\n",
       "      <td>25.713300</td>\n",
       "      <td>23.512000</td>\n",
       "      <td>23.512000</td>\n",
       "    </tr>\n",
       "  </tbody>\n",
       "</table>\n",
       "</div>"
      ],
      "text/plain": [
       "       Indoor Room Temperature  Sun Irradiance  Outdoor Temperature  \\\n",
       "count               744.000000      744.000000           744.000000   \n",
       "mean                 17.269158      209.607826            15.036208   \n",
       "std                   3.195545      293.696608             3.847391   \n",
       "min                  11.076000        0.000000             9.223330   \n",
       "25%                  14.874000        0.000000            11.604000   \n",
       "50%                  17.586700        3.472335            14.564000   \n",
       "75%                  19.686500      433.602500            17.531850   \n",
       "max                  23.512000      923.307000            25.713300   \n",
       "\n",
       "       Room Lighting  Outdoor Humidity  Sun Irradiance -3hr  \\\n",
       "count     744.000000        744.000000           744.000000   \n",
       "mean       40.424548         57.259919           209.607826   \n",
       "std        42.817963         14.960144           293.696608   \n",
       "min        11.507300         22.728000             0.000000   \n",
       "25%        13.428000         47.600025             0.000000   \n",
       "50%        15.062000         60.912000             3.472335   \n",
       "75%        47.017975         67.067325           433.602500   \n",
       "max       162.965000         83.805300           923.307000   \n",
       "\n",
       "       Sun Irradiance -4hr  Sun Irradiance -5hr  Sun Irradiance -6hr  \\\n",
       "count           744.000000           744.000000           744.000000   \n",
       "mean            209.607826           209.607826           209.588809   \n",
       "std             293.696608           293.696608           293.709846   \n",
       "min               0.000000             0.000000             0.000000   \n",
       "25%               0.000000             0.000000             0.000000   \n",
       "50%               3.472335             3.472335             2.875000   \n",
       "75%             433.602500           433.602500           433.602500   \n",
       "max             923.307000           923.307000           923.307000   \n",
       "\n",
       "       Outdoor Temperature -1hr  Outdoor Temperature -2hr  \\\n",
       "count                744.000000                744.000000   \n",
       "mean                  15.032309                 15.025563   \n",
       "std                    3.849533                  3.852656   \n",
       "min                    9.223330                  9.223330   \n",
       "25%                   11.604000                 11.604000   \n",
       "50%                   14.564000                 14.564000   \n",
       "75%                   17.531850                 17.531850   \n",
       "max                   25.713300                 25.713300   \n",
       "\n",
       "       Outdoor Temperature -3hr  Outdoor Temperature -4hr  \\\n",
       "count                744.000000                744.000000   \n",
       "mean                  15.014919                 15.000521   \n",
       "std                    3.856609                  3.860468   \n",
       "min                    9.223330                  9.223330   \n",
       "25%                   11.604000                 11.604000   \n",
       "50%                   14.540350                 14.454650   \n",
       "75%                   17.531850                 17.531850   \n",
       "max                   25.713300                 25.713300   \n",
       "\n",
       "       Indoor Room Temperature 30minutes before  \\\n",
       "count                                744.000000   \n",
       "mean                                  17.276891   \n",
       "std                                    3.196080   \n",
       "min                                   11.076000   \n",
       "25%                                   14.874000   \n",
       "50%                                   17.609000   \n",
       "75%                                   19.686500   \n",
       "max                                   23.512000   \n",
       "\n",
       "       Indoor Room Temperature 60minutes before  \n",
       "count                                744.000000  \n",
       "mean                                  17.284275  \n",
       "std                                    3.196868  \n",
       "min                                   11.076000  \n",
       "25%                                   14.874000  \n",
       "50%                                   17.624300  \n",
       "75%                                   19.686500  \n",
       "max                                   23.512000  "
      ]
     },
     "execution_count": 12,
     "metadata": {},
     "output_type": "execute_result"
    }
   ],
   "source": [
    "DF_Lagged = DF_Choosen.copy() \n",
    "\n",
    "def lag_feature(DF,ColumnName,LagInterval):    \n",
    "        if(ColumnName==\"Sun Irradiance\"):\n",
    "            for i in range(3,LagInterval+1):\n",
    "                NewColumnName = ColumnName+\" -\"+str(i)+\"hr\"\n",
    "                DF[NewColumnName]=(DF[ColumnName]).shift(i*4)\n",
    "        elif(ColumnName==\"Outdoor Temperature\"):\n",
    "            for i in range(1,LagInterval-1):\n",
    "                NewColumnName = ColumnName+\" -\"+str(i)+\"hr\"\n",
    "                DF[NewColumnName]=(DF[ColumnName]).shift(i*4)\n",
    "        elif(ColumnName==\"Indoor Room Temperature\"):\n",
    "            for i in range(2,LagInterval-1,2):\n",
    "                NewColumnName = ColumnName+\" \"+str(i*15)+\"minutes before\"\n",
    "                DF[NewColumnName]=(DF[ColumnName]).shift(i)\n",
    "        return DF   \n",
    "\n",
    "DF_Lagged = lag_feature(DF_Lagged,\"Sun Irradiance\",6)\n",
    "DF_Lagged = lag_feature(DF_Lagged,\"Outdoor Temperature\",6)\n",
    "DF_Lagged = lag_feature(DF_Lagged,\"Indoor Room Temperature\",6)\n",
    "DF_Lagged.dropna(inplace=True)\n",
    "# To describe my lagged DataFrame.\n",
    "DF_Lagged.describe()"
   ]
  },
  {
   "cell_type": "markdown",
   "metadata": {},
   "source": [
    "With the next sequence of commands, I'm trying to see if there is any strong **correlation** between the different element of the DataFrame."
   ]
  },
  {
   "cell_type": "code",
   "execution_count": 13,
   "metadata": {
    "collapsed": false
   },
   "outputs": [
    {
     "data": {
      "text/html": [
       "<div>\n",
       "<style>\n",
       "    .dataframe thead tr:only-child th {\n",
       "        text-align: right;\n",
       "    }\n",
       "\n",
       "    .dataframe thead th {\n",
       "        text-align: left;\n",
       "    }\n",
       "\n",
       "    .dataframe tbody tr th {\n",
       "        vertical-align: top;\n",
       "    }\n",
       "</style>\n",
       "<table border=\"1\" class=\"dataframe\">\n",
       "  <thead>\n",
       "    <tr style=\"text-align: right;\">\n",
       "      <th></th>\n",
       "      <th>Indoor Room Temperature</th>\n",
       "      <th>Sun Irradiance</th>\n",
       "      <th>Outdoor Temperature</th>\n",
       "      <th>Room Lighting</th>\n",
       "      <th>Outdoor Humidity</th>\n",
       "      <th>Sun Irradiance -3hr</th>\n",
       "      <th>Sun Irradiance -4hr</th>\n",
       "      <th>Sun Irradiance -5hr</th>\n",
       "      <th>Sun Irradiance -6hr</th>\n",
       "      <th>Outdoor Temperature -1hr</th>\n",
       "      <th>Outdoor Temperature -2hr</th>\n",
       "      <th>Outdoor Temperature -3hr</th>\n",
       "      <th>Outdoor Temperature -4hr</th>\n",
       "      <th>Indoor Room Temperature 30minutes before</th>\n",
       "      <th>Indoor Room Temperature 60minutes before</th>\n",
       "    </tr>\n",
       "  </thead>\n",
       "  <tbody>\n",
       "    <tr>\n",
       "      <th>Indoor Room Temperature</th>\n",
       "      <td>1.000000</td>\n",
       "      <td>0.196430</td>\n",
       "      <td>0.865930</td>\n",
       "      <td>0.080601</td>\n",
       "      <td>-0.750835</td>\n",
       "      <td>0.533422</td>\n",
       "      <td>0.572371</td>\n",
       "      <td>0.573599</td>\n",
       "      <td>0.543339</td>\n",
       "      <td>0.898595</td>\n",
       "      <td>0.894491</td>\n",
       "      <td>0.856404</td>\n",
       "      <td>0.791515</td>\n",
       "      <td>0.996217</td>\n",
       "      <td>0.985519</td>\n",
       "    </tr>\n",
       "    <tr>\n",
       "      <th>Sun Irradiance</th>\n",
       "      <td>0.196430</td>\n",
       "      <td>1.000000</td>\n",
       "      <td>0.454138</td>\n",
       "      <td>0.933885</td>\n",
       "      <td>-0.212624</td>\n",
       "      <td>0.556869</td>\n",
       "      <td>0.308156</td>\n",
       "      <td>0.064673</td>\n",
       "      <td>-0.146172</td>\n",
       "      <td>0.253257</td>\n",
       "      <td>0.039289</td>\n",
       "      <td>-0.160217</td>\n",
       "      <td>-0.322620</td>\n",
       "      <td>0.118402</td>\n",
       "      <td>0.040696</td>\n",
       "    </tr>\n",
       "    <tr>\n",
       "      <th>Outdoor Temperature</th>\n",
       "      <td>0.865930</td>\n",
       "      <td>0.454138</td>\n",
       "      <td>1.000000</td>\n",
       "      <td>0.303360</td>\n",
       "      <td>-0.671824</td>\n",
       "      <td>0.765620</td>\n",
       "      <td>0.750769</td>\n",
       "      <td>0.684301</td>\n",
       "      <td>0.579638</td>\n",
       "      <td>0.971662</td>\n",
       "      <td>0.893826</td>\n",
       "      <td>0.778973</td>\n",
       "      <td>0.640542</td>\n",
       "      <td>0.834565</td>\n",
       "      <td>0.795435</td>\n",
       "    </tr>\n",
       "    <tr>\n",
       "      <th>Room Lighting</th>\n",
       "      <td>0.080601</td>\n",
       "      <td>0.933885</td>\n",
       "      <td>0.303360</td>\n",
       "      <td>1.000000</td>\n",
       "      <td>-0.135387</td>\n",
       "      <td>0.333612</td>\n",
       "      <td>0.086304</td>\n",
       "      <td>-0.119875</td>\n",
       "      <td>-0.268342</td>\n",
       "      <td>0.091200</td>\n",
       "      <td>-0.112656</td>\n",
       "      <td>-0.283290</td>\n",
       "      <td>-0.404655</td>\n",
       "      <td>0.001968</td>\n",
       "      <td>-0.072806</td>\n",
       "    </tr>\n",
       "    <tr>\n",
       "      <th>Outdoor Humidity</th>\n",
       "      <td>-0.750835</td>\n",
       "      <td>-0.212624</td>\n",
       "      <td>-0.671824</td>\n",
       "      <td>-0.135387</td>\n",
       "      <td>1.000000</td>\n",
       "      <td>-0.345708</td>\n",
       "      <td>-0.346709</td>\n",
       "      <td>-0.323347</td>\n",
       "      <td>-0.281903</td>\n",
       "      <td>-0.676515</td>\n",
       "      <td>-0.663862</td>\n",
       "      <td>-0.637490</td>\n",
       "      <td>-0.601546</td>\n",
       "      <td>-0.743723</td>\n",
       "      <td>-0.734059</td>\n",
       "    </tr>\n",
       "    <tr>\n",
       "      <th>Sun Irradiance -3hr</th>\n",
       "      <td>0.533422</td>\n",
       "      <td>0.556869</td>\n",
       "      <td>0.765620</td>\n",
       "      <td>0.333612</td>\n",
       "      <td>-0.345708</td>\n",
       "      <td>1.000000</td>\n",
       "      <td>0.929676</td>\n",
       "      <td>0.775066</td>\n",
       "      <td>0.556891</td>\n",
       "      <td>0.721288</td>\n",
       "      <td>0.617338</td>\n",
       "      <td>0.456997</td>\n",
       "      <td>0.258424</td>\n",
       "      <td>0.496654</td>\n",
       "      <td>0.450704</td>\n",
       "    </tr>\n",
       "    <tr>\n",
       "      <th>Sun Irradiance -4hr</th>\n",
       "      <td>0.572371</td>\n",
       "      <td>0.308156</td>\n",
       "      <td>0.750769</td>\n",
       "      <td>0.086304</td>\n",
       "      <td>-0.346709</td>\n",
       "      <td>0.929676</td>\n",
       "      <td>1.000000</td>\n",
       "      <td>0.929676</td>\n",
       "      <td>0.775077</td>\n",
       "      <td>0.765918</td>\n",
       "      <td>0.721954</td>\n",
       "      <td>0.618678</td>\n",
       "      <td>0.459206</td>\n",
       "      <td>0.556070</td>\n",
       "      <td>0.529822</td>\n",
       "    </tr>\n",
       "    <tr>\n",
       "      <th>Sun Irradiance -5hr</th>\n",
       "      <td>0.573599</td>\n",
       "      <td>0.064673</td>\n",
       "      <td>0.684301</td>\n",
       "      <td>-0.119875</td>\n",
       "      <td>-0.323347</td>\n",
       "      <td>0.775066</td>\n",
       "      <td>0.929676</td>\n",
       "      <td>1.000000</td>\n",
       "      <td>0.929680</td>\n",
       "      <td>0.751075</td>\n",
       "      <td>0.766548</td>\n",
       "      <td>0.723187</td>\n",
       "      <td>0.620724</td>\n",
       "      <td>0.575585</td>\n",
       "      <td>0.568755</td>\n",
       "    </tr>\n",
       "    <tr>\n",
       "      <th>Sun Irradiance -6hr</th>\n",
       "      <td>0.543339</td>\n",
       "      <td>-0.146172</td>\n",
       "      <td>0.579638</td>\n",
       "      <td>-0.268342</td>\n",
       "      <td>-0.281903</td>\n",
       "      <td>0.556891</td>\n",
       "      <td>0.775077</td>\n",
       "      <td>0.929680</td>\n",
       "      <td>1.000000</td>\n",
       "      <td>0.684640</td>\n",
       "      <td>0.751700</td>\n",
       "      <td>0.767704</td>\n",
       "      <td>0.725087</td>\n",
       "      <td>0.560039</td>\n",
       "      <td>0.569977</td>\n",
       "    </tr>\n",
       "    <tr>\n",
       "      <th>Outdoor Temperature -1hr</th>\n",
       "      <td>0.898595</td>\n",
       "      <td>0.253257</td>\n",
       "      <td>0.971662</td>\n",
       "      <td>0.091200</td>\n",
       "      <td>-0.676515</td>\n",
       "      <td>0.721288</td>\n",
       "      <td>0.765918</td>\n",
       "      <td>0.751075</td>\n",
       "      <td>0.684640</td>\n",
       "      <td>1.000000</td>\n",
       "      <td>0.971760</td>\n",
       "      <td>0.894301</td>\n",
       "      <td>0.780078</td>\n",
       "      <td>0.885095</td>\n",
       "      <td>0.862392</td>\n",
       "    </tr>\n",
       "    <tr>\n",
       "      <th>Outdoor Temperature -2hr</th>\n",
       "      <td>0.894491</td>\n",
       "      <td>0.039289</td>\n",
       "      <td>0.893826</td>\n",
       "      <td>-0.112656</td>\n",
       "      <td>-0.663862</td>\n",
       "      <td>0.617338</td>\n",
       "      <td>0.721954</td>\n",
       "      <td>0.766548</td>\n",
       "      <td>0.751700</td>\n",
       "      <td>0.971760</td>\n",
       "      <td>1.000000</td>\n",
       "      <td>0.971905</td>\n",
       "      <td>0.894881</td>\n",
       "      <td>0.899388</td>\n",
       "      <td>0.895126</td>\n",
       "    </tr>\n",
       "    <tr>\n",
       "      <th>Outdoor Temperature -3hr</th>\n",
       "      <td>0.856404</td>\n",
       "      <td>-0.160217</td>\n",
       "      <td>0.778973</td>\n",
       "      <td>-0.283290</td>\n",
       "      <td>-0.637490</td>\n",
       "      <td>0.456997</td>\n",
       "      <td>0.618678</td>\n",
       "      <td>0.723187</td>\n",
       "      <td>0.767704</td>\n",
       "      <td>0.894301</td>\n",
       "      <td>0.971905</td>\n",
       "      <td>1.000000</td>\n",
       "      <td>0.972063</td>\n",
       "      <td>0.877783</td>\n",
       "      <td>0.891185</td>\n",
       "    </tr>\n",
       "    <tr>\n",
       "      <th>Outdoor Temperature -4hr</th>\n",
       "      <td>0.791515</td>\n",
       "      <td>-0.322620</td>\n",
       "      <td>0.640542</td>\n",
       "      <td>-0.404655</td>\n",
       "      <td>-0.601546</td>\n",
       "      <td>0.258424</td>\n",
       "      <td>0.459206</td>\n",
       "      <td>0.620724</td>\n",
       "      <td>0.725087</td>\n",
       "      <td>0.780078</td>\n",
       "      <td>0.894881</td>\n",
       "      <td>0.972063</td>\n",
       "      <td>1.000000</td>\n",
       "      <td>0.825500</td>\n",
       "      <td>0.853579</td>\n",
       "    </tr>\n",
       "    <tr>\n",
       "      <th>Indoor Room Temperature 30minutes before</th>\n",
       "      <td>0.996217</td>\n",
       "      <td>0.118402</td>\n",
       "      <td>0.834565</td>\n",
       "      <td>0.001968</td>\n",
       "      <td>-0.743723</td>\n",
       "      <td>0.496654</td>\n",
       "      <td>0.556070</td>\n",
       "      <td>0.575585</td>\n",
       "      <td>0.560039</td>\n",
       "      <td>0.885095</td>\n",
       "      <td>0.899388</td>\n",
       "      <td>0.877783</td>\n",
       "      <td>0.825500</td>\n",
       "      <td>1.000000</td>\n",
       "      <td>0.996223</td>\n",
       "    </tr>\n",
       "    <tr>\n",
       "      <th>Indoor Room Temperature 60minutes before</th>\n",
       "      <td>0.985519</td>\n",
       "      <td>0.040696</td>\n",
       "      <td>0.795435</td>\n",
       "      <td>-0.072806</td>\n",
       "      <td>-0.734059</td>\n",
       "      <td>0.450704</td>\n",
       "      <td>0.529822</td>\n",
       "      <td>0.568755</td>\n",
       "      <td>0.569977</td>\n",
       "      <td>0.862392</td>\n",
       "      <td>0.895126</td>\n",
       "      <td>0.891185</td>\n",
       "      <td>0.853579</td>\n",
       "      <td>0.996223</td>\n",
       "      <td>1.000000</td>\n",
       "    </tr>\n",
       "  </tbody>\n",
       "</table>\n",
       "</div>"
      ],
      "text/plain": [
       "                                          Indoor Room Temperature  \\\n",
       "Indoor Room Temperature                                  1.000000   \n",
       "Sun Irradiance                                           0.196430   \n",
       "Outdoor Temperature                                      0.865930   \n",
       "Room Lighting                                            0.080601   \n",
       "Outdoor Humidity                                        -0.750835   \n",
       "Sun Irradiance -3hr                                      0.533422   \n",
       "Sun Irradiance -4hr                                      0.572371   \n",
       "Sun Irradiance -5hr                                      0.573599   \n",
       "Sun Irradiance -6hr                                      0.543339   \n",
       "Outdoor Temperature -1hr                                 0.898595   \n",
       "Outdoor Temperature -2hr                                 0.894491   \n",
       "Outdoor Temperature -3hr                                 0.856404   \n",
       "Outdoor Temperature -4hr                                 0.791515   \n",
       "Indoor Room Temperature 30minutes before                 0.996217   \n",
       "Indoor Room Temperature 60minutes before                 0.985519   \n",
       "\n",
       "                                          Sun Irradiance  Outdoor Temperature  \\\n",
       "Indoor Room Temperature                         0.196430             0.865930   \n",
       "Sun Irradiance                                  1.000000             0.454138   \n",
       "Outdoor Temperature                             0.454138             1.000000   \n",
       "Room Lighting                                   0.933885             0.303360   \n",
       "Outdoor Humidity                               -0.212624            -0.671824   \n",
       "Sun Irradiance -3hr                             0.556869             0.765620   \n",
       "Sun Irradiance -4hr                             0.308156             0.750769   \n",
       "Sun Irradiance -5hr                             0.064673             0.684301   \n",
       "Sun Irradiance -6hr                            -0.146172             0.579638   \n",
       "Outdoor Temperature -1hr                        0.253257             0.971662   \n",
       "Outdoor Temperature -2hr                        0.039289             0.893826   \n",
       "Outdoor Temperature -3hr                       -0.160217             0.778973   \n",
       "Outdoor Temperature -4hr                       -0.322620             0.640542   \n",
       "Indoor Room Temperature 30minutes before        0.118402             0.834565   \n",
       "Indoor Room Temperature 60minutes before        0.040696             0.795435   \n",
       "\n",
       "                                          Room Lighting  Outdoor Humidity  \\\n",
       "Indoor Room Temperature                        0.080601         -0.750835   \n",
       "Sun Irradiance                                 0.933885         -0.212624   \n",
       "Outdoor Temperature                            0.303360         -0.671824   \n",
       "Room Lighting                                  1.000000         -0.135387   \n",
       "Outdoor Humidity                              -0.135387          1.000000   \n",
       "Sun Irradiance -3hr                            0.333612         -0.345708   \n",
       "Sun Irradiance -4hr                            0.086304         -0.346709   \n",
       "Sun Irradiance -5hr                           -0.119875         -0.323347   \n",
       "Sun Irradiance -6hr                           -0.268342         -0.281903   \n",
       "Outdoor Temperature -1hr                       0.091200         -0.676515   \n",
       "Outdoor Temperature -2hr                      -0.112656         -0.663862   \n",
       "Outdoor Temperature -3hr                      -0.283290         -0.637490   \n",
       "Outdoor Temperature -4hr                      -0.404655         -0.601546   \n",
       "Indoor Room Temperature 30minutes before       0.001968         -0.743723   \n",
       "Indoor Room Temperature 60minutes before      -0.072806         -0.734059   \n",
       "\n",
       "                                          Sun Irradiance -3hr  \\\n",
       "Indoor Room Temperature                              0.533422   \n",
       "Sun Irradiance                                       0.556869   \n",
       "Outdoor Temperature                                  0.765620   \n",
       "Room Lighting                                        0.333612   \n",
       "Outdoor Humidity                                    -0.345708   \n",
       "Sun Irradiance -3hr                                  1.000000   \n",
       "Sun Irradiance -4hr                                  0.929676   \n",
       "Sun Irradiance -5hr                                  0.775066   \n",
       "Sun Irradiance -6hr                                  0.556891   \n",
       "Outdoor Temperature -1hr                             0.721288   \n",
       "Outdoor Temperature -2hr                             0.617338   \n",
       "Outdoor Temperature -3hr                             0.456997   \n",
       "Outdoor Temperature -4hr                             0.258424   \n",
       "Indoor Room Temperature 30minutes before             0.496654   \n",
       "Indoor Room Temperature 60minutes before             0.450704   \n",
       "\n",
       "                                          Sun Irradiance -4hr  \\\n",
       "Indoor Room Temperature                              0.572371   \n",
       "Sun Irradiance                                       0.308156   \n",
       "Outdoor Temperature                                  0.750769   \n",
       "Room Lighting                                        0.086304   \n",
       "Outdoor Humidity                                    -0.346709   \n",
       "Sun Irradiance -3hr                                  0.929676   \n",
       "Sun Irradiance -4hr                                  1.000000   \n",
       "Sun Irradiance -5hr                                  0.929676   \n",
       "Sun Irradiance -6hr                                  0.775077   \n",
       "Outdoor Temperature -1hr                             0.765918   \n",
       "Outdoor Temperature -2hr                             0.721954   \n",
       "Outdoor Temperature -3hr                             0.618678   \n",
       "Outdoor Temperature -4hr                             0.459206   \n",
       "Indoor Room Temperature 30minutes before             0.556070   \n",
       "Indoor Room Temperature 60minutes before             0.529822   \n",
       "\n",
       "                                          Sun Irradiance -5hr  \\\n",
       "Indoor Room Temperature                              0.573599   \n",
       "Sun Irradiance                                       0.064673   \n",
       "Outdoor Temperature                                  0.684301   \n",
       "Room Lighting                                       -0.119875   \n",
       "Outdoor Humidity                                    -0.323347   \n",
       "Sun Irradiance -3hr                                  0.775066   \n",
       "Sun Irradiance -4hr                                  0.929676   \n",
       "Sun Irradiance -5hr                                  1.000000   \n",
       "Sun Irradiance -6hr                                  0.929680   \n",
       "Outdoor Temperature -1hr                             0.751075   \n",
       "Outdoor Temperature -2hr                             0.766548   \n",
       "Outdoor Temperature -3hr                             0.723187   \n",
       "Outdoor Temperature -4hr                             0.620724   \n",
       "Indoor Room Temperature 30minutes before             0.575585   \n",
       "Indoor Room Temperature 60minutes before             0.568755   \n",
       "\n",
       "                                          Sun Irradiance -6hr  \\\n",
       "Indoor Room Temperature                              0.543339   \n",
       "Sun Irradiance                                      -0.146172   \n",
       "Outdoor Temperature                                  0.579638   \n",
       "Room Lighting                                       -0.268342   \n",
       "Outdoor Humidity                                    -0.281903   \n",
       "Sun Irradiance -3hr                                  0.556891   \n",
       "Sun Irradiance -4hr                                  0.775077   \n",
       "Sun Irradiance -5hr                                  0.929680   \n",
       "Sun Irradiance -6hr                                  1.000000   \n",
       "Outdoor Temperature -1hr                             0.684640   \n",
       "Outdoor Temperature -2hr                             0.751700   \n",
       "Outdoor Temperature -3hr                             0.767704   \n",
       "Outdoor Temperature -4hr                             0.725087   \n",
       "Indoor Room Temperature 30minutes before             0.560039   \n",
       "Indoor Room Temperature 60minutes before             0.569977   \n",
       "\n",
       "                                          Outdoor Temperature -1hr  \\\n",
       "Indoor Room Temperature                                   0.898595   \n",
       "Sun Irradiance                                            0.253257   \n",
       "Outdoor Temperature                                       0.971662   \n",
       "Room Lighting                                             0.091200   \n",
       "Outdoor Humidity                                         -0.676515   \n",
       "Sun Irradiance -3hr                                       0.721288   \n",
       "Sun Irradiance -4hr                                       0.765918   \n",
       "Sun Irradiance -5hr                                       0.751075   \n",
       "Sun Irradiance -6hr                                       0.684640   \n",
       "Outdoor Temperature -1hr                                  1.000000   \n",
       "Outdoor Temperature -2hr                                  0.971760   \n",
       "Outdoor Temperature -3hr                                  0.894301   \n",
       "Outdoor Temperature -4hr                                  0.780078   \n",
       "Indoor Room Temperature 30minutes before                  0.885095   \n",
       "Indoor Room Temperature 60minutes before                  0.862392   \n",
       "\n",
       "                                          Outdoor Temperature -2hr  \\\n",
       "Indoor Room Temperature                                   0.894491   \n",
       "Sun Irradiance                                            0.039289   \n",
       "Outdoor Temperature                                       0.893826   \n",
       "Room Lighting                                            -0.112656   \n",
       "Outdoor Humidity                                         -0.663862   \n",
       "Sun Irradiance -3hr                                       0.617338   \n",
       "Sun Irradiance -4hr                                       0.721954   \n",
       "Sun Irradiance -5hr                                       0.766548   \n",
       "Sun Irradiance -6hr                                       0.751700   \n",
       "Outdoor Temperature -1hr                                  0.971760   \n",
       "Outdoor Temperature -2hr                                  1.000000   \n",
       "Outdoor Temperature -3hr                                  0.971905   \n",
       "Outdoor Temperature -4hr                                  0.894881   \n",
       "Indoor Room Temperature 30minutes before                  0.899388   \n",
       "Indoor Room Temperature 60minutes before                  0.895126   \n",
       "\n",
       "                                          Outdoor Temperature -3hr  \\\n",
       "Indoor Room Temperature                                   0.856404   \n",
       "Sun Irradiance                                           -0.160217   \n",
       "Outdoor Temperature                                       0.778973   \n",
       "Room Lighting                                            -0.283290   \n",
       "Outdoor Humidity                                         -0.637490   \n",
       "Sun Irradiance -3hr                                       0.456997   \n",
       "Sun Irradiance -4hr                                       0.618678   \n",
       "Sun Irradiance -5hr                                       0.723187   \n",
       "Sun Irradiance -6hr                                       0.767704   \n",
       "Outdoor Temperature -1hr                                  0.894301   \n",
       "Outdoor Temperature -2hr                                  0.971905   \n",
       "Outdoor Temperature -3hr                                  1.000000   \n",
       "Outdoor Temperature -4hr                                  0.972063   \n",
       "Indoor Room Temperature 30minutes before                  0.877783   \n",
       "Indoor Room Temperature 60minutes before                  0.891185   \n",
       "\n",
       "                                          Outdoor Temperature -4hr  \\\n",
       "Indoor Room Temperature                                   0.791515   \n",
       "Sun Irradiance                                           -0.322620   \n",
       "Outdoor Temperature                                       0.640542   \n",
       "Room Lighting                                            -0.404655   \n",
       "Outdoor Humidity                                         -0.601546   \n",
       "Sun Irradiance -3hr                                       0.258424   \n",
       "Sun Irradiance -4hr                                       0.459206   \n",
       "Sun Irradiance -5hr                                       0.620724   \n",
       "Sun Irradiance -6hr                                       0.725087   \n",
       "Outdoor Temperature -1hr                                  0.780078   \n",
       "Outdoor Temperature -2hr                                  0.894881   \n",
       "Outdoor Temperature -3hr                                  0.972063   \n",
       "Outdoor Temperature -4hr                                  1.000000   \n",
       "Indoor Room Temperature 30minutes before                  0.825500   \n",
       "Indoor Room Temperature 60minutes before                  0.853579   \n",
       "\n",
       "                                          Indoor Room Temperature 30minutes before  \\\n",
       "Indoor Room Temperature                                                   0.996217   \n",
       "Sun Irradiance                                                            0.118402   \n",
       "Outdoor Temperature                                                       0.834565   \n",
       "Room Lighting                                                             0.001968   \n",
       "Outdoor Humidity                                                         -0.743723   \n",
       "Sun Irradiance -3hr                                                       0.496654   \n",
       "Sun Irradiance -4hr                                                       0.556070   \n",
       "Sun Irradiance -5hr                                                       0.575585   \n",
       "Sun Irradiance -6hr                                                       0.560039   \n",
       "Outdoor Temperature -1hr                                                  0.885095   \n",
       "Outdoor Temperature -2hr                                                  0.899388   \n",
       "Outdoor Temperature -3hr                                                  0.877783   \n",
       "Outdoor Temperature -4hr                                                  0.825500   \n",
       "Indoor Room Temperature 30minutes before                                  1.000000   \n",
       "Indoor Room Temperature 60minutes before                                  0.996223   \n",
       "\n",
       "                                          Indoor Room Temperature 60minutes before  \n",
       "Indoor Room Temperature                                                   0.985519  \n",
       "Sun Irradiance                                                            0.040696  \n",
       "Outdoor Temperature                                                       0.795435  \n",
       "Room Lighting                                                            -0.072806  \n",
       "Outdoor Humidity                                                         -0.734059  \n",
       "Sun Irradiance -3hr                                                       0.450704  \n",
       "Sun Irradiance -4hr                                                       0.529822  \n",
       "Sun Irradiance -5hr                                                       0.568755  \n",
       "Sun Irradiance -6hr                                                       0.569977  \n",
       "Outdoor Temperature -1hr                                                  0.862392  \n",
       "Outdoor Temperature -2hr                                                  0.895126  \n",
       "Outdoor Temperature -3hr                                                  0.891185  \n",
       "Outdoor Temperature -4hr                                                  0.853579  \n",
       "Indoor Room Temperature 30minutes before                                  0.996223  \n",
       "Indoor Room Temperature 60minutes before                                  1.000000  "
      ]
     },
     "execution_count": 13,
     "metadata": {},
     "output_type": "execute_result"
    }
   ],
   "source": [
    "DF_Lagged.corr()"
   ]
  },
  {
   "cell_type": "markdown",
   "metadata": {},
   "source": [
    "In the next plot, I can show visually the strength of the correlations."
   ]
  },
  {
   "cell_type": "code",
   "execution_count": 14,
   "metadata": {
    "collapsed": false
   },
   "outputs": [
    {
     "data": {
      "image/png": "[encoded data removed]",
      "text/plain": [
       "<matplotlib.figure.Figure at 0xd2e67b8>"
      ]
     },
     "metadata": {},
     "output_type": "display_data"
    }
   ],
   "source": [
    "fig = plt.figure(\"Figure for providing insight about Correlations\")\n",
    "plot = fig.add_axes()\n",
    "plot = sns.heatmap(DF_Lagged.corr(), annot = False)\n",
    "plot.xaxis.tick_top() \n",
    "plt.yticks(rotation=0)\n",
    "plt.xticks(rotation=90)\n",
    "plt.show()"
   ]
  },
  {
   "cell_type": "markdown",
   "metadata": {},
   "source": [
    "I'm now introducing a function to *normalize* the data and eliminate the problem of different unit. "
   ]
  },
  {
   "cell_type": "code",
   "execution_count": 15,
   "metadata": {
    "collapsed": true
   },
   "outputs": [],
   "source": [
    "def normalize(DF):\n",
    "    return (DF-DF.min())/(DF.max()-DF.min())"
   ]
  },
  {
   "cell_type": "markdown",
   "metadata": {},
   "source": [
    "I'm now plotting some specific columns of the normalized DataFrame.\n",
    "About this next plot, something can be noticed:\n",
    "\n",
    "1) the indoor room temperature increases w.r.t. outdoor temperature almost in real time while it takes time for sun irradiation to heat up the room, therefore sun irradiation has its peak earlier than room indoor temperature; \n",
    "\n",
    "2) in some period, sun irradiance is irregular. This is probably due to rainy or cloudy days;  \n",
    "\n",
    "3) during night time, sun irradiation is nill.\n"
   ]
  },
  {
   "cell_type": "code",
   "execution_count": 16,
   "metadata": {
    "collapsed": false
   },
   "outputs": [
    {
     "data": {
      "image/png": "[encoded data removed]",
      "text/plain": [
       "<matplotlib.figure.Figure at 0xda30f98>"
      ]
     },
     "metadata": {},
     "output_type": "display_data"
    }
   ],
   "source": [
    "NormDF=normalize(DF_Choosen)\n",
    "PlotDF=NormDF[[\"Indoor Room Temperature\",\"Sun Irradiance\",\"Outdoor Temperature\"]]\n",
    "PlotDF.plot()\n",
    "plt.title(\"Normalized plot\")\n",
    "plt.show()"
   ]
  },
  {
   "cell_type": "markdown",
   "metadata": {},
   "source": [
    "I can now add some time-related features like hour, day of the week, day or night or also weekend."
   ]
  },
  {
   "cell_type": "code",
   "execution_count": 18,
   "metadata": {
    "collapsed": false
   },
   "outputs": [],
   "source": [
    "DF_Lagged['Hour'] = DF_Lagged.index.hour\n",
    "DF_Lagged['Day Of The Week'] = DF_Lagged.index.dayofweek\n",
    "DF_Lagged['Day Or Night'] = np.where((DF_Lagged['Hour'] >= 6)&(DF_Lagged['Hour'] <= 17), 1, 0)\n",
    "\n",
    "def WeekendFinder(day):\n",
    "    if (day == 0 or day == 1):\n",
    "        weekend = 1\n",
    "    else:\n",
    "        weekend = 0\n",
    "    return weekend \n",
    "\n",
    "DF_Lagged['Weekend'] = [WeekendFinder(s) for s in DF_Lagged['Day Of The Week']]\n",
    "DF_Lagged.dropna(inplace = True)"
   ]
  },
  {
   "cell_type": "markdown",
   "metadata": {},
   "source": [
    "*Day or night* is 1 if it's day time. "
   ]
  },
  {
   "cell_type": "code",
   "execution_count": 19,
   "metadata": {
    "collapsed": false
   },
   "outputs": [
    {
     "data": {
      "text/html": [
       "<div>\n",
       "<style>\n",
       "    .dataframe thead tr:only-child th {\n",
       "        text-align: right;\n",
       "    }\n",
       "\n",
       "    .dataframe thead th {\n",
       "        text-align: left;\n",
       "    }\n",
       "\n",
       "    .dataframe tbody tr th {\n",
       "        vertical-align: top;\n",
       "    }\n",
       "</style>\n",
       "<table border=\"1\" class=\"dataframe\">\n",
       "  <thead>\n",
       "    <tr style=\"text-align: right;\">\n",
       "      <th></th>\n",
       "      <th>Indoor Room Temperature</th>\n",
       "      <th>Sun Irradiance</th>\n",
       "      <th>Outdoor Temperature</th>\n",
       "      <th>Room Lighting</th>\n",
       "      <th>Outdoor Humidity</th>\n",
       "      <th>Sun Irradiance -3hr</th>\n",
       "      <th>Sun Irradiance -4hr</th>\n",
       "      <th>Sun Irradiance -5hr</th>\n",
       "      <th>Sun Irradiance -6hr</th>\n",
       "      <th>Outdoor Temperature -1hr</th>\n",
       "      <th>Outdoor Temperature -2hr</th>\n",
       "      <th>Outdoor Temperature -3hr</th>\n",
       "      <th>Outdoor Temperature -4hr</th>\n",
       "      <th>Indoor Room Temperature 30minutes before</th>\n",
       "      <th>Indoor Room Temperature 60minutes before</th>\n",
       "      <th>Hour</th>\n",
       "      <th>Day Of The Week</th>\n",
       "      <th>Day Or Night</th>\n",
       "      <th>Weekend</th>\n",
       "    </tr>\n",
       "    <tr>\n",
       "      <th>Date_Time</th>\n",
       "      <th></th>\n",
       "      <th></th>\n",
       "      <th></th>\n",
       "      <th></th>\n",
       "      <th></th>\n",
       "      <th></th>\n",
       "      <th></th>\n",
       "      <th></th>\n",
       "      <th></th>\n",
       "      <th></th>\n",
       "      <th></th>\n",
       "      <th></th>\n",
       "      <th></th>\n",
       "      <th></th>\n",
       "      <th></th>\n",
       "      <th></th>\n",
       "      <th></th>\n",
       "      <th></th>\n",
       "      <th></th>\n",
       "    </tr>\n",
       "  </thead>\n",
       "  <tbody>\n",
       "    <tr>\n",
       "      <th>2012-03-15 06:00:00</th>\n",
       "      <td>18.8607</td>\n",
       "      <td>0.00000</td>\n",
       "      <td>12.2227</td>\n",
       "      <td>11.7033</td>\n",
       "      <td>71.2800</td>\n",
       "      <td>0.0</td>\n",
       "      <td>0.0</td>\n",
       "      <td>0.0</td>\n",
       "      <td>0.0</td>\n",
       "      <td>12.6680</td>\n",
       "      <td>12.5873</td>\n",
       "      <td>12.5907</td>\n",
       "      <td>12.6680</td>\n",
       "      <td>18.9447</td>\n",
       "      <td>19.0000</td>\n",
       "      <td>6</td>\n",
       "      <td>3</td>\n",
       "      <td>1</td>\n",
       "      <td>0</td>\n",
       "    </tr>\n",
       "    <tr>\n",
       "      <th>2012-03-15 06:15:00</th>\n",
       "      <td>18.7953</td>\n",
       "      <td>0.00000</td>\n",
       "      <td>12.0147</td>\n",
       "      <td>12.1747</td>\n",
       "      <td>70.9653</td>\n",
       "      <td>0.0</td>\n",
       "      <td>0.0</td>\n",
       "      <td>0.0</td>\n",
       "      <td>0.0</td>\n",
       "      <td>12.6380</td>\n",
       "      <td>12.5967</td>\n",
       "      <td>12.5907</td>\n",
       "      <td>12.6267</td>\n",
       "      <td>18.9207</td>\n",
       "      <td>18.9900</td>\n",
       "      <td>6</td>\n",
       "      <td>3</td>\n",
       "      <td>1</td>\n",
       "      <td>0</td>\n",
       "    </tr>\n",
       "    <tr>\n",
       "      <th>2012-03-15 06:30:00</th>\n",
       "      <td>18.7267</td>\n",
       "      <td>6.12933</td>\n",
       "      <td>11.7967</td>\n",
       "      <td>20.1000</td>\n",
       "      <td>70.4773</td>\n",
       "      <td>0.0</td>\n",
       "      <td>0.0</td>\n",
       "      <td>0.0</td>\n",
       "      <td>0.0</td>\n",
       "      <td>12.5220</td>\n",
       "      <td>12.6067</td>\n",
       "      <td>12.5933</td>\n",
       "      <td>12.6133</td>\n",
       "      <td>18.8607</td>\n",
       "      <td>18.9447</td>\n",
       "      <td>6</td>\n",
       "      <td>3</td>\n",
       "      <td>1</td>\n",
       "      <td>0</td>\n",
       "    </tr>\n",
       "    <tr>\n",
       "      <th>2012-03-15 06:45:00</th>\n",
       "      <td>18.6720</td>\n",
       "      <td>41.16070</td>\n",
       "      <td>11.5727</td>\n",
       "      <td>21.3267</td>\n",
       "      <td>70.1413</td>\n",
       "      <td>0.0</td>\n",
       "      <td>0.0</td>\n",
       "      <td>0.0</td>\n",
       "      <td>0.0</td>\n",
       "      <td>12.3907</td>\n",
       "      <td>12.6367</td>\n",
       "      <td>12.5900</td>\n",
       "      <td>12.6033</td>\n",
       "      <td>18.7953</td>\n",
       "      <td>18.9207</td>\n",
       "      <td>6</td>\n",
       "      <td>3</td>\n",
       "      <td>1</td>\n",
       "      <td>0</td>\n",
       "    </tr>\n",
       "    <tr>\n",
       "      <th>2012-03-15 07:00:00</th>\n",
       "      <td>18.6067</td>\n",
       "      <td>83.40000</td>\n",
       "      <td>11.4327</td>\n",
       "      <td>23.0627</td>\n",
       "      <td>69.5067</td>\n",
       "      <td>0.0</td>\n",
       "      <td>0.0</td>\n",
       "      <td>0.0</td>\n",
       "      <td>0.0</td>\n",
       "      <td>12.2227</td>\n",
       "      <td>12.6680</td>\n",
       "      <td>12.5873</td>\n",
       "      <td>12.5907</td>\n",
       "      <td>18.7267</td>\n",
       "      <td>18.8607</td>\n",
       "      <td>7</td>\n",
       "      <td>3</td>\n",
       "      <td>1</td>\n",
       "      <td>0</td>\n",
       "    </tr>\n",
       "  </tbody>\n",
       "</table>\n",
       "</div>"
      ],
      "text/plain": [
       "                     Indoor Room Temperature  Sun Irradiance  \\\n",
       "Date_Time                                                      \n",
       "2012-03-15 06:00:00                  18.8607         0.00000   \n",
       "2012-03-15 06:15:00                  18.7953         0.00000   \n",
       "2012-03-15 06:30:00                  18.7267         6.12933   \n",
       "2012-03-15 06:45:00                  18.6720        41.16070   \n",
       "2012-03-15 07:00:00                  18.6067        83.40000   \n",
       "\n",
       "                     Outdoor Temperature  Room Lighting  Outdoor Humidity  \\\n",
       "Date_Time                                                                   \n",
       "2012-03-15 06:00:00              12.2227        11.7033           71.2800   \n",
       "2012-03-15 06:15:00              12.0147        12.1747           70.9653   \n",
       "2012-03-15 06:30:00              11.7967        20.1000           70.4773   \n",
       "2012-03-15 06:45:00              11.5727        21.3267           70.1413   \n",
       "2012-03-15 07:00:00              11.4327        23.0627           69.5067   \n",
       "\n",
       "                     Sun Irradiance -3hr  Sun Irradiance -4hr  \\\n",
       "Date_Time                                                       \n",
       "2012-03-15 06:00:00                  0.0                  0.0   \n",
       "2012-03-15 06:15:00                  0.0                  0.0   \n",
       "2012-03-15 06:30:00                  0.0                  0.0   \n",
       "2012-03-15 06:45:00                  0.0                  0.0   \n",
       "2012-03-15 07:00:00                  0.0                  0.0   \n",
       "\n",
       "                     Sun Irradiance -5hr  Sun Irradiance -6hr  \\\n",
       "Date_Time                                                       \n",
       "2012-03-15 06:00:00                  0.0                  0.0   \n",
       "2012-03-15 06:15:00                  0.0                  0.0   \n",
       "2012-03-15 06:30:00                  0.0                  0.0   \n",
       "2012-03-15 06:45:00                  0.0                  0.0   \n",
       "2012-03-15 07:00:00                  0.0                  0.0   \n",
       "\n",
       "                     Outdoor Temperature -1hr  Outdoor Temperature -2hr  \\\n",
       "Date_Time                                                                 \n",
       "2012-03-15 06:00:00                   12.6680                   12.5873   \n",
       "2012-03-15 06:15:00                   12.6380                   12.5967   \n",
       "2012-03-15 06:30:00                   12.5220                   12.6067   \n",
       "2012-03-15 06:45:00                   12.3907                   12.6367   \n",
       "2012-03-15 07:00:00                   12.2227                   12.6680   \n",
       "\n",
       "                     Outdoor Temperature -3hr  Outdoor Temperature -4hr  \\\n",
       "Date_Time                                                                 \n",
       "2012-03-15 06:00:00                   12.5907                   12.6680   \n",
       "2012-03-15 06:15:00                   12.5907                   12.6267   \n",
       "2012-03-15 06:30:00                   12.5933                   12.6133   \n",
       "2012-03-15 06:45:00                   12.5900                   12.6033   \n",
       "2012-03-15 07:00:00                   12.5873                   12.5907   \n",
       "\n",
       "                     Indoor Room Temperature 30minutes before  \\\n",
       "Date_Time                                                       \n",
       "2012-03-15 06:00:00                                   18.9447   \n",
       "2012-03-15 06:15:00                                   18.9207   \n",
       "2012-03-15 06:30:00                                   18.8607   \n",
       "2012-03-15 06:45:00                                   18.7953   \n",
       "2012-03-15 07:00:00                                   18.7267   \n",
       "\n",
       "                     Indoor Room Temperature 60minutes before  Hour  \\\n",
       "Date_Time                                                             \n",
       "2012-03-15 06:00:00                                   19.0000     6   \n",
       "2012-03-15 06:15:00                                   18.9900     6   \n",
       "2012-03-15 06:30:00                                   18.9447     6   \n",
       "2012-03-15 06:45:00                                   18.9207     6   \n",
       "2012-03-15 07:00:00                                   18.8607     7   \n",
       "\n",
       "                     Day Of The Week  Day Or Night  Weekend  \n",
       "Date_Time                                                    \n",
       "2012-03-15 06:00:00                3             1        0  \n",
       "2012-03-15 06:15:00                3             1        0  \n",
       "2012-03-15 06:30:00                3             1        0  \n",
       "2012-03-15 06:45:00                3             1        0  \n",
       "2012-03-15 07:00:00                3             1        0  "
      ]
     },
     "execution_count": 19,
     "metadata": {},
     "output_type": "execute_result"
    }
   ],
   "source": [
    "DF_Lagged.head()"
   ]
  },
  {
   "cell_type": "markdown",
   "metadata": {},
   "source": [
    "//////////////////////////////////////////////////////////////////////////////////////////////////////////////////////////////////////////////////////////////////////////////////"
   ]
  },
  {
   "cell_type": "markdown",
   "metadata": {},
   "source": [
    "//////////////////////////////////////////////////////////////////////////////////////////////////////////////////////////////////////////////////////////////////////////////////"
   ]
  },
  {
   "cell_type": "markdown",
   "metadata": {},
   "source": [
    "Now I've to split the DataFrame in target and features. As target I want to choose the indoor room temperature."
   ]
  },
  {
   "cell_type": "code",
   "execution_count": 21,
   "metadata": {
    "collapsed": true
   },
   "outputs": [],
   "source": [
    "DF_Target = DF_Lagged[\"Indoor Room Temperature\"]\n",
    "DF_Features = DF_Lagged.drop(\"Indoor Room Temperature\",axis=1)"
   ]
  },
  {
   "cell_type": "markdown",
   "metadata": {},
   "source": [
    "I'm now creating a training dataset for *machine learning* and providing an independent testset which follows same probabilistic distribution of the training one.\n"
   ]
  },
  {
   "cell_type": "code",
   "execution_count": 22,
   "metadata": {
    "collapsed": true
   },
   "outputs": [],
   "source": [
    "from sklearn.model_selection import train_test_split\n",
    "X_train, X_test, Y_train, Y_test = train_test_split(DF_Features,DF_Target,test_size=0.2,random_state=41234)"
   ]
  },
  {
   "cell_type": "markdown",
   "metadata": {},
   "source": [
    "I'm now implementing *linear regression* technique."
   ]
  },
  {
   "cell_type": "code",
   "execution_count": 23,
   "metadata": {
    "collapsed": true
   },
   "outputs": [],
   "source": [
    "from sklearn import linear_model \n",
    "linear_reg = linear_model.LinearRegression()"
   ]
  },
  {
   "cell_type": "markdown",
   "metadata": {},
   "source": [
    "Now I want to train my model."
   ]
  },
  {
   "cell_type": "code",
   "execution_count": 24,
   "metadata": {
    "collapsed": true
   },
   "outputs": [],
   "source": [
    "linear_reg.fit(X_train,Y_train)\n",
    "Predicted_linearReg_split = linear_reg.predict(X_test)\n",
    "Predicted_DF_linearReg_split = pd.DataFrame(Predicted_linearReg_split, index=Y_test.index, columns=[\"Indoor Room Temperature Prediction_LR\"])\n",
    "Predicted_DF_linearReg_split = Predicted_DF_linearReg_split.join(Y_test)\n",
    "LearnedDataset = pd.DataFrame(Predicted_DF_linearReg_split).dropna()"
   ]
  },
  {
   "cell_type": "markdown",
   "metadata": {},
   "source": [
    "I want now to plot the learned Dataset in order to verify the quality of the prediction.\n",
    "From the plot it can be noticed how well the prediction has been made."
   ]
  },
  {
   "cell_type": "code",
   "execution_count": 25,
   "metadata": {
    "collapsed": false
   },
   "outputs": [
    {
     "data": {
      "image/png": "[encoded data removed]",
      "text/plain": [
       "<matplotlib.figure.Figure at 0xe5c3d30>"
      ]
     },
     "metadata": {},
     "output_type": "display_data"
    }
   ],
   "source": [
    "LearnedDataset.plot()\n",
    "plt.title(\"Plot for Train-Test approach_LR\")\n",
    "plt.show()"
   ]
  },
  {
   "cell_type": "markdown",
   "metadata": {},
   "source": [
    "One can already see only by graphical inspection how much the prediction sticks with the real values. Now I want to calculate how accurate the prediction is. "
   ]
  },
  {
   "cell_type": "code",
   "execution_count": 26,
   "metadata": {
    "collapsed": true
   },
   "outputs": [],
   "source": [
    "from sklearn.metrics import mean_absolute_error,mean_squared_error,r2_score"
   ]
  },
  {
   "cell_type": "code",
   "execution_count": 27,
   "metadata": {
    "collapsed": true
   },
   "outputs": [],
   "source": [
    "R2_linearReg_split = r2_score(Y_test,Predicted_linearReg_split) \n",
    "MAE_linearReg_split = mean_absolute_error(Y_test,Predicted_linearReg_split)\n",
    "MSE_linearReg_split = mean_squared_error(Y_test,Predicted_linearReg_split)"
   ]
  },
  {
   "cell_type": "markdown",
   "metadata": {},
   "source": [
    "Let's print the results. Perfectly accurate model gives R2 value equal to 1."
   ]
  },
  {
   "cell_type": "code",
   "execution_count": 28,
   "metadata": {
    "collapsed": false
   },
   "outputs": [
    {
     "name": "stdout",
     "output_type": "stream",
     "text": [
      "The R2_score is 0.999609207501\n",
      "The mean absoulute error is 0.0366705017666\n",
      "The mean squared error is 0.00352308739336\n"
     ]
    }
   ],
   "source": [
    "print \"The R2_score is \"+str(R2_linearReg_split)\n",
    "print \"The mean absoulute error is \"+str(MAE_linearReg_split)\n",
    "print \"The mean squared error is \"+str(MSE_linearReg_split)"
   ]
  },
  {
   "cell_type": "markdown",
   "metadata": {},
   "source": [
    "I'm now implementing K-fold cross-validation approach, in order to test the performances of the machine learning model.\n"
   ]
  },
  {
   "cell_type": "code",
   "execution_count": 29,
   "metadata": {
    "collapsed": true
   },
   "outputs": [],
   "source": [
    "from sklearn.model_selection import cross_val_predict"
   ]
  },
  {
   "cell_type": "code",
   "execution_count": 30,
   "metadata": {
    "collapsed": true
   },
   "outputs": [],
   "source": [
    "Predicted_linearReg_CV = cross_val_predict(linear_reg,DF_Features,DF_Target,cv=10)\n",
    "Predicted_DF_linearReg_CV=pd.DataFrame(Predicted_linearReg_CV, index = DF_Target.index,columns=[\"Indoor Room Temperature Prediction_CV\"])\n",
    "Predicted_DF_linearReg_CV = Predicted_DF_linearReg_CV.join(DF_Target)"
   ]
  },
  {
   "cell_type": "markdown",
   "metadata": {},
   "source": [
    "I want now to plot the learned Dataset in order to verify the quality of the prediction.\n",
    "From the plot it can be noticed how well the prediction has been made."
   ]
  },
  {
   "cell_type": "code",
   "execution_count": 31,
   "metadata": {
    "collapsed": false
   },
   "outputs": [
    {
     "data": {
      "image/png": "[encoded data removed]",
      "text/plain": [
       "<matplotlib.figure.Figure at 0xe753668>"
      ]
     },
     "metadata": {},
     "output_type": "display_data"
    }
   ],
   "source": [
    "Predicted_DF_linearReg_CV.plot()\n",
    "plt.title(\"Plot for Cross-Validation approach_CV\")\n",
    "plt.show()"
   ]
  },
  {
   "cell_type": "markdown",
   "metadata": {},
   "source": [
    "As in the previous case, also here the model sticks very well the real values. Now I want to calculate how accurate the prediction is in this case."
   ]
  },
  {
   "cell_type": "code",
   "execution_count": 32,
   "metadata": {
    "collapsed": true
   },
   "outputs": [],
   "source": [
    "R2_linearReg_CV = r2_score(Predicted_linearReg_CV,DF_Target)\n",
    "MAE_linearReg_CV = mean_absolute_error(Predicted_linearReg_CV, DF_Target)\n",
    "MSE_linearReg_CV = mean_squared_error(Predicted_linearReg_CV, DF_Target)"
   ]
  },
  {
   "cell_type": "markdown",
   "metadata": {},
   "source": [
    "Let's print the results."
   ]
  },
  {
   "cell_type": "code",
   "execution_count": 33,
   "metadata": {
    "collapsed": false
   },
   "outputs": [
    {
     "name": "stdout",
     "output_type": "stream",
     "text": [
      "The R2_score is 0.999253821756\n",
      "The mean absoulute error is 0.0468676810101\n",
      "The mean squared error is 0.00760000443016\n"
     ]
    }
   ],
   "source": [
    "print \"The R2_score is \"+str(R2_linearReg_CV)\n",
    "print \"The mean absoulute error is \"+str(MAE_linearReg_CV)\n",
    "print \"The mean squared error is \"+str(MSE_linearReg_CV)"
   ]
  },
  {
   "cell_type": "markdown",
   "metadata": {},
   "source": [
    "The first way of training the model gives a better result. Also this second one is very good though."
   ]
  },
  {
   "cell_type": "markdown",
   "metadata": {},
   "source": [
    "I'm now implementing Random Forest regression technique."
   ]
  },
  {
   "cell_type": "code",
   "execution_count": 35,
   "metadata": {
    "collapsed": true
   },
   "outputs": [],
   "source": [
    "from sklearn.ensemble import RandomForestRegressor\n",
    "reg_RF = RandomForestRegressor()\n",
    "Predicted_RF_CV = cross_val_predict(reg_RF,DF_Features,DF_Target,cv=10) \n",
    "Predicted_DF_RF_CV=pd.DataFrame(Predicted_RF_CV, index = DF_Target.index,columns=[\"Indoor Room Temperature Prediction_CV\"])\n",
    "Predicted_DF_RF_CV = Predicted_DF_RF_CV.join(DF_Target).dropna()"
   ]
  },
  {
   "cell_type": "markdown",
   "metadata": {},
   "source": [
    "I want now to plot the learned Dataset in order to verify the quality of the prediction."
   ]
  },
  {
   "cell_type": "code",
   "execution_count": 37,
   "metadata": {
    "collapsed": false
   },
   "outputs": [
    {
     "data": {
      "image/png": "[encoded data removed]",
      "text/plain": [
       "<matplotlib.figure.Figure at 0xe7fc198>"
      ]
     },
     "metadata": {},
     "output_type": "display_data"
    }
   ],
   "source": [
    "Fig = plt.figure(\"Actual Vs Prediction with Random Forest\")\n",
    "ax1 = Fig.add_subplot(111)\n",
    "plot = sns.regplot(x=\"Indoor Room Temperature\", y=\"Indoor Room Temperature Prediction_CV\",\n",
    "                   data=Predicted_DF_RF_CV,ax=ax1,\n",
    "                   line_kws={\"lw\":3,\"alpha\":0.5})\n",
    "plt.title('Predicted Indoor Room Temperature VS. Actual Indoor Room Temperature from 15/03/2012 to 22/03/2012')\n",
    "plot.set_xlim([10,26])                                                                  \n",
    "plot.set_ylim([10,26])                   \n",
    "plot.set_xlabel('Actual Indoor Room Temperature [deg C]')\n",
    "plot.set_ylabel('Predicted Indoor Room Temperature [deg C]')\n",
    "regline = plot.get_lines()[0];\n",
    "regline.set_color('yellow')\n",
    "plt.show(0)"
   ]
  },
  {
   "cell_type": "markdown",
   "metadata": {},
   "source": [
    "Also in this case predictions are pretty accurate, except from few points. Now I want to calculate how accurate the prediction are in this case."
   ]
  },
  {
   "cell_type": "code",
   "execution_count": 38,
   "metadata": {
    "collapsed": true
   },
   "outputs": [],
   "source": [
    "R2_RF_CV = r2_score(Predicted_RF_CV,DF_Target)\n",
    "MAE_RF_CV = mean_absolute_error(Predicted_RF_CV,DF_Target)\n",
    "MSE_RF_CV = mean_squared_error(Predicted_RF_CV,DF_Target)"
   ]
  },
  {
   "cell_type": "markdown",
   "metadata": {},
   "source": [
    "Let's print the results."
   ]
  },
  {
   "cell_type": "code",
   "execution_count": 39,
   "metadata": {
    "collapsed": false
   },
   "outputs": [
    {
     "name": "stdout",
     "output_type": "stream",
     "text": [
      "\n",
      "The R2_score is: 0.986928444184\n",
      "The Mean absoulute error is: 0.244390669739\n",
      "The Mean squared error is: 0.127767552089\n"
     ]
    }
   ],
   "source": [
    "print \"\\nThe R2_score is: \"+str(R2_RF_CV)\n",
    "print \"The Mean absoulute error is: \"+str(MAE_RF_CV)\n",
    "print \"The Mean squared error is: \"+str(MSE_RF_CV)"
   ]
  },
  {
   "cell_type": "markdown",
   "metadata": {},
   "source": [
    "In this case we get the worst result, which still is almost perfect."
   ]
  },
  {
   "cell_type": "markdown",
   "metadata": {},
   "source": [
    "I want now to use continuous learning."
   ]
  },
  {
   "cell_type": "code",
   "execution_count": 40,
   "metadata": {
    "collapsed": true
   },
   "outputs": [],
   "source": [
    "DF_IndoorTemperaturePrediction = pd.DataFrame(index = DF_Lagged.index)\n",
    "Period_of_training = pd.Timedelta(4, unit =\"d\")\n",
    "FirstTimeStamp_measured = DF_Lagged.index[0]\n",
    "LastTimeStamp_measured = DF_Lagged.index[-1] "
   ]
  },
  {
   "cell_type": "markdown",
   "metadata": {},
   "source": [
    "Let's se now the beginning of the prediction period, which comes after a period of training for the model."
   ]
  },
  {
   "cell_type": "code",
   "execution_count": 41,
   "metadata": {
    "collapsed": true
   },
   "outputs": [],
   "source": [
    "FirstTimeStamp_toPredict = FirstTimeStamp_measured + Period_of_training"
   ]
  },
  {
   "cell_type": "markdown",
   "metadata": {},
   "source": [
    "The training starts at the first measure we have, and ends at the beggining of the prediction."
   ]
  },
  {
   "cell_type": "code",
   "execution_count": 42,
   "metadata": {
    "collapsed": true
   },
   "outputs": [],
   "source": [
    "Training_startTimeStamp = FirstTimeStamp_measured\n",
    "Trainig_endTimeStamp = FirstTimeStamp_toPredict                                             \n",
    "TimeStamp_toPredict = FirstTimeStamp_toPredict"
   ]
  },
  {
   "cell_type": "markdown",
   "metadata": {},
   "source": [
    "With the next command I'll remove from the DataFrame all the measurement taken before the beginning of the predictions."
   ]
  },
  {
   "cell_type": "code",
   "execution_count": 43,
   "metadata": {
    "collapsed": true
   },
   "outputs": [],
   "source": [
    "DF_IndoorTemperaturePrediction = DF_IndoorTemperaturePrediction.truncate(before = Trainig_endTimeStamp) "
   ]
  },
  {
   "cell_type": "markdown",
   "metadata": {},
   "source": [
    "It's now time to train the model, and create a DataFrame comparing actual values and predictions. First I use linear regression."
   ]
  },
  {
   "cell_type": "code",
   "execution_count": 44,
   "metadata": {
    "collapsed": true
   },
   "outputs": [],
   "source": [
    "while (TimeStamp_toPredict < LastTimeStamp_measured): \n",
    "    DF_feature_train = DF_Features.truncate(before = Training_startTimeStamp, after = Trainig_endTimeStamp)        \n",
    "    DF_target_train = DF_Target.truncate(before = Training_startTimeStamp, after = Trainig_endTimeStamp)\n",
    "    DF_feature_test = DF_Features.loc[TimeStamp_toPredict].values.reshape(1,-1)\n",
    "    DF_target_test = DF_Target.loc[TimeStamp_toPredict]\n",
    "    linear_reg.fit(DF_feature_train,DF_target_train)\n",
    "    Predicted_Temperature = linear_reg.predict(DF_feature_test)\n",
    "    DF_IndoorTemperaturePrediction.loc[TimeStamp_toPredict,\"Predicted\"] = Predicted_Temperature\n",
    "    DF_IndoorTemperaturePrediction.loc[TimeStamp_toPredict,\"Real\"] = DF_target_test\n",
    "    TimeStamp_toPredict = TimeStamp_toPredict + pd.Timedelta(15, unit = \"m\")\n",
    "    Trainig_endTimeStamp = Trainig_endTimeStamp + pd.Timedelta(15, unit = \"m\")\n",
    "    Training_startTimeStamp = Training_startTimeStamp + pd.Timedelta(15, unit = \"m\")\n",
    "    \n",
    "DF_IndoorTemperaturePrediction.dropna(inplace = True)"
   ]
  },
  {
   "cell_type": "markdown",
   "metadata": {},
   "source": [
    "Let's see the R2 value of this case."
   ]
  },
  {
   "cell_type": "code",
   "execution_count": 45,
   "metadata": {
    "collapsed": false
   },
   "outputs": [
    {
     "name": "stdout",
     "output_type": "stream",
     "text": [
      "R2 value: 0.998685652885\n"
     ]
    }
   ],
   "source": [
    "R2_score_continuous_linearReg = r2_score(DF_IndoorTemperaturePrediction[[\"Real\"]],DF_IndoorTemperaturePrediction[[\"Predicted\"]])\n",
    "print(\"R2 value: \"+str(R2_score_continuous_linearReg))"
   ]
  },
  {
   "cell_type": "markdown",
   "metadata": {},
   "source": [
    "As one can see, the predictions are very accurate. Let's see some of them, to compare with the actual values."
   ]
  },
  {
   "cell_type": "code",
   "execution_count": 48,
   "metadata": {
    "collapsed": false
   },
   "outputs": [
    {
     "data": {
      "text/html": [
       "<div>\n",
       "<style>\n",
       "    .dataframe thead tr:only-child th {\n",
       "        text-align: right;\n",
       "    }\n",
       "\n",
       "    .dataframe thead th {\n",
       "        text-align: left;\n",
       "    }\n",
       "\n",
       "    .dataframe tbody tr th {\n",
       "        vertical-align: top;\n",
       "    }\n",
       "</style>\n",
       "<table border=\"1\" class=\"dataframe\">\n",
       "  <thead>\n",
       "    <tr style=\"text-align: right;\">\n",
       "      <th></th>\n",
       "      <th>Predicted</th>\n",
       "      <th>Real</th>\n",
       "    </tr>\n",
       "    <tr>\n",
       "      <th>Date_Time</th>\n",
       "      <th></th>\n",
       "      <th></th>\n",
       "    </tr>\n",
       "  </thead>\n",
       "  <tbody>\n",
       "    <tr>\n",
       "      <th>2012-03-19 06:00:00</th>\n",
       "      <td>17.552996</td>\n",
       "      <td>17.5080</td>\n",
       "    </tr>\n",
       "    <tr>\n",
       "      <th>2012-03-19 06:15:00</th>\n",
       "      <td>17.414753</td>\n",
       "      <td>17.4167</td>\n",
       "    </tr>\n",
       "    <tr>\n",
       "      <th>2012-03-19 06:30:00</th>\n",
       "      <td>17.262400</td>\n",
       "      <td>17.2840</td>\n",
       "    </tr>\n",
       "    <tr>\n",
       "      <th>2012-03-19 06:45:00</th>\n",
       "      <td>17.187451</td>\n",
       "      <td>17.1513</td>\n",
       "    </tr>\n",
       "    <tr>\n",
       "      <th>2012-03-19 07:00:00</th>\n",
       "      <td>17.063500</td>\n",
       "      <td>17.0500</td>\n",
       "    </tr>\n",
       "  </tbody>\n",
       "</table>\n",
       "</div>"
      ],
      "text/plain": [
       "                     Predicted     Real\n",
       "Date_Time                              \n",
       "2012-03-19 06:00:00  17.552996  17.5080\n",
       "2012-03-19 06:15:00  17.414753  17.4167\n",
       "2012-03-19 06:30:00  17.262400  17.2840\n",
       "2012-03-19 06:45:00  17.187451  17.1513\n",
       "2012-03-19 07:00:00  17.063500  17.0500"
      ]
     },
     "execution_count": 48,
     "metadata": {},
     "output_type": "execute_result"
    }
   ],
   "source": [
    "DF_IndoorTemperaturePrediction.head()"
   ]
  },
  {
   "cell_type": "code",
   "execution_count": 49,
   "metadata": {
    "collapsed": false
   },
   "outputs": [
    {
     "data": {
      "text/html": [
       "<div>\n",
       "<style>\n",
       "    .dataframe thead tr:only-child th {\n",
       "        text-align: right;\n",
       "    }\n",
       "\n",
       "    .dataframe thead th {\n",
       "        text-align: left;\n",
       "    }\n",
       "\n",
       "    .dataframe tbody tr th {\n",
       "        vertical-align: top;\n",
       "    }\n",
       "</style>\n",
       "<table border=\"1\" class=\"dataframe\">\n",
       "  <thead>\n",
       "    <tr style=\"text-align: right;\">\n",
       "      <th></th>\n",
       "      <th>Predicted</th>\n",
       "      <th>Real</th>\n",
       "    </tr>\n",
       "    <tr>\n",
       "      <th>Date_Time</th>\n",
       "      <th></th>\n",
       "      <th></th>\n",
       "    </tr>\n",
       "  </thead>\n",
       "  <tbody>\n",
       "    <tr>\n",
       "      <th>2012-03-22 22:30:00</th>\n",
       "      <td>16.486395</td>\n",
       "      <td>16.4973</td>\n",
       "    </tr>\n",
       "    <tr>\n",
       "      <th>2012-03-22 22:45:00</th>\n",
       "      <td>16.383050</td>\n",
       "      <td>16.3847</td>\n",
       "    </tr>\n",
       "    <tr>\n",
       "      <th>2012-03-22 23:00:00</th>\n",
       "      <td>16.255374</td>\n",
       "      <td>16.2967</td>\n",
       "    </tr>\n",
       "    <tr>\n",
       "      <th>2012-03-22 23:15:00</th>\n",
       "      <td>16.131800</td>\n",
       "      <td>16.1993</td>\n",
       "    </tr>\n",
       "    <tr>\n",
       "      <th>2012-03-22 23:30:00</th>\n",
       "      <td>16.032098</td>\n",
       "      <td>16.1033</td>\n",
       "    </tr>\n",
       "  </tbody>\n",
       "</table>\n",
       "</div>"
      ],
      "text/plain": [
       "                     Predicted     Real\n",
       "Date_Time                              \n",
       "2012-03-22 22:30:00  16.486395  16.4973\n",
       "2012-03-22 22:45:00  16.383050  16.3847\n",
       "2012-03-22 23:00:00  16.255374  16.2967\n",
       "2012-03-22 23:15:00  16.131800  16.1993\n",
       "2012-03-22 23:30:00  16.032098  16.1033"
      ]
     },
     "execution_count": 49,
     "metadata": {},
     "output_type": "execute_result"
    }
   ],
   "source": [
    "DF_IndoorTemperaturePrediction.tail()"
   ]
  },
  {
   "cell_type": "markdown",
   "metadata": {},
   "source": [
    "I'm now plotting the behaviour of this model."
   ]
  },
  {
   "cell_type": "code",
   "execution_count": 56,
   "metadata": {
    "collapsed": false
   },
   "outputs": [
    {
     "data": {
      "image/png": "[encoded data removed]",
      "text/plain": [
       "<matplotlib.figure.Figure at 0xde6ac88>"
      ]
     },
     "metadata": {},
     "output_type": "display_data"
    }
   ],
   "source": [
    "Fig = plt.figure(\"Actual Vs Prediction with LR\")\n",
    "ax1 = Fig.add_subplot(111)\n",
    "plot = sns.regplot(x=\"Real\", y=\"Predicted\",\n",
    "                   data=DF_IndoorTemperaturePrediction,ax=ax1,\n",
    "                   line_kws={\"lw\":3,\"alpha\":0.5})\n",
    "plt.title('Predicted Indoor Room Temperature VS. Actual Indoor Room Temperature from 19/03/2012 to 22/03/2012')\n",
    "plot.set_xlim([10,23])                                                                  \n",
    "plot.set_ylim([10,23])                   \n",
    "plot.set_xlabel('Actual Indoor Room Temperature [deg C]')\n",
    "plot.set_ylabel('Predicted Indoor Room Temperature [deg C]')\n",
    "regline = plot.get_lines()[0];\n",
    "regline.set_color('red')\n",
    "plt.show()"
   ]
  },
  {
   "cell_type": "markdown",
   "metadata": {},
   "source": [
    "One can see that also in this case, the prediction is really accurate, except for few points which are not well predicted."
   ]
  },
  {
   "cell_type": "markdown",
   "metadata": {},
   "source": [
    "Let's now do the same thing, but using Random Forest technique."
   ]
  },
  {
   "cell_type": "code",
   "execution_count": 59,
   "metadata": {
    "collapsed": false
   },
   "outputs": [],
   "source": [
    "DF_IndoorTemperaturePrediction = pd.DataFrame(index = DF_Lagged.index)\n",
    "Period_of_training = pd.Timedelta(4, unit =\"d\")\n",
    "FirstTimeStamp_measured = DF_Lagged.index[0]\n",
    "LastTimeStamp_measured = DF_Lagged.index[-1]                                                     \n",
    "FirstTimeStamp_toPredict = FirstTimeStamp_measured + Period_of_training\n",
    "Training_startTimeStamp = FirstTimeStamp_measured\n",
    "Trainig_endTimeStamp = FirstTimeStamp_toPredict                                             \n",
    "TimeStamp_toPredict = FirstTimeStamp_toPredict\n",
    "DF_IndoorTemperaturePrediction = DF_IndoorTemperaturePrediction.truncate(before = Trainig_endTimeStamp)"
   ]
  },
  {
   "cell_type": "code",
   "execution_count": 60,
   "metadata": {
    "collapsed": true
   },
   "outputs": [],
   "source": [
    "while (TimeStamp_toPredict < LastTimeStamp_measured):\n",
    "    DF_feature_train = DF_Features.truncate(before = Training_startTimeStamp, after = Trainig_endTimeStamp)         # tronca tutto quello prima di before e tutto quello dopo after\n",
    "    DF_target_train = DF_Target.truncate(before = Training_startTimeStamp, after = Trainig_endTimeStamp)\n",
    "    DF_feature_test = DF_Features.loc[TimeStamp_toPredict].values.reshape(1,-1)\n",
    "    DF_target_test = DF_Target.loc[TimeStamp_toPredict]\n",
    "    reg_RF.fit(DF_feature_train,DF_target_train)\n",
    "    Predicted_Temperature = reg_RF.predict(DF_feature_test)\n",
    "    DF_IndoorTemperaturePrediction.loc[TimeStamp_toPredict,\"Predicted\"] = Predicted_Temperature\n",
    "    DF_IndoorTemperaturePrediction.loc[TimeStamp_toPredict,\"Real\"] = DF_target_test\n",
    "    TimeStamp_toPredict = TimeStamp_toPredict + pd.Timedelta(15, unit = \"m\")\n",
    "    Trainig_endTimeStamp = Trainig_endTimeStamp + pd.Timedelta(15, unit = \"m\")\n",
    "    Training_startTimeStamp = Training_startTimeStamp + pd.Timedelta(15, unit = \"m\")\n",
    "\n",
    "DF_IndoorTemperaturePrediction.dropna(inplace = True)"
   ]
  },
  {
   "cell_type": "markdown",
   "metadata": {},
   "source": [
    "Let's see the R2 value of this case."
   ]
  },
  {
   "cell_type": "code",
   "execution_count": 61,
   "metadata": {
    "collapsed": false
   },
   "outputs": [
    {
     "name": "stdout",
     "output_type": "stream",
     "text": [
      "R2 value: 0.999000635014\n"
     ]
    }
   ],
   "source": [
    "R2_score_continuous_RF = r2_score(DF_IndoorTemperaturePrediction[[\"Real\"]],DF_IndoorTemperaturePrediction[[\"Predicted\"]])\n",
    "print(\"R2 value: \"+str(R2_score_continuous_RF))"
   ]
  },
  {
   "cell_type": "markdown",
   "metadata": {},
   "source": [
    "In this case, R2 value is even better than in the previous one."
   ]
  },
  {
   "cell_type": "code",
   "execution_count": 62,
   "metadata": {
    "collapsed": false
   },
   "outputs": [
    {
     "data": {
      "text/html": [
       "<div>\n",
       "<style>\n",
       "    .dataframe thead tr:only-child th {\n",
       "        text-align: right;\n",
       "    }\n",
       "\n",
       "    .dataframe thead th {\n",
       "        text-align: left;\n",
       "    }\n",
       "\n",
       "    .dataframe tbody tr th {\n",
       "        vertical-align: top;\n",
       "    }\n",
       "</style>\n",
       "<table border=\"1\" class=\"dataframe\">\n",
       "  <thead>\n",
       "    <tr style=\"text-align: right;\">\n",
       "      <th></th>\n",
       "      <th>Predicted</th>\n",
       "      <th>Real</th>\n",
       "    </tr>\n",
       "    <tr>\n",
       "      <th>Date_Time</th>\n",
       "      <th></th>\n",
       "      <th></th>\n",
       "    </tr>\n",
       "  </thead>\n",
       "  <tbody>\n",
       "    <tr>\n",
       "      <th>2012-03-19 06:00:00</th>\n",
       "      <td>17.52773</td>\n",
       "      <td>17.5080</td>\n",
       "    </tr>\n",
       "    <tr>\n",
       "      <th>2012-03-19 06:15:00</th>\n",
       "      <td>17.50402</td>\n",
       "      <td>17.4167</td>\n",
       "    </tr>\n",
       "    <tr>\n",
       "      <th>2012-03-19 06:30:00</th>\n",
       "      <td>17.36660</td>\n",
       "      <td>17.2840</td>\n",
       "    </tr>\n",
       "    <tr>\n",
       "      <th>2012-03-19 06:45:00</th>\n",
       "      <td>17.14097</td>\n",
       "      <td>17.1513</td>\n",
       "    </tr>\n",
       "    <tr>\n",
       "      <th>2012-03-19 07:00:00</th>\n",
       "      <td>17.10393</td>\n",
       "      <td>17.0500</td>\n",
       "    </tr>\n",
       "  </tbody>\n",
       "</table>\n",
       "</div>"
      ],
      "text/plain": [
       "                     Predicted     Real\n",
       "Date_Time                              \n",
       "2012-03-19 06:00:00   17.52773  17.5080\n",
       "2012-03-19 06:15:00   17.50402  17.4167\n",
       "2012-03-19 06:30:00   17.36660  17.2840\n",
       "2012-03-19 06:45:00   17.14097  17.1513\n",
       "2012-03-19 07:00:00   17.10393  17.0500"
      ]
     },
     "execution_count": 62,
     "metadata": {},
     "output_type": "execute_result"
    }
   ],
   "source": [
    "DF_IndoorTemperaturePrediction.head()"
   ]
  },
  {
   "cell_type": "code",
   "execution_count": 63,
   "metadata": {
    "collapsed": false
   },
   "outputs": [
    {
     "data": {
      "text/html": [
       "<div>\n",
       "<style>\n",
       "    .dataframe thead tr:only-child th {\n",
       "        text-align: right;\n",
       "    }\n",
       "\n",
       "    .dataframe thead th {\n",
       "        text-align: left;\n",
       "    }\n",
       "\n",
       "    .dataframe tbody tr th {\n",
       "        vertical-align: top;\n",
       "    }\n",
       "</style>\n",
       "<table border=\"1\" class=\"dataframe\">\n",
       "  <thead>\n",
       "    <tr style=\"text-align: right;\">\n",
       "      <th></th>\n",
       "      <th>Predicted</th>\n",
       "      <th>Real</th>\n",
       "    </tr>\n",
       "    <tr>\n",
       "      <th>Date_Time</th>\n",
       "      <th></th>\n",
       "      <th></th>\n",
       "    </tr>\n",
       "  </thead>\n",
       "  <tbody>\n",
       "    <tr>\n",
       "      <th>2012-03-22 22:30:00</th>\n",
       "      <td>16.50384</td>\n",
       "      <td>16.4973</td>\n",
       "    </tr>\n",
       "    <tr>\n",
       "      <th>2012-03-22 22:45:00</th>\n",
       "      <td>16.39290</td>\n",
       "      <td>16.3847</td>\n",
       "    </tr>\n",
       "    <tr>\n",
       "      <th>2012-03-22 23:00:00</th>\n",
       "      <td>16.30669</td>\n",
       "      <td>16.2967</td>\n",
       "    </tr>\n",
       "    <tr>\n",
       "      <th>2012-03-22 23:15:00</th>\n",
       "      <td>16.21044</td>\n",
       "      <td>16.1993</td>\n",
       "    </tr>\n",
       "    <tr>\n",
       "      <th>2012-03-22 23:30:00</th>\n",
       "      <td>16.07638</td>\n",
       "      <td>16.1033</td>\n",
       "    </tr>\n",
       "  </tbody>\n",
       "</table>\n",
       "</div>"
      ],
      "text/plain": [
       "                     Predicted     Real\n",
       "Date_Time                              \n",
       "2012-03-22 22:30:00   16.50384  16.4973\n",
       "2012-03-22 22:45:00   16.39290  16.3847\n",
       "2012-03-22 23:00:00   16.30669  16.2967\n",
       "2012-03-22 23:15:00   16.21044  16.1993\n",
       "2012-03-22 23:30:00   16.07638  16.1033"
      ]
     },
     "execution_count": 63,
     "metadata": {},
     "output_type": "execute_result"
    }
   ],
   "source": [
    "DF_IndoorTemperaturePrediction.tail()"
   ]
  },
  {
   "cell_type": "markdown",
   "metadata": {},
   "source": [
    "I'm now plotting the behaviour of this model."
   ]
  },
  {
   "cell_type": "code",
   "execution_count": 64,
   "metadata": {
    "collapsed": false
   },
   "outputs": [
    {
     "data": {
      "image/png": "[encoded data removed]",
      "text/plain": [
       "<matplotlib.figure.Figure at 0xe6850b8>"
      ]
     },
     "metadata": {},
     "output_type": "display_data"
    }
   ],
   "source": [
    "Fig = plt.figure(\"Actual Vs Prediction with RF\")\n",
    "ax1 = Fig.add_subplot(111)\n",
    "plot = sns.regplot(x=\"Real\", y=\"Predicted\",\n",
    "                   data=DF_IndoorTemperaturePrediction,ax=ax1,\n",
    "                   line_kws={\"lw\":3,\"alpha\":0.5})\n",
    "plt.title('Predicted Indoor Room Temperature VS. Actual Indoor Room Temperature from 19/03/2012 to 22/03/2012')\n",
    "plot.set_xlim([10,23])                                                                  \n",
    "plot.set_ylim([10,23])                   \n",
    "plot.set_xlabel('Actual Indoor Room Temperature [deg C]')\n",
    "plot.set_ylabel('Predicted Indoor Room Temperature [deg C]')\n",
    "regline = plot.get_lines()[0];\n",
    "regline.set_color('green')\n",
    "plt.show()"
   ]
  },
  {
   "cell_type": "markdown",
   "metadata": {},
   "source": [
    "Also from a graphic point of view, one can see that this last model predict very well the actual values, and is the best among the model used till now."
   ]
  },
  {
   "cell_type": "code",
   "execution_count": null,
   "metadata": {
    "collapsed": true
   },
   "outputs": [],
   "source": []
  }
 ],
 "metadata": {
  "kernelspec": {
   "display_name": "Python 2",
   "language": "python",
   "name": "python2"
  },
  "language_info": {
   "codemirror_mode": {
    "name": "ipython",
    "version": 2
   },
   "file_extension": ".py",
   "mimetype": "text/x-python",
   "name": "python",
   "nbconvert_exporter": "python",
   "pygments_lexer": "ipython2",
   "version": "2.7.13"
  }
 },
 "nbformat": 4,
 "nbformat_minor": 2
}
