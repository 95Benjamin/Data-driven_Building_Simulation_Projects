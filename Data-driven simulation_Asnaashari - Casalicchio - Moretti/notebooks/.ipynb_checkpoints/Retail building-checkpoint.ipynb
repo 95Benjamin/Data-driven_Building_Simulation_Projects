{
 "cells": [
  {
   "cell_type": "markdown",
   "metadata": {
    "deletable": true,
    "editable": true
   },
   "source": [
    "# Open the data set from .csv file"
   ]
  },
  {
   "cell_type": "code",
   "execution_count": 3,
   "metadata": {
    "collapsed": true,
    "deletable": true,
    "editable": true
   },
   "outputs": [],
   "source": [
    "import numpy as np\n",
    "import pandas as pd\n",
    "import matplotlib.pyplot as plt"
   ]
  },
  {
   "cell_type": "code",
   "execution_count": 4,
   "metadata": {
    "collapsed": true,
    "deletable": true,
    "editable": true
   },
   "outputs": [],
   "source": [
    "import os\n",
    "os.chdir(\"C:/Users/Giorgio/Desktop/Buildings python project/Data-driven simulation_Asnaashari - Casalicchio - Moretti\")"
   ]
  },
  {
   "cell_type": "code",
   "execution_count": 5,
   "metadata": {
    "collapsed": true,
    "deletable": true,
    "editable": true
   },
   "outputs": [],
   "source": [
    "DataFolderPath = \"C:/Users/Giorgio/Desktop/Buildings python project/Data-driven simulation_Asnaashari - Casalicchio - Moretti/data sets\"\n",
    "FileName = \"building5retail.csv\"\n",
    "FilePath = DataFolderPath + \"/\" + FileName\n",
    "\n",
    "DF_start = pd.read_csv(FilePath, sep = \",\", index_col = 0)"
   ]
  },
  {
   "cell_type": "markdown",
   "metadata": {
    "deletable": true,
    "editable": true
   },
   "source": [
    "The file provides data about the power consumption (in kW) of a retail building located in Hialeah, Florida (USA) and the outdoor temperature (in °F) of the location every 15 minutes for the whole year 2010."
   ]
  },
  {
   "cell_type": "markdown",
   "metadata": {
    "deletable": true,
    "editable": true
   },
   "source": [
    "Converting the index into date-time object."
   ]
  },
  {
   "cell_type": "code",
   "execution_count": 6,
   "metadata": {
    "collapsed": true,
    "deletable": true,
    "editable": true
   },
   "outputs": [],
   "source": [
    "PreviousIndex = DF_start.index\n",
    "ParsedIndex = pd.to_datetime(PreviousIndex)   \n",
    "DF_start.index = ParsedIndex"
   ]
  },
  {
   "cell_type": "markdown",
   "metadata": {
    "deletable": true,
    "editable": true
   },
   "source": [
    "Converting the temperature from °F to °C."
   ]
  },
  {
   "cell_type": "code",
   "execution_count": 7,
   "metadata": {
    "collapsed": false,
    "deletable": true,
    "editable": true
   },
   "outputs": [
    {
     "data": {
      "text/html": [
       "<div>\n",
       "<style>\n",
       "    .dataframe thead tr:only-child th {\n",
       "        text-align: right;\n",
       "    }\n",
       "\n",
       "    .dataframe thead th {\n",
       "        text-align: left;\n",
       "    }\n",
       "\n",
       "    .dataframe tbody tr th {\n",
       "        vertical-align: top;\n",
       "    }\n",
       "</style>\n",
       "<table border=\"1\" class=\"dataframe\">\n",
       "  <thead>\n",
       "    <tr style=\"text-align: right;\">\n",
       "      <th></th>\n",
       "      <th>Power (kW)</th>\n",
       "      <th>OAT (degC)</th>\n",
       "    </tr>\n",
       "    <tr>\n",
       "      <th>Timestamp</th>\n",
       "      <th></th>\n",
       "      <th></th>\n",
       "    </tr>\n",
       "  </thead>\n",
       "  <tbody>\n",
       "    <tr>\n",
       "      <th>2010-01-01 01:15:00</th>\n",
       "      <td>162.6</td>\n",
       "      <td>19.444444</td>\n",
       "    </tr>\n",
       "    <tr>\n",
       "      <th>2010-01-01 01:30:00</th>\n",
       "      <td>156.5</td>\n",
       "      <td>19.444444</td>\n",
       "    </tr>\n",
       "    <tr>\n",
       "      <th>2010-01-01 01:45:00</th>\n",
       "      <td>157.2</td>\n",
       "      <td>19.444444</td>\n",
       "    </tr>\n",
       "    <tr>\n",
       "      <th>2010-01-01 02:00:00</th>\n",
       "      <td>151.0</td>\n",
       "      <td>19.444444</td>\n",
       "    </tr>\n",
       "    <tr>\n",
       "      <th>2010-01-01 02:15:00</th>\n",
       "      <td>160.5</td>\n",
       "      <td>17.222222</td>\n",
       "    </tr>\n",
       "  </tbody>\n",
       "</table>\n",
       "</div>"
      ],
      "text/plain": [
       "                     Power (kW)  OAT (degC)\n",
       "Timestamp                                  \n",
       "2010-01-01 01:15:00       162.6   19.444444\n",
       "2010-01-01 01:30:00       156.5   19.444444\n",
       "2010-01-01 01:45:00       157.2   19.444444\n",
       "2010-01-01 02:00:00       151.0   19.444444\n",
       "2010-01-01 02:15:00       160.5   17.222222"
      ]
     },
     "execution_count": 7,
     "metadata": {},
     "output_type": "execute_result"
    }
   ],
   "source": [
    "DF_start[\"OAT (degC)\"] = (DF_start[\"OAT (F)\"] - 32)/1.8\n",
    "DF_consumption = DF_start.drop([\"OAT (F)\"], axis = 1)\n",
    "\n",
    "DF_consumption.head(5)"
   ]
  },
  {
   "cell_type": "markdown",
   "metadata": {
    "deletable": true,
    "editable": true
   },
   "source": [
    "# Visualizing the data"
   ]
  },
  {
   "cell_type": "markdown",
   "metadata": {
    "deletable": true,
    "editable": true
   },
   "source": [
    "Plotting the data during a week to see the possible correlation between consumption and outdoor temperature."
   ]
  },
  {
   "cell_type": "code",
   "execution_count": 8,
   "metadata": {
    "collapsed": false,
    "deletable": true,
    "editable": true
   },
   "outputs": [
    {
     "data": {
      "image/png": "[encoded data removed]",
      "text/plain": [
       "<matplotlib.figure.Figure at 0xd044e10>"
      ]
     },
     "metadata": {},
     "output_type": "display_data"
    }
   ],
   "source": [
    "DF_chosenDates = DF_consumption[\"2010-05-17\":\"2010-05-23\"] \n",
    "plt.subplot(211)\n",
    "DF_chosenDates[\"Power (kW)\"].plot(color = \"b\", grid = True)\n",
    "plt.xlabel('')\n",
    "plt.ylabel(\"Power conusmption [kW]\")\n",
    "plt.subplot(212)\n",
    "DF_chosenDates[\"OAT (degC)\"].plot(color = \"g\", grid = True)\n",
    "plt.ylabel(\"Outdoor temperature [degC]\")\n",
    "plt.suptitle(\"POWER CONSUMPTION AND TEMPERATURE FOR SELECTED DAYS\")\n",
    "plt.show()"
   ]
  },
  {
   "cell_type": "markdown",
   "metadata": {
    "deletable": true,
    "editable": true
   },
   "source": [
    "# Building the final data frame for machine learning predictions"
   ]
  },
  {
   "cell_type": "markdown",
   "metadata": {
    "deletable": true,
    "editable": true
   },
   "source": [
    "We use as features the consumption of the previus 24 hours, the temperature of the previous 6 hours and information about hour, day, month, weekend/workday, day/night."
   ]
  },
  {
   "cell_type": "code",
   "execution_count": 9,
   "metadata": {
    "collapsed": true,
    "deletable": true,
    "editable": true
   },
   "outputs": [],
   "source": [
    "import useful_functions as uf"
   ]
  },
  {
   "cell_type": "code",
   "execution_count": 10,
   "metadata": {
    "collapsed": false,
    "deletable": true,
    "editable": true
   },
   "outputs": [
    {
     "name": "stderr",
     "output_type": "stream",
     "text": [
      "C:\\Users\\Giorgio\\AppData\\Local\\Enthought\\Canopy\\edm\\envs\\User\\lib\\site-packages\\ipykernel\\__main__.py:6: SettingWithCopyWarning: \n",
      "A value is trying to be set on a copy of a slice from a DataFrame.\n",
      "Try using .loc[row_indexer,col_indexer] = value instead\n",
      "\n",
      "See the caveats in the documentation: http://pandas.pydata.org/pandas-docs/stable/indexing.html#indexing-view-versus-copy\n",
      "C:\\Users\\Giorgio\\AppData\\Local\\Enthought\\Canopy\\edm\\envs\\User\\lib\\site-packages\\ipykernel\\__main__.py:7: SettingWithCopyWarning: \n",
      "A value is trying to be set on a copy of a slice from a DataFrame.\n",
      "Try using .loc[row_indexer,col_indexer] = value instead\n",
      "\n",
      "See the caveats in the documentation: http://pandas.pydata.org/pandas-docs/stable/indexing.html#indexing-view-versus-copy\n",
      "C:\\Users\\Giorgio\\AppData\\Local\\Enthought\\Canopy\\edm\\envs\\User\\lib\\site-packages\\ipykernel\\__main__.py:8: SettingWithCopyWarning: \n",
      "A value is trying to be set on a copy of a slice from a DataFrame.\n",
      "Try using .loc[row_indexer,col_indexer] = value instead\n",
      "\n",
      "See the caveats in the documentation: http://pandas.pydata.org/pandas-docs/stable/indexing.html#indexing-view-versus-copy\n",
      "C:\\Users\\Giorgio\\AppData\\Local\\Enthought\\Canopy\\edm\\envs\\User\\lib\\site-packages\\ipykernel\\__main__.py:9: SettingWithCopyWarning: \n",
      "A value is trying to be set on a copy of a slice from a DataFrame.\n",
      "Try using .loc[row_indexer,col_indexer] = value instead\n",
      "\n",
      "See the caveats in the documentation: http://pandas.pydata.org/pandas-docs/stable/indexing.html#indexing-view-versus-copy\n",
      "C:\\Users\\Giorgio\\AppData\\Local\\Enthought\\Canopy\\edm\\envs\\User\\lib\\site-packages\\ipykernel\\__main__.py:10: SettingWithCopyWarning: \n",
      "A value is trying to be set on a copy of a slice from a DataFrame.\n",
      "Try using .loc[row_indexer,col_indexer] = value instead\n",
      "\n",
      "See the caveats in the documentation: http://pandas.pydata.org/pandas-docs/stable/indexing.html#indexing-view-versus-copy\n"
     ]
    },
    {
     "data": {
      "text/html": [
       "<div>\n",
       "<style>\n",
       "    .dataframe thead tr:only-child th {\n",
       "        text-align: right;\n",
       "    }\n",
       "\n",
       "    .dataframe thead th {\n",
       "        text-align: left;\n",
       "    }\n",
       "\n",
       "    .dataframe tbody tr th {\n",
       "        vertical-align: top;\n",
       "    }\n",
       "</style>\n",
       "<table border=\"1\" class=\"dataframe\">\n",
       "  <thead>\n",
       "    <tr style=\"text-align: right;\">\n",
       "      <th></th>\n",
       "      <th>Power (kW)</th>\n",
       "      <th>OAT (degC)</th>\n",
       "      <th>Power (kW)-60min</th>\n",
       "      <th>Power (kW)-75min</th>\n",
       "      <th>Power (kW)-90min</th>\n",
       "      <th>Power (kW)-105min</th>\n",
       "      <th>Power (kW)-120min</th>\n",
       "      <th>Power (kW)-135min</th>\n",
       "      <th>Power (kW)-150min</th>\n",
       "      <th>Power (kW)-165min</th>\n",
       "      <th>...</th>\n",
       "      <th>OAT (degC)-300min</th>\n",
       "      <th>OAT (degC)-315min</th>\n",
       "      <th>OAT (degC)-330min</th>\n",
       "      <th>OAT (degC)-345min</th>\n",
       "      <th>OAT (degC)-360min</th>\n",
       "      <th>hour</th>\n",
       "      <th>day</th>\n",
       "      <th>month</th>\n",
       "      <th>weekend</th>\n",
       "      <th>day_night</th>\n",
       "    </tr>\n",
       "    <tr>\n",
       "      <th>Timestamp</th>\n",
       "      <th></th>\n",
       "      <th></th>\n",
       "      <th></th>\n",
       "      <th></th>\n",
       "      <th></th>\n",
       "      <th></th>\n",
       "      <th></th>\n",
       "      <th></th>\n",
       "      <th></th>\n",
       "      <th></th>\n",
       "      <th></th>\n",
       "      <th></th>\n",
       "      <th></th>\n",
       "      <th></th>\n",
       "      <th></th>\n",
       "      <th></th>\n",
       "      <th></th>\n",
       "      <th></th>\n",
       "      <th></th>\n",
       "      <th></th>\n",
       "      <th></th>\n",
       "    </tr>\n",
       "  </thead>\n",
       "  <tbody>\n",
       "    <tr>\n",
       "      <th>2010-01-02 01:15:00</th>\n",
       "      <td>127.1</td>\n",
       "      <td>11.666667</td>\n",
       "      <td>137.8</td>\n",
       "      <td>149.8</td>\n",
       "      <td>168.0</td>\n",
       "      <td>204.7</td>\n",
       "      <td>209.4</td>\n",
       "      <td>329.3</td>\n",
       "      <td>341.8</td>\n",
       "      <td>339.4</td>\n",
       "      <td>...</td>\n",
       "      <td>17.777778</td>\n",
       "      <td>17.777778</td>\n",
       "      <td>17.777778</td>\n",
       "      <td>17.777778</td>\n",
       "      <td>17.777778</td>\n",
       "      <td>1</td>\n",
       "      <td>5</td>\n",
       "      <td>1</td>\n",
       "      <td>1</td>\n",
       "      <td>0</td>\n",
       "    </tr>\n",
       "    <tr>\n",
       "      <th>2010-01-02 01:30:00</th>\n",
       "      <td>127.5</td>\n",
       "      <td>11.666667</td>\n",
       "      <td>141.0</td>\n",
       "      <td>137.8</td>\n",
       "      <td>149.8</td>\n",
       "      <td>168.0</td>\n",
       "      <td>204.7</td>\n",
       "      <td>209.4</td>\n",
       "      <td>329.3</td>\n",
       "      <td>341.8</td>\n",
       "      <td>...</td>\n",
       "      <td>17.777778</td>\n",
       "      <td>17.777778</td>\n",
       "      <td>17.777778</td>\n",
       "      <td>17.777778</td>\n",
       "      <td>17.777778</td>\n",
       "      <td>1</td>\n",
       "      <td>5</td>\n",
       "      <td>1</td>\n",
       "      <td>1</td>\n",
       "      <td>0</td>\n",
       "    </tr>\n",
       "    <tr>\n",
       "      <th>2010-01-02 01:45:00</th>\n",
       "      <td>128.3</td>\n",
       "      <td>11.666667</td>\n",
       "      <td>125.5</td>\n",
       "      <td>141.0</td>\n",
       "      <td>137.8</td>\n",
       "      <td>149.8</td>\n",
       "      <td>168.0</td>\n",
       "      <td>204.7</td>\n",
       "      <td>209.4</td>\n",
       "      <td>329.3</td>\n",
       "      <td>...</td>\n",
       "      <td>17.777778</td>\n",
       "      <td>17.777778</td>\n",
       "      <td>17.777778</td>\n",
       "      <td>17.777778</td>\n",
       "      <td>17.777778</td>\n",
       "      <td>1</td>\n",
       "      <td>5</td>\n",
       "      <td>1</td>\n",
       "      <td>1</td>\n",
       "      <td>0</td>\n",
       "    </tr>\n",
       "    <tr>\n",
       "      <th>2010-01-02 02:00:00</th>\n",
       "      <td>128.5</td>\n",
       "      <td>11.666667</td>\n",
       "      <td>132.3</td>\n",
       "      <td>125.5</td>\n",
       "      <td>141.0</td>\n",
       "      <td>137.8</td>\n",
       "      <td>149.8</td>\n",
       "      <td>168.0</td>\n",
       "      <td>204.7</td>\n",
       "      <td>209.4</td>\n",
       "      <td>...</td>\n",
       "      <td>17.777778</td>\n",
       "      <td>17.777778</td>\n",
       "      <td>17.777778</td>\n",
       "      <td>17.777778</td>\n",
       "      <td>17.777778</td>\n",
       "      <td>2</td>\n",
       "      <td>5</td>\n",
       "      <td>1</td>\n",
       "      <td>1</td>\n",
       "      <td>0</td>\n",
       "    </tr>\n",
       "    <tr>\n",
       "      <th>2010-01-02 02:15:00</th>\n",
       "      <td>123.7</td>\n",
       "      <td>11.111111</td>\n",
       "      <td>127.1</td>\n",
       "      <td>132.3</td>\n",
       "      <td>125.5</td>\n",
       "      <td>141.0</td>\n",
       "      <td>137.8</td>\n",
       "      <td>149.8</td>\n",
       "      <td>168.0</td>\n",
       "      <td>204.7</td>\n",
       "      <td>...</td>\n",
       "      <td>15.555556</td>\n",
       "      <td>17.777778</td>\n",
       "      <td>17.777778</td>\n",
       "      <td>17.777778</td>\n",
       "      <td>17.777778</td>\n",
       "      <td>2</td>\n",
       "      <td>5</td>\n",
       "      <td>1</td>\n",
       "      <td>1</td>\n",
       "      <td>0</td>\n",
       "    </tr>\n",
       "  </tbody>\n",
       "</table>\n",
       "<p>5 rows × 121 columns</p>\n",
       "</div>"
      ],
      "text/plain": [
       "                     Power (kW)  OAT (degC)  Power (kW)-60min  \\\n",
       "Timestamp                                                       \n",
       "2010-01-02 01:15:00       127.1   11.666667             137.8   \n",
       "2010-01-02 01:30:00       127.5   11.666667             141.0   \n",
       "2010-01-02 01:45:00       128.3   11.666667             125.5   \n",
       "2010-01-02 02:00:00       128.5   11.666667             132.3   \n",
       "2010-01-02 02:15:00       123.7   11.111111             127.1   \n",
       "\n",
       "                     Power (kW)-75min  Power (kW)-90min  Power (kW)-105min  \\\n",
       "Timestamp                                                                    \n",
       "2010-01-02 01:15:00             149.8             168.0              204.7   \n",
       "2010-01-02 01:30:00             137.8             149.8              168.0   \n",
       "2010-01-02 01:45:00             141.0             137.8              149.8   \n",
       "2010-01-02 02:00:00             125.5             141.0              137.8   \n",
       "2010-01-02 02:15:00             132.3             125.5              141.0   \n",
       "\n",
       "                     Power (kW)-120min  Power (kW)-135min  Power (kW)-150min  \\\n",
       "Timestamp                                                                      \n",
       "2010-01-02 01:15:00              209.4              329.3              341.8   \n",
       "2010-01-02 01:30:00              204.7              209.4              329.3   \n",
       "2010-01-02 01:45:00              168.0              204.7              209.4   \n",
       "2010-01-02 02:00:00              149.8              168.0              204.7   \n",
       "2010-01-02 02:15:00              137.8              149.8              168.0   \n",
       "\n",
       "                     Power (kW)-165min    ...      OAT (degC)-300min  \\\n",
       "Timestamp                                 ...                          \n",
       "2010-01-02 01:15:00              339.4    ...              17.777778   \n",
       "2010-01-02 01:30:00              341.8    ...              17.777778   \n",
       "2010-01-02 01:45:00              329.3    ...              17.777778   \n",
       "2010-01-02 02:00:00              209.4    ...              17.777778   \n",
       "2010-01-02 02:15:00              204.7    ...              15.555556   \n",
       "\n",
       "                     OAT (degC)-315min  OAT (degC)-330min  OAT (degC)-345min  \\\n",
       "Timestamp                                                                      \n",
       "2010-01-02 01:15:00          17.777778          17.777778          17.777778   \n",
       "2010-01-02 01:30:00          17.777778          17.777778          17.777778   \n",
       "2010-01-02 01:45:00          17.777778          17.777778          17.777778   \n",
       "2010-01-02 02:00:00          17.777778          17.777778          17.777778   \n",
       "2010-01-02 02:15:00          17.777778          17.777778          17.777778   \n",
       "\n",
       "                     OAT (degC)-360min  hour  day  month  weekend  day_night  \n",
       "Timestamp                                                                     \n",
       "2010-01-02 01:15:00          17.777778     1    5      1        1          0  \n",
       "2010-01-02 01:30:00          17.777778     1    5      1        1          0  \n",
       "2010-01-02 01:45:00          17.777778     1    5      1        1          0  \n",
       "2010-01-02 02:00:00          17.777778     2    5      1        1          0  \n",
       "2010-01-02 02:15:00          17.777778     2    5      1        1          0  \n",
       "\n",
       "[5 rows x 121 columns]"
      ]
     },
     "execution_count": 10,
     "metadata": {},
     "output_type": "execute_result"
    }
   ],
   "source": [
    "DF_consumption = uf.lag_column15(DF_consumption, \"Power (kW)\", 4*24)\n",
    "DF_consumption = uf.lag_column15(DF_consumption, \"OAT (degC)\", 4*6)\n",
    "\n",
    "DF_final = DF_consumption.dropna()\n",
    "\n",
    "DF_final[\"hour\"] = DF_final.index.hour\n",
    "DF_final[\"day\"] = DF_final.index.dayofweek   \n",
    "DF_final[\"month\"] = DF_final.index.month\n",
    "DF_final['weekend'] = [uf.weekendDetector(thisDay) for thisDay in DF_final.index.dayofweek]\n",
    "DF_final['day_night'] = [uf.dayDetector(thisHour) for thisHour in DF_final.index.hour]\n",
    "\n",
    "DF_final.head(5)"
   ]
  },
  {
   "cell_type": "markdown",
   "metadata": {
    "deletable": true,
    "editable": true
   },
   "source": [
    "# Machine learning"
   ]
  },
  {
   "cell_type": "markdown",
   "metadata": {
    "deletable": true,
    "editable": true
   },
   "source": [
    "Setting target and features."
   ]
  },
  {
   "cell_type": "code",
   "execution_count": 11,
   "metadata": {
    "collapsed": true,
    "deletable": true,
    "editable": true
   },
   "outputs": [],
   "source": [
    "DF_target = DF_final[[\"Power (kW)\"]]\n",
    "DF_features = DF_final.drop(\"Power (kW)\", axis = 1) "
   ]
  },
  {
   "cell_type": "markdown",
   "metadata": {
    "deletable": true,
    "editable": true
   },
   "source": [
    "Linear regression model - random choice of train and test data (80% train, 20% test)."
   ]
  },
  {
   "cell_type": "code",
   "execution_count": 12,
   "metadata": {
    "collapsed": true,
    "deletable": true,
    "editable": true
   },
   "outputs": [],
   "source": [
    "from sklearn.model_selection import train_test_split\n",
    "X_train, X_test, y_train, y_test = train_test_split(DF_features, DF_target, test_size = 0.2, random_state = 41234)"
   ]
  },
  {
   "cell_type": "code",
   "execution_count": 13,
   "metadata": {
    "collapsed": true,
    "deletable": true,
    "editable": true
   },
   "outputs": [],
   "source": [
    "from sklearn import linear_model\n",
    "linear_reg = linear_model.LinearRegression()\n",
    "linear_reg.fit(X_train, y_train)\n",
    "LinearPredictions_complete = linear_reg.predict(DF_features)\n",
    "\n",
    "LinearPredictions_complete_DF = pd.DataFrame(LinearPredictions_complete, index = DF_final.index, columns = [\"Power predicted (kW)\"])\n",
    "LinearPredictions_final = DF_target.join(LinearPredictions_complete_DF)"
   ]
  },
  {
   "cell_type": "markdown",
   "metadata": {
    "deletable": true,
    "editable": true
   },
   "source": [
    "Statistics."
   ]
  },
  {
   "cell_type": "code",
   "execution_count": 14,
   "metadata": {
    "collapsed": false,
    "deletable": true,
    "editable": true
   },
   "outputs": [
    {
     "name": "stdout",
     "output_type": "stream",
     "text": [
      "R2 = 0.922973249508\n",
      "MAE = 19.1996355258\n",
      "MSE = 695.236033215\n",
      "CV = 0.0787726915683\n"
     ]
    }
   ],
   "source": [
    "from sklearn.metrics import mean_absolute_error, mean_squared_error, r2_score\n",
    "linear_R2_score = r2_score(DF_target, LinearPredictions_final[\"Power predicted (kW)\"])\n",
    "linear_mean_absolute_error = mean_absolute_error(DF_target,LinearPredictions_final[\"Power predicted (kW)\"])\n",
    "linear_mean_squared_error = mean_squared_error(DF_target,LinearPredictions_final[\"Power predicted (kW)\"])\n",
    "linear_coeff_variation = np.sqrt(linear_mean_squared_error)/DF_target[\"Power (kW)\"].mean()\n",
    "\n",
    "print \"R2 = \" + str(linear_R2_score)\n",
    "print \"MAE = \" + str(linear_mean_absolute_error)\n",
    "print \"MSE = \" + str(linear_mean_squared_error)\n",
    "print \"CV = \" + str(linear_coeff_variation)"
   ]
  },
  {
   "cell_type": "markdown",
   "metadata": {
    "deletable": true,
    "editable": true
   },
   "source": [
    "Linear regression model with cross-validation."
   ]
  },
  {
   "cell_type": "code",
   "execution_count": 15,
   "metadata": {
    "collapsed": true,
    "deletable": true,
    "editable": true
   },
   "outputs": [],
   "source": [
    "from sklearn.model_selection import cross_val_predict\n",
    "CV_LinearPredictions = cross_val_predict(linear_reg, DF_features, DF_target, cv = 10)\n",
    "CV_LinearPredictions_DF = pd.DataFrame(CV_LinearPredictions, index = DF_target.index, columns=[\"Power predicted CV (kW)\"])\n",
    "final_CV_LinearPredictions_DF = DF_target.join(CV_LinearPredictions_DF)"
   ]
  },
  {
   "cell_type": "markdown",
   "metadata": {
    "deletable": true,
    "editable": true
   },
   "source": [
    "Statistics."
   ]
  },
  {
   "cell_type": "code",
   "execution_count": 16,
   "metadata": {
    "collapsed": false,
    "deletable": true,
    "editable": true
   },
   "outputs": [
    {
     "name": "stdout",
     "output_type": "stream",
     "text": [
      "R2 = 0.919056470363\n",
      "MAE = 19.5908040868\n",
      "MSE = 730.588504637\n",
      "CV = 0.0807506386561\n"
     ]
    }
   ],
   "source": [
    "CV_R2_score = r2_score(final_CV_LinearPredictions_DF[\"Power (kW)\"],final_CV_LinearPredictions_DF[\"Power predicted CV (kW)\"])\n",
    "CV_mean_absolute_error = mean_absolute_error(final_CV_LinearPredictions_DF[\"Power (kW)\"], final_CV_LinearPredictions_DF[\"Power predicted CV (kW)\"])\n",
    "CV_mean_squared_error = mean_squared_error(final_CV_LinearPredictions_DF[\"Power (kW)\"], final_CV_LinearPredictions_DF[\"Power predicted CV (kW)\"])\n",
    "CV_coeff_variation = np.sqrt(CV_mean_squared_error)/final_CV_LinearPredictions_DF[\"Power (kW)\"].mean()\n",
    "\n",
    "print \"R2 = \" + str(CV_R2_score)\n",
    "print \"MAE = \" + str(CV_mean_absolute_error)\n",
    "print \"MSE = \" + str(CV_mean_squared_error)\n",
    "print \"CV = \" + str(CV_coeff_variation)"
   ]
  },
  {
   "cell_type": "markdown",
   "metadata": {
    "deletable": true,
    "editable": true
   },
   "source": [
    "Comparison between the predictions made with and without cross-validation."
   ]
  },
  {
   "cell_type": "code",
   "execution_count": 17,
   "metadata": {
    "collapsed": false,
    "deletable": true,
    "editable": true
   },
   "outputs": [
    {
     "data": {
      "image/png": "[encoded data removed]",
      "text/plain": [
       "<matplotlib.figure.Figure at 0xe5895f8>"
      ]
     },
     "metadata": {},
     "output_type": "display_data"
    }
   ],
   "source": [
    "compare = LinearPredictions_final.join(CV_LinearPredictions_DF)\n",
    "\n",
    "compare['2010-05-017':'2010-05-18'].plot(color = (\"g\",\"r\",\"b\"))\n",
    "plt.title(\"LINEAR REGRESSION MODEL WITH AND WITHOUT CROSS VALIDATION\")\n",
    "plt.ylabel(\"Power consumption [kW]\")\n",
    "plt.grid()\n",
    "plt.legend(('actual power consumption', 'linear regression model predictions',  'linear regression with cross validation predictions'))\n",
    "plt.show()"
   ]
  },
  {
   "cell_type": "markdown",
   "metadata": {
    "deletable": true,
    "editable": true
   },
   "source": [
    "# Conclusions"
   ]
  },
  {
   "cell_type": "markdown",
   "metadata": {
    "deletable": true,
    "editable": true
   },
   "source": [
    "The correlation between temperature and power consumption of a retail building is well approximated by a linear model. \n",
    "The R2 score is, in fact, 0.92.\n",
    "Moreover the behaviour of a retail building in terms of consumption is quite regular during the year, so it is easier to predict than a normal family house, in which the consumption is much more influenced by the occupancy."
   ]
  }
 ],
 "metadata": {
  "kernelspec": {
   "display_name": "Python 2",
   "language": "python",
   "name": "python2"
  },
  "language_info": {
   "codemirror_mode": {
    "name": "ipython",
    "version": 2
   },
   "file_extension": ".py",
   "mimetype": "text/x-python",
   "name": "python",
   "nbconvert_exporter": "python",
   "pygments_lexer": "ipython2",
   "version": "2.7.13"
  }
 },
 "nbformat": 4,
 "nbformat_minor": 2
}
