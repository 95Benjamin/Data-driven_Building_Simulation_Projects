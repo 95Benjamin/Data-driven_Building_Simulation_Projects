{
 "cells": [
  {
   "cell_type": "markdown",
   "metadata": {
    "deletable": true,
    "editable": true
   },
   "source": [
    "# Open the data set from .csv file"
   ]
  },
  {
   "cell_type": "markdown",
   "metadata": {
    "deletable": true,
    "editable": true
   },
   "source": [
    "Importing the modules."
   ]
  },
  {
   "cell_type": "code",
   "execution_count": 3,
   "metadata": {
    "collapsed": true,
    "deletable": true,
    "editable": true
   },
   "outputs": [],
   "source": [
    "import numpy as np\n",
    "import pandas as pd\n",
    "import matplotlib.pyplot as plt\n",
    "import os"
   ]
  },
  {
   "cell_type": "markdown",
   "metadata": {
    "deletable": true,
    "editable": true
   },
   "source": [
    "Setting the current directory."
   ]
  },
  {
   "cell_type": "code",
   "execution_count": 4,
   "metadata": {
    "collapsed": false,
    "deletable": true,
    "editable": true
   },
   "outputs": [],
   "source": [
    "os.chdir(\"C:/Users/Giorgio/Desktop/Buildings python project/Data-driven simulation_Asnaashari - Casalicchio - Moretti\")"
   ]
  },
  {
   "cell_type": "markdown",
   "metadata": {
    "deletable": true,
    "editable": true
   },
   "source": [
    "Selecting the data set file and opening it in a Pandas data frame."
   ]
  },
  {
   "cell_type": "code",
   "execution_count": 5,
   "metadata": {
    "collapsed": false,
    "deletable": true,
    "editable": true
   },
   "outputs": [
    {
     "data": {
      "text/html": [
       "<div>\n",
       "<style>\n",
       "    .dataframe thead tr:only-child th {\n",
       "        text-align: right;\n",
       "    }\n",
       "\n",
       "    .dataframe thead th {\n",
       "        text-align: left;\n",
       "    }\n",
       "\n",
       "    .dataframe tbody tr th {\n",
       "        vertical-align: top;\n",
       "    }\n",
       "</style>\n",
       "<table border=\"1\" class=\"dataframe\">\n",
       "  <thead>\n",
       "    <tr style=\"text-align: right;\">\n",
       "      <th></th>\n",
       "      <th>Appliances</th>\n",
       "      <th>lights</th>\n",
       "      <th>T1</th>\n",
       "      <th>RH_1</th>\n",
       "      <th>T2</th>\n",
       "      <th>RH_2</th>\n",
       "      <th>T3</th>\n",
       "      <th>RH_3</th>\n",
       "      <th>T4</th>\n",
       "      <th>RH_4</th>\n",
       "      <th>...</th>\n",
       "      <th>T9</th>\n",
       "      <th>RH_9</th>\n",
       "      <th>T_out</th>\n",
       "      <th>Press_mm_hg</th>\n",
       "      <th>RH_out</th>\n",
       "      <th>Windspeed</th>\n",
       "      <th>Visibility</th>\n",
       "      <th>Tdewpoint</th>\n",
       "      <th>rv1</th>\n",
       "      <th>rv2</th>\n",
       "    </tr>\n",
       "    <tr>\n",
       "      <th>date</th>\n",
       "      <th></th>\n",
       "      <th></th>\n",
       "      <th></th>\n",
       "      <th></th>\n",
       "      <th></th>\n",
       "      <th></th>\n",
       "      <th></th>\n",
       "      <th></th>\n",
       "      <th></th>\n",
       "      <th></th>\n",
       "      <th></th>\n",
       "      <th></th>\n",
       "      <th></th>\n",
       "      <th></th>\n",
       "      <th></th>\n",
       "      <th></th>\n",
       "      <th></th>\n",
       "      <th></th>\n",
       "      <th></th>\n",
       "      <th></th>\n",
       "      <th></th>\n",
       "    </tr>\n",
       "  </thead>\n",
       "  <tbody>\n",
       "    <tr>\n",
       "      <th>2016-01-11 17:00:00</th>\n",
       "      <td>60</td>\n",
       "      <td>30</td>\n",
       "      <td>19.89</td>\n",
       "      <td>47.596667</td>\n",
       "      <td>19.2</td>\n",
       "      <td>44.790000</td>\n",
       "      <td>19.79</td>\n",
       "      <td>44.730000</td>\n",
       "      <td>19.000000</td>\n",
       "      <td>45.566667</td>\n",
       "      <td>...</td>\n",
       "      <td>17.033333</td>\n",
       "      <td>45.53</td>\n",
       "      <td>6.600000</td>\n",
       "      <td>733.5</td>\n",
       "      <td>92.0</td>\n",
       "      <td>7.000000</td>\n",
       "      <td>63.000000</td>\n",
       "      <td>5.3</td>\n",
       "      <td>13.275433</td>\n",
       "      <td>13.275433</td>\n",
       "    </tr>\n",
       "    <tr>\n",
       "      <th>2016-01-11 17:10:00</th>\n",
       "      <td>60</td>\n",
       "      <td>30</td>\n",
       "      <td>19.89</td>\n",
       "      <td>46.693333</td>\n",
       "      <td>19.2</td>\n",
       "      <td>44.722500</td>\n",
       "      <td>19.79</td>\n",
       "      <td>44.790000</td>\n",
       "      <td>19.000000</td>\n",
       "      <td>45.992500</td>\n",
       "      <td>...</td>\n",
       "      <td>17.066667</td>\n",
       "      <td>45.56</td>\n",
       "      <td>6.483333</td>\n",
       "      <td>733.6</td>\n",
       "      <td>92.0</td>\n",
       "      <td>6.666667</td>\n",
       "      <td>59.166667</td>\n",
       "      <td>5.2</td>\n",
       "      <td>18.606195</td>\n",
       "      <td>18.606195</td>\n",
       "    </tr>\n",
       "    <tr>\n",
       "      <th>2016-01-11 17:20:00</th>\n",
       "      <td>50</td>\n",
       "      <td>30</td>\n",
       "      <td>19.89</td>\n",
       "      <td>46.300000</td>\n",
       "      <td>19.2</td>\n",
       "      <td>44.626667</td>\n",
       "      <td>19.79</td>\n",
       "      <td>44.933333</td>\n",
       "      <td>18.926667</td>\n",
       "      <td>45.890000</td>\n",
       "      <td>...</td>\n",
       "      <td>17.000000</td>\n",
       "      <td>45.50</td>\n",
       "      <td>6.366667</td>\n",
       "      <td>733.7</td>\n",
       "      <td>92.0</td>\n",
       "      <td>6.333333</td>\n",
       "      <td>55.333333</td>\n",
       "      <td>5.1</td>\n",
       "      <td>28.642668</td>\n",
       "      <td>28.642668</td>\n",
       "    </tr>\n",
       "    <tr>\n",
       "      <th>2016-01-11 17:30:00</th>\n",
       "      <td>50</td>\n",
       "      <td>40</td>\n",
       "      <td>19.89</td>\n",
       "      <td>46.066667</td>\n",
       "      <td>19.2</td>\n",
       "      <td>44.590000</td>\n",
       "      <td>19.79</td>\n",
       "      <td>45.000000</td>\n",
       "      <td>18.890000</td>\n",
       "      <td>45.723333</td>\n",
       "      <td>...</td>\n",
       "      <td>17.000000</td>\n",
       "      <td>45.40</td>\n",
       "      <td>6.250000</td>\n",
       "      <td>733.8</td>\n",
       "      <td>92.0</td>\n",
       "      <td>6.000000</td>\n",
       "      <td>51.500000</td>\n",
       "      <td>5.0</td>\n",
       "      <td>45.410389</td>\n",
       "      <td>45.410389</td>\n",
       "    </tr>\n",
       "    <tr>\n",
       "      <th>2016-01-11 17:40:00</th>\n",
       "      <td>60</td>\n",
       "      <td>40</td>\n",
       "      <td>19.89</td>\n",
       "      <td>46.333333</td>\n",
       "      <td>19.2</td>\n",
       "      <td>44.530000</td>\n",
       "      <td>19.79</td>\n",
       "      <td>45.000000</td>\n",
       "      <td>18.890000</td>\n",
       "      <td>45.530000</td>\n",
       "      <td>...</td>\n",
       "      <td>17.000000</td>\n",
       "      <td>45.40</td>\n",
       "      <td>6.133333</td>\n",
       "      <td>733.9</td>\n",
       "      <td>92.0</td>\n",
       "      <td>5.666667</td>\n",
       "      <td>47.666667</td>\n",
       "      <td>4.9</td>\n",
       "      <td>10.084097</td>\n",
       "      <td>10.084097</td>\n",
       "    </tr>\n",
       "  </tbody>\n",
       "</table>\n",
       "<p>5 rows × 28 columns</p>\n",
       "</div>"
      ],
      "text/plain": [
       "                     Appliances  lights     T1       RH_1    T2       RH_2  \\\n",
       "date                                                                         \n",
       "2016-01-11 17:00:00          60      30  19.89  47.596667  19.2  44.790000   \n",
       "2016-01-11 17:10:00          60      30  19.89  46.693333  19.2  44.722500   \n",
       "2016-01-11 17:20:00          50      30  19.89  46.300000  19.2  44.626667   \n",
       "2016-01-11 17:30:00          50      40  19.89  46.066667  19.2  44.590000   \n",
       "2016-01-11 17:40:00          60      40  19.89  46.333333  19.2  44.530000   \n",
       "\n",
       "                        T3       RH_3         T4       RH_4    ...      \\\n",
       "date                                                           ...       \n",
       "2016-01-11 17:00:00  19.79  44.730000  19.000000  45.566667    ...       \n",
       "2016-01-11 17:10:00  19.79  44.790000  19.000000  45.992500    ...       \n",
       "2016-01-11 17:20:00  19.79  44.933333  18.926667  45.890000    ...       \n",
       "2016-01-11 17:30:00  19.79  45.000000  18.890000  45.723333    ...       \n",
       "2016-01-11 17:40:00  19.79  45.000000  18.890000  45.530000    ...       \n",
       "\n",
       "                            T9   RH_9     T_out  Press_mm_hg  RH_out  \\\n",
       "date                                                                   \n",
       "2016-01-11 17:00:00  17.033333  45.53  6.600000        733.5    92.0   \n",
       "2016-01-11 17:10:00  17.066667  45.56  6.483333        733.6    92.0   \n",
       "2016-01-11 17:20:00  17.000000  45.50  6.366667        733.7    92.0   \n",
       "2016-01-11 17:30:00  17.000000  45.40  6.250000        733.8    92.0   \n",
       "2016-01-11 17:40:00  17.000000  45.40  6.133333        733.9    92.0   \n",
       "\n",
       "                     Windspeed  Visibility  Tdewpoint        rv1        rv2  \n",
       "date                                                                         \n",
       "2016-01-11 17:00:00   7.000000   63.000000        5.3  13.275433  13.275433  \n",
       "2016-01-11 17:10:00   6.666667   59.166667        5.2  18.606195  18.606195  \n",
       "2016-01-11 17:20:00   6.333333   55.333333        5.1  28.642668  28.642668  \n",
       "2016-01-11 17:30:00   6.000000   51.500000        5.0  45.410389  45.410389  \n",
       "2016-01-11 17:40:00   5.666667   47.666667        4.9  10.084097  10.084097  \n",
       "\n",
       "[5 rows x 28 columns]"
      ]
     },
     "execution_count": 5,
     "metadata": {},
     "output_type": "execute_result"
    }
   ],
   "source": [
    "DataFolderPath = \"C:/Users/Giorgio/Desktop/Buildings python project/Data-driven simulation_Asnaashari - Casalicchio - Moretti/data sets\"\n",
    "FileName = \"energydata_complete.csv\"\n",
    "FilePath = DataFolderPath + \"/\" + FileName\n",
    "\n",
    "DF_complete = pd.read_csv(FilePath, sep = \",\", index_col = 0)\n",
    "DF_complete.head(5)"
   ]
  },
  {
   "cell_type": "markdown",
   "metadata": {
    "deletable": true,
    "editable": true
   },
   "source": [
    "We have the following data:\n",
    "\n",
    "- date time year-month-day hour:minute:second; \n",
    "- Appliances, energy use in Wh;\n",
    "- lights, energy use of light fixtures in the house in Wh;\n",
    "- T1, Temperature in kitchen area, in Celsius;\n",
    "- RH_1, Humidity in kitchen area, in %;\n",
    "- T2, Temperature in living room area, in Celsius;\n",
    "- RH_2, Humidity in living room area, in %;\n",
    "- T3, Temperature in laundry room area;\n",
    "- RH_3, Humidity in laundry room area, in %;\n",
    "- T4, Temperature in office room, in Celsius;\n",
    "- RH_4, Humidity in office room, in %;\n",
    "- T5, Temperature in bathroom, in Celsius;\n",
    "- RH_5, Humidity in bathroom, in %;\n",
    "- T6, Temperature outside the building (north side), in Celsius;\n",
    "- RH_6, Humidity outside the building (north side), in %;\n",
    "- T7, Temperature in ironing room , in Celsius;\n",
    "- RH_7, Humidity in ironing room, in %;\n",
    "- T8, Temperature in teenager room 2, in Celsius;\n",
    "- RH_8, Humidity in teenager room 2, in %;\n",
    "- T9, Temperature in parents room, in Celsius;\n",
    "- RH_9, Humidity in parents room, in %;\n",
    "- To, Temperature outside (from Chièvres weather station), in Celsius;\n",
    "- Pressure (from Chièvres weather station), in mm Hg;\n",
    "- RH_out, Humidity outside (from Chièvres weather station), in %;\n",
    "- Windspeed (from Chièvres weather station), in m/s;\n",
    "- Visibility (from Chièvres weather station), in km;\n",
    "- Tdewpoint (from Chièvres weather station), °C;\n",
    "- rv1, Random variable 1, nondimensional;\n",
    "- rv2, Rnadom variable 2, nondimensional."
   ]
  },
  {
   "cell_type": "markdown",
   "metadata": {
    "deletable": true,
    "editable": true
   },
   "source": [
    "# Visualization of the data"
   ]
  },
  {
   "cell_type": "markdown",
   "metadata": {
    "deletable": true,
    "editable": true
   },
   "source": [
    "We convert the index into a date-time object and we delete the cells with NaN value, if any."
   ]
  },
  {
   "cell_type": "code",
   "execution_count": 6,
   "metadata": {
    "collapsed": true,
    "deletable": true,
    "editable": true
   },
   "outputs": [],
   "source": [
    "PreviousIndex = DF_complete.index\n",
    "ParsedIndex = pd.to_datetime(PreviousIndex)   \n",
    "DF_complete.index = ParsedIndex\n",
    "\n",
    "DF_cleaned = DF_complete.dropna()"
   ]
  },
  {
   "cell_type": "raw",
   "metadata": {
    "deletable": true,
    "editable": true
   },
   "source": [
    "We plot the appliances consumption and the outdoor temperature to have a first look on the correlation between them."
   ]
  },
  {
   "cell_type": "code",
   "execution_count": 7,
   "metadata": {
    "collapsed": false,
    "deletable": true,
    "editable": true
   },
   "outputs": [
    {
     "data": {
      "image/png": "[encoded data removed]",
      "text/plain": [
       "<matplotlib.figure.Figure at 0xf470048>"
      ]
     },
     "metadata": {},
     "output_type": "display_data"
    },
    {
     "data": {
      "image/png": "[encoded data removed]",
      "text/plain": [
       "<matplotlib.figure.Figure at 0xf7c8be0>"
      ]
     },
     "metadata": {},
     "output_type": "display_data"
    }
   ],
   "source": [
    "DF_chosenDates = DF_cleaned[\"2016-05-02\":\"2016-05-08\"]\n",
    "\n",
    "plt.figure()\n",
    "plt.subplot(211)\n",
    "DF_cleaned[\"Appliances\"].plot(color = \"b\", grid = True)\n",
    "plt.ylabel(\"Energy conusmption [Wh]\")\n",
    "plt.subplot(212)\n",
    "DF_chosenDates[\"Appliances\"].plot(color = \"b\", grid = True)\n",
    "plt.ylabel(\"Energy conusmption [Wh]\")\n",
    "plt.suptitle(\"Appliances consumption\")\n",
    "plt.show()\n",
    "\n",
    "plt.figure()\n",
    "DF_cleaned[\"T_out\"].plot(color = \"g\", grid = True)\n",
    "plt.ylabel(\"Temperature [deg C]\")\n",
    "plt.title(\"Outdoor temperature\")\n",
    "plt.show()"
   ]
  },
  {
   "cell_type": "markdown",
   "metadata": {
    "deletable": true,
    "editable": true
   },
   "source": [
    "# Predictions - building the final data set"
   ]
  },
  {
   "cell_type": "markdown",
   "metadata": {
    "deletable": true,
    "editable": true
   },
   "source": [
    "We want to predict the appliaces consumption from the one of the previous 24 hour and the temperature of the previous 6 hours. \n",
    "\n",
    "For this purpose we create a new data frame with only the data we need."
   ]
  },
  {
   "cell_type": "code",
   "execution_count": 8,
   "metadata": {
    "collapsed": true,
    "deletable": true,
    "editable": true
   },
   "outputs": [],
   "source": [
    "DF_energyCons = DF_cleaned[[\"Appliances\"]]\n",
    "DF_temperature = DF_cleaned[[\"T_out\"]]\n",
    "DF_joined = DF_energyCons.join([DF_temperature])"
   ]
  },
  {
   "cell_type": "markdown",
   "metadata": {
    "deletable": true,
    "editable": true
   },
   "source": [
    "we used pre-written functions for shifting the columns."
   ]
  },
  {
   "cell_type": "code",
   "execution_count": 9,
   "metadata": {
    "collapsed": true,
    "deletable": true,
    "editable": true
   },
   "outputs": [],
   "source": [
    "import useful_functions as uf\n",
    "\n",
    "DF_finalDataSet = uf.lag_column10(DF_joined, \"Appliances\", 6*24)\n",
    "DF_finalDataSet = uf.lag_column10(DF_joined, \"T_out\", 6*6)\n",
    "\n",
    "DF_finalDataSet_cleaned = DF_finalDataSet.dropna()"
   ]
  },
  {
   "cell_type": "markdown",
   "metadata": {
    "deletable": true,
    "editable": true
   },
   "source": [
    "We add also columns for hour, day, month, weekend/workday, day/night (with another pre-written function)."
   ]
  },
  {
   "cell_type": "code",
   "execution_count": 10,
   "metadata": {
    "collapsed": false,
    "deletable": true,
    "editable": true
   },
   "outputs": [
    {
     "name": "stderr",
     "output_type": "stream",
     "text": [
      "C:\\Users\\Giorgio\\AppData\\Local\\Enthought\\Canopy\\edm\\envs\\User\\lib\\site-packages\\ipykernel\\__main__.py:1: SettingWithCopyWarning: \n",
      "A value is trying to be set on a copy of a slice from a DataFrame.\n",
      "Try using .loc[row_indexer,col_indexer] = value instead\n",
      "\n",
      "See the caveats in the documentation: http://pandas.pydata.org/pandas-docs/stable/indexing.html#indexing-view-versus-copy\n",
      "  if __name__ == '__main__':\n",
      "C:\\Users\\Giorgio\\AppData\\Local\\Enthought\\Canopy\\edm\\envs\\User\\lib\\site-packages\\ipykernel\\__main__.py:2: SettingWithCopyWarning: \n",
      "A value is trying to be set on a copy of a slice from a DataFrame.\n",
      "Try using .loc[row_indexer,col_indexer] = value instead\n",
      "\n",
      "See the caveats in the documentation: http://pandas.pydata.org/pandas-docs/stable/indexing.html#indexing-view-versus-copy\n",
      "  from ipykernel import kernelapp as app\n",
      "C:\\Users\\Giorgio\\AppData\\Local\\Enthought\\Canopy\\edm\\envs\\User\\lib\\site-packages\\ipykernel\\__main__.py:3: SettingWithCopyWarning: \n",
      "A value is trying to be set on a copy of a slice from a DataFrame.\n",
      "Try using .loc[row_indexer,col_indexer] = value instead\n",
      "\n",
      "See the caveats in the documentation: http://pandas.pydata.org/pandas-docs/stable/indexing.html#indexing-view-versus-copy\n",
      "  app.launch_new_instance()\n",
      "C:\\Users\\Giorgio\\AppData\\Local\\Enthought\\Canopy\\edm\\envs\\User\\lib\\site-packages\\ipykernel\\__main__.py:5: SettingWithCopyWarning: \n",
      "A value is trying to be set on a copy of a slice from a DataFrame.\n",
      "Try using .loc[row_indexer,col_indexer] = value instead\n",
      "\n",
      "See the caveats in the documentation: http://pandas.pydata.org/pandas-docs/stable/indexing.html#indexing-view-versus-copy\n",
      "C:\\Users\\Giorgio\\AppData\\Local\\Enthought\\Canopy\\edm\\envs\\User\\lib\\site-packages\\ipykernel\\__main__.py:6: SettingWithCopyWarning: \n",
      "A value is trying to be set on a copy of a slice from a DataFrame.\n",
      "Try using .loc[row_indexer,col_indexer] = value instead\n",
      "\n",
      "See the caveats in the documentation: http://pandas.pydata.org/pandas-docs/stable/indexing.html#indexing-view-versus-copy\n"
     ]
    },
    {
     "data": {
      "text/html": [
       "<div>\n",
       "<style>\n",
       "    .dataframe thead tr:only-child th {\n",
       "        text-align: right;\n",
       "    }\n",
       "\n",
       "    .dataframe thead th {\n",
       "        text-align: left;\n",
       "    }\n",
       "\n",
       "    .dataframe tbody tr th {\n",
       "        vertical-align: top;\n",
       "    }\n",
       "</style>\n",
       "<table border=\"1\" class=\"dataframe\">\n",
       "  <thead>\n",
       "    <tr style=\"text-align: right;\">\n",
       "      <th></th>\n",
       "      <th>Appliances</th>\n",
       "      <th>T_out</th>\n",
       "      <th>Appliances-60min</th>\n",
       "      <th>Appliances-70min</th>\n",
       "      <th>Appliances-80min</th>\n",
       "      <th>Appliances-90min</th>\n",
       "      <th>Appliances-100min</th>\n",
       "      <th>Appliances-110min</th>\n",
       "      <th>Appliances-120min</th>\n",
       "      <th>Appliances-130min</th>\n",
       "      <th>...</th>\n",
       "      <th>T_out-320min</th>\n",
       "      <th>T_out-330min</th>\n",
       "      <th>T_out-340min</th>\n",
       "      <th>T_out-350min</th>\n",
       "      <th>T_out-360min</th>\n",
       "      <th>hour</th>\n",
       "      <th>day</th>\n",
       "      <th>month</th>\n",
       "      <th>weekend</th>\n",
       "      <th>day_night</th>\n",
       "    </tr>\n",
       "    <tr>\n",
       "      <th>date</th>\n",
       "      <th></th>\n",
       "      <th></th>\n",
       "      <th></th>\n",
       "      <th></th>\n",
       "      <th></th>\n",
       "      <th></th>\n",
       "      <th></th>\n",
       "      <th></th>\n",
       "      <th></th>\n",
       "      <th></th>\n",
       "      <th></th>\n",
       "      <th></th>\n",
       "      <th></th>\n",
       "      <th></th>\n",
       "      <th></th>\n",
       "      <th></th>\n",
       "      <th></th>\n",
       "      <th></th>\n",
       "      <th></th>\n",
       "      <th></th>\n",
       "      <th></th>\n",
       "    </tr>\n",
       "  </thead>\n",
       "  <tbody>\n",
       "    <tr>\n",
       "      <th>2016-01-12 17:00:00</th>\n",
       "      <td>60</td>\n",
       "      <td>6.500000</td>\n",
       "      <td>30.0</td>\n",
       "      <td>30.0</td>\n",
       "      <td>30.0</td>\n",
       "      <td>30.0</td>\n",
       "      <td>40.0</td>\n",
       "      <td>40.0</td>\n",
       "      <td>50.0</td>\n",
       "      <td>70.0</td>\n",
       "      <td>...</td>\n",
       "      <td>6.800000</td>\n",
       "      <td>6.700000</td>\n",
       "      <td>6.6</td>\n",
       "      <td>6.5</td>\n",
       "      <td>6.4</td>\n",
       "      <td>17</td>\n",
       "      <td>1</td>\n",
       "      <td>1</td>\n",
       "      <td>0</td>\n",
       "      <td>1</td>\n",
       "    </tr>\n",
       "    <tr>\n",
       "      <th>2016-01-12 17:10:00</th>\n",
       "      <td>60</td>\n",
       "      <td>6.316667</td>\n",
       "      <td>40.0</td>\n",
       "      <td>30.0</td>\n",
       "      <td>30.0</td>\n",
       "      <td>30.0</td>\n",
       "      <td>30.0</td>\n",
       "      <td>40.0</td>\n",
       "      <td>40.0</td>\n",
       "      <td>50.0</td>\n",
       "      <td>...</td>\n",
       "      <td>6.900000</td>\n",
       "      <td>6.800000</td>\n",
       "      <td>6.7</td>\n",
       "      <td>6.6</td>\n",
       "      <td>6.5</td>\n",
       "      <td>17</td>\n",
       "      <td>1</td>\n",
       "      <td>1</td>\n",
       "      <td>0</td>\n",
       "      <td>1</td>\n",
       "    </tr>\n",
       "    <tr>\n",
       "      <th>2016-01-12 17:20:00</th>\n",
       "      <td>210</td>\n",
       "      <td>6.133333</td>\n",
       "      <td>50.0</td>\n",
       "      <td>40.0</td>\n",
       "      <td>30.0</td>\n",
       "      <td>30.0</td>\n",
       "      <td>30.0</td>\n",
       "      <td>30.0</td>\n",
       "      <td>40.0</td>\n",
       "      <td>40.0</td>\n",
       "      <td>...</td>\n",
       "      <td>7.000000</td>\n",
       "      <td>6.900000</td>\n",
       "      <td>6.8</td>\n",
       "      <td>6.7</td>\n",
       "      <td>6.6</td>\n",
       "      <td>17</td>\n",
       "      <td>1</td>\n",
       "      <td>1</td>\n",
       "      <td>0</td>\n",
       "      <td>1</td>\n",
       "    </tr>\n",
       "    <tr>\n",
       "      <th>2016-01-12 17:30:00</th>\n",
       "      <td>380</td>\n",
       "      <td>5.950000</td>\n",
       "      <td>40.0</td>\n",
       "      <td>50.0</td>\n",
       "      <td>40.0</td>\n",
       "      <td>30.0</td>\n",
       "      <td>30.0</td>\n",
       "      <td>30.0</td>\n",
       "      <td>30.0</td>\n",
       "      <td>40.0</td>\n",
       "      <td>...</td>\n",
       "      <td>7.083333</td>\n",
       "      <td>7.000000</td>\n",
       "      <td>6.9</td>\n",
       "      <td>6.8</td>\n",
       "      <td>6.7</td>\n",
       "      <td>17</td>\n",
       "      <td>1</td>\n",
       "      <td>1</td>\n",
       "      <td>0</td>\n",
       "      <td>1</td>\n",
       "    </tr>\n",
       "    <tr>\n",
       "      <th>2016-01-12 17:40:00</th>\n",
       "      <td>370</td>\n",
       "      <td>5.766667</td>\n",
       "      <td>40.0</td>\n",
       "      <td>40.0</td>\n",
       "      <td>50.0</td>\n",
       "      <td>40.0</td>\n",
       "      <td>30.0</td>\n",
       "      <td>30.0</td>\n",
       "      <td>30.0</td>\n",
       "      <td>30.0</td>\n",
       "      <td>...</td>\n",
       "      <td>7.166667</td>\n",
       "      <td>7.083333</td>\n",
       "      <td>7.0</td>\n",
       "      <td>6.9</td>\n",
       "      <td>6.8</td>\n",
       "      <td>17</td>\n",
       "      <td>1</td>\n",
       "      <td>1</td>\n",
       "      <td>0</td>\n",
       "      <td>1</td>\n",
       "    </tr>\n",
       "  </tbody>\n",
       "</table>\n",
       "<p>5 rows × 177 columns</p>\n",
       "</div>"
      ],
      "text/plain": [
       "                     Appliances     T_out  Appliances-60min  Appliances-70min  \\\n",
       "date                                                                            \n",
       "2016-01-12 17:00:00          60  6.500000              30.0              30.0   \n",
       "2016-01-12 17:10:00          60  6.316667              40.0              30.0   \n",
       "2016-01-12 17:20:00         210  6.133333              50.0              40.0   \n",
       "2016-01-12 17:30:00         380  5.950000              40.0              50.0   \n",
       "2016-01-12 17:40:00         370  5.766667              40.0              40.0   \n",
       "\n",
       "                     Appliances-80min  Appliances-90min  Appliances-100min  \\\n",
       "date                                                                         \n",
       "2016-01-12 17:00:00              30.0              30.0               40.0   \n",
       "2016-01-12 17:10:00              30.0              30.0               30.0   \n",
       "2016-01-12 17:20:00              30.0              30.0               30.0   \n",
       "2016-01-12 17:30:00              40.0              30.0               30.0   \n",
       "2016-01-12 17:40:00              50.0              40.0               30.0   \n",
       "\n",
       "                     Appliances-110min  Appliances-120min  Appliances-130min  \\\n",
       "date                                                                           \n",
       "2016-01-12 17:00:00               40.0               50.0               70.0   \n",
       "2016-01-12 17:10:00               40.0               40.0               50.0   \n",
       "2016-01-12 17:20:00               30.0               40.0               40.0   \n",
       "2016-01-12 17:30:00               30.0               30.0               40.0   \n",
       "2016-01-12 17:40:00               30.0               30.0               30.0   \n",
       "\n",
       "                       ...      T_out-320min  T_out-330min  T_out-340min  \\\n",
       "date                   ...                                                 \n",
       "2016-01-12 17:00:00    ...          6.800000      6.700000           6.6   \n",
       "2016-01-12 17:10:00    ...          6.900000      6.800000           6.7   \n",
       "2016-01-12 17:20:00    ...          7.000000      6.900000           6.8   \n",
       "2016-01-12 17:30:00    ...          7.083333      7.000000           6.9   \n",
       "2016-01-12 17:40:00    ...          7.166667      7.083333           7.0   \n",
       "\n",
       "                     T_out-350min  T_out-360min  hour  day  month  weekend  \\\n",
       "date                                                                         \n",
       "2016-01-12 17:00:00           6.5           6.4    17    1      1        0   \n",
       "2016-01-12 17:10:00           6.6           6.5    17    1      1        0   \n",
       "2016-01-12 17:20:00           6.7           6.6    17    1      1        0   \n",
       "2016-01-12 17:30:00           6.8           6.7    17    1      1        0   \n",
       "2016-01-12 17:40:00           6.9           6.8    17    1      1        0   \n",
       "\n",
       "                     day_night  \n",
       "date                            \n",
       "2016-01-12 17:00:00          1  \n",
       "2016-01-12 17:10:00          1  \n",
       "2016-01-12 17:20:00          1  \n",
       "2016-01-12 17:30:00          1  \n",
       "2016-01-12 17:40:00          1  \n",
       "\n",
       "[5 rows x 177 columns]"
      ]
     },
     "execution_count": 10,
     "metadata": {},
     "output_type": "execute_result"
    }
   ],
   "source": [
    "DF_finalDataSet_cleaned[\"hour\"] = DF_finalDataSet_cleaned.index.hour\n",
    "DF_finalDataSet_cleaned[\"day\"] = DF_finalDataSet_cleaned.index.dayofweek   \n",
    "DF_finalDataSet_cleaned[\"month\"] = DF_finalDataSet_cleaned.index.month\n",
    "\n",
    "DF_finalDataSet_cleaned['weekend'] = [uf.weekendDetector(thisDay) for thisDay in DF_finalDataSet_cleaned.index.dayofweek]\n",
    "DF_finalDataSet_cleaned['day_night'] = [uf.dayDetector(thisHour) for thisHour in DF_finalDataSet_cleaned.index.hour]\n",
    "\n",
    "DF_finalDataSet_cleaned.head(5) "
   ]
  },
  {
   "cell_type": "markdown",
   "metadata": {
    "deletable": true,
    "editable": true
   },
   "source": [
    "# Predictions - machine learning"
   ]
  },
  {
   "cell_type": "markdown",
   "metadata": {
    "deletable": true,
    "editable": true
   },
   "source": [
    "Setting target (appliances consumption) and features (the others)."
   ]
  },
  {
   "cell_type": "code",
   "execution_count": 11,
   "metadata": {
    "collapsed": true,
    "deletable": true,
    "editable": true
   },
   "outputs": [],
   "source": [
    "DF_target = DF_finalDataSet_cleaned[[\"Appliances\"]]\n",
    "DF_features = DF_finalDataSet_cleaned.drop(\"Appliances\", axis = 1)  "
   ]
  },
  {
   "cell_type": "markdown",
   "metadata": {
    "deletable": true,
    "editable": true
   },
   "source": [
    "Train - test split."
   ]
  },
  {
   "cell_type": "code",
   "execution_count": 12,
   "metadata": {
    "collapsed": true,
    "deletable": true,
    "editable": true
   },
   "outputs": [],
   "source": [
    "from sklearn.model_selection import train_test_split\n",
    "X_train, X_test, y_train, y_test = train_test_split(DF_features, DF_target, test_size = 0.2, random_state = 41234)"
   ]
  },
  {
   "cell_type": "markdown",
   "metadata": {
    "deletable": true,
    "editable": true
   },
   "source": [
    "Linear regression model."
   ]
  },
  {
   "cell_type": "code",
   "execution_count": 13,
   "metadata": {
    "collapsed": true,
    "deletable": true,
    "editable": true
   },
   "outputs": [],
   "source": [
    "from sklearn import linear_model\n",
    "\n",
    "linear_reg = linear_model.LinearRegression()\n",
    "linear_reg.fit(X_train, y_train)\n",
    "LinearPredictions_complete = linear_reg.predict(DF_features)\n",
    "\n",
    "LinearPredictions_complete_DF = pd.DataFrame(LinearPredictions_complete, index = DF_finalDataSet_cleaned.index, columns = [\"Appliances_predicted\"])\n",
    "LinearPredictions_final = DF_target.join(LinearPredictions_complete_DF)"
   ]
  },
  {
   "cell_type": "markdown",
   "metadata": {
    "deletable": true,
    "editable": true
   },
   "source": [
    "Some statistics for the linear model."
   ]
  },
  {
   "cell_type": "code",
   "execution_count": 14,
   "metadata": {
    "collapsed": false,
    "deletable": true,
    "editable": true
   },
   "outputs": [
    {
     "name": "stdout",
     "output_type": "stream",
     "text": [
      "R2 = 0.237661215217\n",
      "MAE = 48.1625316306\n",
      "MSE = 8002.15691829\n",
      "CV = 0.916095238539\n"
     ]
    }
   ],
   "source": [
    "from sklearn.metrics import mean_absolute_error, mean_squared_error, r2_score\n",
    "linear_R2_score = r2_score(DF_target, LinearPredictions_final[\"Appliances_predicted\"])\n",
    "linear_mean_absolute_error = mean_absolute_error(DF_target,LinearPredictions_final[\"Appliances_predicted\"])\n",
    "linear_mean_squared_error = mean_squared_error(DF_target,LinearPredictions_final[\"Appliances_predicted\"])\n",
    "linear_coeff_variation = np.sqrt(linear_mean_squared_error)/DF_target[\"Appliances\"].mean()\n",
    "\n",
    "print \"R2 = \" + str(linear_R2_score)\n",
    "print \"MAE = \" + str(linear_mean_absolute_error)\n",
    "print \"MSE = \" + str(linear_mean_squared_error)\n",
    "print \"CV = \" + str(linear_coeff_variation)"
   ]
  },
  {
   "cell_type": "markdown",
   "metadata": {
    "deletable": true,
    "editable": true
   },
   "source": [
    "Linear regression model with cross-validation."
   ]
  },
  {
   "cell_type": "code",
   "execution_count": 15,
   "metadata": {
    "collapsed": false,
    "deletable": true,
    "editable": true
   },
   "outputs": [
    {
     "name": "stdout",
     "output_type": "stream",
     "text": [
      "R2 = 0.220114566653\n",
      "MAE = 48.83766499\n",
      "MSE = 8186.34148032\n",
      "CV = 0.926578081174\n"
     ]
    }
   ],
   "source": [
    "from sklearn.model_selection import cross_val_predict\n",
    "CV_LinearPredictions = cross_val_predict(linear_reg, DF_features, DF_target, cv = 10)\n",
    "CV_LinearPredictions_DF = pd.DataFrame(CV_LinearPredictions, index = DF_target.index, columns=[\"Appliances_predicted_CV\"])\n",
    "final_CV_LinearPredictions_DF = DF_target.join(CV_LinearPredictions_DF)\n",
    "\n",
    "CV_R2_score = r2_score(final_CV_LinearPredictions_DF[\"Appliances\"],final_CV_LinearPredictions_DF[\"Appliances_predicted_CV\"])\n",
    "CV_mean_absolute_error = mean_absolute_error(final_CV_LinearPredictions_DF[\"Appliances\"], final_CV_LinearPredictions_DF[\"Appliances_predicted_CV\"])\n",
    "CV_mean_squared_error = mean_squared_error(final_CV_LinearPredictions_DF[\"Appliances\"], final_CV_LinearPredictions_DF[\"Appliances_predicted_CV\"])\n",
    "CV_coeff_variation = np.sqrt(CV_mean_squared_error)/final_CV_LinearPredictions_DF[\"Appliances\"].mean()\n",
    "\n",
    "print \"R2 = \" + str(CV_R2_score)\n",
    "print \"MAE = \" + str(CV_mean_absolute_error)\n",
    "print \"MSE = \" + str(CV_mean_squared_error)\n",
    "print \"CV = \" + str(CV_coeff_variation)"
   ]
  },
  {
   "cell_type": "markdown",
   "metadata": {
    "deletable": true,
    "editable": true
   },
   "source": [
    "Comparison between linear regression model with and without cross-validation."
   ]
  },
  {
   "cell_type": "code",
   "execution_count": 16,
   "metadata": {
    "collapsed": false,
    "deletable": true,
    "editable": true
   },
   "outputs": [
    {
     "data": {
      "image/png": "[encoded data removed]",
      "text/plain": [
       "<matplotlib.figure.Figure at 0xf7246d8>"
      ]
     },
     "metadata": {},
     "output_type": "display_data"
    }
   ],
   "source": [
    "compare = LinearPredictions_final.join(CV_LinearPredictions_DF)\n",
    "\n",
    "compare['2016-05-05'].plot(color = (\"g\",\"r\",\"b\"))\n",
    "plt.title(\"LINEAR REGRESSION MODEL WITH AND WITHOUT CROSS VALIDATION\")\n",
    "plt.ylabel(\"Energy consumption [Wh]\")\n",
    "plt.grid()\n",
    "plt.legend(('actual appliances consumption', 'linear regression model predictions',  'linear regression with cross validation predictions'))\n",
    "plt.show()"
   ]
  },
  {
   "cell_type": "markdown",
   "metadata": {
    "deletable": true,
    "editable": true
   },
   "source": [
    "The linear model cannot fit well our data because there are some peaks of consumption that are not possible to remove, since the data set provides the overall consumption of the appliances and not the single one. So we try a more complex algorithm for the regression: the Random Forest regression."
   ]
  },
  {
   "cell_type": "code",
   "execution_count": 19,
   "metadata": {
    "collapsed": false,
    "deletable": true,
    "editable": true
   },
   "outputs": [],
   "source": [
    "from sklearn.ensemble import RandomForestRegressor\n",
    "reg_RF = RandomForestRegressor()\n",
    "\n",
    "CV_RF_predictions = cross_val_predict(reg_RF, DF_features, DF_target, cv = 10)\n",
    "CV_RF_predictions_DF = pd.DataFrame(CV_RF_predictions, index = DF_target.index, columns = [\"Appliances_predicted_RF\"])\n",
    "final_CV_RF_predictions_DF = DF_target.join(CV_RF_predictions_DF)"
   ]
  },
  {
   "cell_type": "code",
   "execution_count": 20,
   "metadata": {
    "collapsed": false,
    "deletable": true,
    "editable": true
   },
   "outputs": [
    {
     "data": {
      "image/png": "[encoded data removed]",
      "text/plain": [
       "<matplotlib.figure.Figure at 0x11f86940>"
      ]
     },
     "metadata": {},
     "output_type": "display_data"
    }
   ],
   "source": [
    "compare_RF = CV_LinearPredictions_DF.join(final_CV_RF_predictions_DF)\n",
    "\n",
    "compare_RF['2016-05-05'].plot(color = (\"b\",\"g\",\"r\"))\n",
    "plt.title(\"LINEAR VS RANDOM FOREST REGRESSION\")\n",
    "plt.ylabel(\"Energy consumption [Wh]\")\n",
    "plt.grid()\n",
    "plt.legend(('linear regression model (with CV) predictions', 'actual appliances consumption',  'Random Forest regression model (with CV) predictions'))\n",
    "plt.show()"
   ]
  },
  {
   "cell_type": "markdown",
   "metadata": {
    "collapsed": true,
    "deletable": true,
    "editable": true
   },
   "source": [
    "We also tried the linear regression model (with cross-validation) using all the features in the original data set without the consumption and temperature lagged in time."
   ]
  },
  {
   "cell_type": "code",
   "execution_count": 17,
   "metadata": {
    "collapsed": false,
    "deletable": true,
    "editable": true
   },
   "outputs": [
    {
     "data": {
      "text/html": [
       "<div>\n",
       "<style>\n",
       "    .dataframe thead tr:only-child th {\n",
       "        text-align: right;\n",
       "    }\n",
       "\n",
       "    .dataframe thead th {\n",
       "        text-align: left;\n",
       "    }\n",
       "\n",
       "    .dataframe tbody tr th {\n",
       "        vertical-align: top;\n",
       "    }\n",
       "</style>\n",
       "<table border=\"1\" class=\"dataframe\">\n",
       "  <thead>\n",
       "    <tr style=\"text-align: right;\">\n",
       "      <th></th>\n",
       "      <th>Appliances</th>\n",
       "      <th>lights</th>\n",
       "      <th>T1</th>\n",
       "      <th>RH_1</th>\n",
       "      <th>T2</th>\n",
       "      <th>RH_2</th>\n",
       "      <th>T3</th>\n",
       "      <th>RH_3</th>\n",
       "      <th>T4</th>\n",
       "      <th>RH_4</th>\n",
       "      <th>...</th>\n",
       "      <th>Windspeed</th>\n",
       "      <th>Visibility</th>\n",
       "      <th>Tdewpoint</th>\n",
       "      <th>rv1</th>\n",
       "      <th>rv2</th>\n",
       "      <th>hour</th>\n",
       "      <th>day</th>\n",
       "      <th>month</th>\n",
       "      <th>weekend</th>\n",
       "      <th>day_night</th>\n",
       "    </tr>\n",
       "    <tr>\n",
       "      <th>date</th>\n",
       "      <th></th>\n",
       "      <th></th>\n",
       "      <th></th>\n",
       "      <th></th>\n",
       "      <th></th>\n",
       "      <th></th>\n",
       "      <th></th>\n",
       "      <th></th>\n",
       "      <th></th>\n",
       "      <th></th>\n",
       "      <th></th>\n",
       "      <th></th>\n",
       "      <th></th>\n",
       "      <th></th>\n",
       "      <th></th>\n",
       "      <th></th>\n",
       "      <th></th>\n",
       "      <th></th>\n",
       "      <th></th>\n",
       "      <th></th>\n",
       "      <th></th>\n",
       "    </tr>\n",
       "  </thead>\n",
       "  <tbody>\n",
       "    <tr>\n",
       "      <th>2016-01-11 17:00:00</th>\n",
       "      <td>60</td>\n",
       "      <td>30</td>\n",
       "      <td>19.89</td>\n",
       "      <td>47.596667</td>\n",
       "      <td>19.2</td>\n",
       "      <td>44.790000</td>\n",
       "      <td>19.79</td>\n",
       "      <td>44.730000</td>\n",
       "      <td>19.000000</td>\n",
       "      <td>45.566667</td>\n",
       "      <td>...</td>\n",
       "      <td>7.000000</td>\n",
       "      <td>63.000000</td>\n",
       "      <td>5.3</td>\n",
       "      <td>13.275433</td>\n",
       "      <td>13.275433</td>\n",
       "      <td>17</td>\n",
       "      <td>0</td>\n",
       "      <td>1</td>\n",
       "      <td>0</td>\n",
       "      <td>1</td>\n",
       "    </tr>\n",
       "    <tr>\n",
       "      <th>2016-01-11 17:10:00</th>\n",
       "      <td>60</td>\n",
       "      <td>30</td>\n",
       "      <td>19.89</td>\n",
       "      <td>46.693333</td>\n",
       "      <td>19.2</td>\n",
       "      <td>44.722500</td>\n",
       "      <td>19.79</td>\n",
       "      <td>44.790000</td>\n",
       "      <td>19.000000</td>\n",
       "      <td>45.992500</td>\n",
       "      <td>...</td>\n",
       "      <td>6.666667</td>\n",
       "      <td>59.166667</td>\n",
       "      <td>5.2</td>\n",
       "      <td>18.606195</td>\n",
       "      <td>18.606195</td>\n",
       "      <td>17</td>\n",
       "      <td>0</td>\n",
       "      <td>1</td>\n",
       "      <td>0</td>\n",
       "      <td>1</td>\n",
       "    </tr>\n",
       "    <tr>\n",
       "      <th>2016-01-11 17:20:00</th>\n",
       "      <td>50</td>\n",
       "      <td>30</td>\n",
       "      <td>19.89</td>\n",
       "      <td>46.300000</td>\n",
       "      <td>19.2</td>\n",
       "      <td>44.626667</td>\n",
       "      <td>19.79</td>\n",
       "      <td>44.933333</td>\n",
       "      <td>18.926667</td>\n",
       "      <td>45.890000</td>\n",
       "      <td>...</td>\n",
       "      <td>6.333333</td>\n",
       "      <td>55.333333</td>\n",
       "      <td>5.1</td>\n",
       "      <td>28.642668</td>\n",
       "      <td>28.642668</td>\n",
       "      <td>17</td>\n",
       "      <td>0</td>\n",
       "      <td>1</td>\n",
       "      <td>0</td>\n",
       "      <td>1</td>\n",
       "    </tr>\n",
       "    <tr>\n",
       "      <th>2016-01-11 17:30:00</th>\n",
       "      <td>50</td>\n",
       "      <td>40</td>\n",
       "      <td>19.89</td>\n",
       "      <td>46.066667</td>\n",
       "      <td>19.2</td>\n",
       "      <td>44.590000</td>\n",
       "      <td>19.79</td>\n",
       "      <td>45.000000</td>\n",
       "      <td>18.890000</td>\n",
       "      <td>45.723333</td>\n",
       "      <td>...</td>\n",
       "      <td>6.000000</td>\n",
       "      <td>51.500000</td>\n",
       "      <td>5.0</td>\n",
       "      <td>45.410389</td>\n",
       "      <td>45.410389</td>\n",
       "      <td>17</td>\n",
       "      <td>0</td>\n",
       "      <td>1</td>\n",
       "      <td>0</td>\n",
       "      <td>1</td>\n",
       "    </tr>\n",
       "    <tr>\n",
       "      <th>2016-01-11 17:40:00</th>\n",
       "      <td>60</td>\n",
       "      <td>40</td>\n",
       "      <td>19.89</td>\n",
       "      <td>46.333333</td>\n",
       "      <td>19.2</td>\n",
       "      <td>44.530000</td>\n",
       "      <td>19.79</td>\n",
       "      <td>45.000000</td>\n",
       "      <td>18.890000</td>\n",
       "      <td>45.530000</td>\n",
       "      <td>...</td>\n",
       "      <td>5.666667</td>\n",
       "      <td>47.666667</td>\n",
       "      <td>4.9</td>\n",
       "      <td>10.084097</td>\n",
       "      <td>10.084097</td>\n",
       "      <td>17</td>\n",
       "      <td>0</td>\n",
       "      <td>1</td>\n",
       "      <td>0</td>\n",
       "      <td>1</td>\n",
       "    </tr>\n",
       "  </tbody>\n",
       "</table>\n",
       "<p>5 rows × 33 columns</p>\n",
       "</div>"
      ],
      "text/plain": [
       "                     Appliances  lights     T1       RH_1    T2       RH_2  \\\n",
       "date                                                                         \n",
       "2016-01-11 17:00:00          60      30  19.89  47.596667  19.2  44.790000   \n",
       "2016-01-11 17:10:00          60      30  19.89  46.693333  19.2  44.722500   \n",
       "2016-01-11 17:20:00          50      30  19.89  46.300000  19.2  44.626667   \n",
       "2016-01-11 17:30:00          50      40  19.89  46.066667  19.2  44.590000   \n",
       "2016-01-11 17:40:00          60      40  19.89  46.333333  19.2  44.530000   \n",
       "\n",
       "                        T3       RH_3         T4       RH_4    ...      \\\n",
       "date                                                           ...       \n",
       "2016-01-11 17:00:00  19.79  44.730000  19.000000  45.566667    ...       \n",
       "2016-01-11 17:10:00  19.79  44.790000  19.000000  45.992500    ...       \n",
       "2016-01-11 17:20:00  19.79  44.933333  18.926667  45.890000    ...       \n",
       "2016-01-11 17:30:00  19.79  45.000000  18.890000  45.723333    ...       \n",
       "2016-01-11 17:40:00  19.79  45.000000  18.890000  45.530000    ...       \n",
       "\n",
       "                     Windspeed  Visibility  Tdewpoint        rv1        rv2  \\\n",
       "date                                                                          \n",
       "2016-01-11 17:00:00   7.000000   63.000000        5.3  13.275433  13.275433   \n",
       "2016-01-11 17:10:00   6.666667   59.166667        5.2  18.606195  18.606195   \n",
       "2016-01-11 17:20:00   6.333333   55.333333        5.1  28.642668  28.642668   \n",
       "2016-01-11 17:30:00   6.000000   51.500000        5.0  45.410389  45.410389   \n",
       "2016-01-11 17:40:00   5.666667   47.666667        4.9  10.084097  10.084097   \n",
       "\n",
       "                     hour  day  month  weekend  day_night  \n",
       "date                                                       \n",
       "2016-01-11 17:00:00    17    0      1        0          1  \n",
       "2016-01-11 17:10:00    17    0      1        0          1  \n",
       "2016-01-11 17:20:00    17    0      1        0          1  \n",
       "2016-01-11 17:30:00    17    0      1        0          1  \n",
       "2016-01-11 17:40:00    17    0      1        0          1  \n",
       "\n",
       "[5 rows x 33 columns]"
      ]
     },
     "execution_count": 17,
     "metadata": {},
     "output_type": "execute_result"
    }
   ],
   "source": [
    "DF_final_original = DF_complete.dropna()\n",
    "        \n",
    "DF_final_original[\"hour\"] = DF_final_original.index.hour\n",
    "DF_final_original[\"day\"] = DF_final_original.index.dayofweek   \n",
    "DF_final_original[\"month\"] = DF_final_original.index.month\n",
    "\n",
    "DF_final_original['weekend'] = [uf.weekendDetector(thisDay) for thisDay in DF_final_original.index.dayofweek]\n",
    "DF_final_original['day_night'] = [uf.dayDetector(thisHour) for thisHour in DF_final_original.index.hour] \n",
    "\n",
    "DF_final_original.dropna(inplace = True)\n",
    "DF_final_original.head(5)"
   ]
  },
  {
   "cell_type": "code",
   "execution_count": 22,
   "metadata": {
    "collapsed": false,
    "deletable": true,
    "editable": true
   },
   "outputs": [
    {
     "name": "stdout",
     "output_type": "stream",
     "text": [
      "R2 = 0.144172201929\n",
      "MAE = 54.4212027792\n",
      "MSE = 8995.45241131\n",
      "CV = 0.926131758101\n"
     ]
    }
   ],
   "source": [
    "DF_target2 = DF_final_original[[\"Appliances\"]]\n",
    "DF_features2 = DF_final_original.drop(\"Appliances\", axis = 1)   \n",
    "\n",
    "X_train2, X_test2, y_train2, y_test2 = train_test_split(DF_features2, DF_target2, test_size = 0.2, random_state = 41234)\n",
    "\n",
    "linear_reg2 = linear_model.LinearRegression()\n",
    "\n",
    "CV_LinearPredictions2 = cross_val_predict(linear_reg2, DF_features2, DF_target2, cv = 10)\n",
    "CV_LinearPredictions_DF2 = pd.DataFrame(CV_LinearPredictions2, index = DF_target2.index, columns=[\"Appliances_predicted_CV2\"])\n",
    "final_CV_LinearPredictions_DF2 = CV_LinearPredictions_DF2.join(DF_target2)\n",
    "\n",
    "CV_R2_score_original = r2_score(final_CV_LinearPredictions_DF2[\"Appliances\"],final_CV_LinearPredictions_DF2[\"Appliances_predicted_CV2\"])\n",
    "CV_mean_absolute_error_original = mean_absolute_error(final_CV_LinearPredictions_DF2[\"Appliances\"], final_CV_LinearPredictions_DF2[\"Appliances_predicted_CV2\"])\n",
    "CV_mean_squared_error_original = mean_squared_error(final_CV_LinearPredictions_DF2[\"Appliances\"], final_CV_LinearPredictions_DF2[\"Appliances_predicted_CV2\"])\n",
    "CV_coeff_variation_original = np.sqrt(CV_mean_squared_error)/final_CV_LinearPredictions_DF2[\"Appliances\"].mean()\n",
    "\n",
    "print \"R2 = \" + str(CV_R2_score_original)\n",
    "print \"MAE = \" + str(CV_mean_absolute_error_original)\n",
    "print \"MSE = \" + str(CV_mean_squared_error_original)\n",
    "print \"CV = \" + str(CV_coeff_variation_original)"
   ]
  },
  {
   "cell_type": "code",
   "execution_count": 23,
   "metadata": {
    "collapsed": false,
    "deletable": true,
    "editable": true
   },
   "outputs": [
    {
     "data": {
      "image/png": "[encoded data removed]",
      "text/plain": [
       "<matplotlib.figure.Figure at 0xd880ef0>"
      ]
     },
     "metadata": {},
     "output_type": "display_data"
    }
   ],
   "source": [
    "compare_features = final_CV_LinearPredictions_DF.join(CV_LinearPredictions_DF2)\n",
    "\n",
    "compare_features['2016-03-021'].plot(color = (\"g\",\"b\",\"m\"))\n",
    "plt.title(\"COMPARISON BETWEEN PREDICTIONS WITH DIFFERENT FEATURES\")\n",
    "plt.ylabel(\"Energy consumption [Wh]\")\n",
    "plt.legend(('actual appliances consumption', 'linear regression with cross validation predictions', 'linear CV predictions - original dataset features'))\n",
    "plt.grid()\n",
    "plt.show()"
   ]
  },
  {
   "cell_type": "markdown",
   "metadata": {
    "deletable": true,
    "editable": true
   },
   "source": [
    "# Conclusions"
   ]
  },
  {
   "cell_type": "markdown",
   "metadata": {
    "deletable": true,
    "editable": true
   },
   "source": [
    "This data set had some problems. \n",
    "First of all, the data are provided on 10 minutes basis and make predictions knowing the consumption just 10 minutes before is not worth it.\n",
    "Secondly, the appliances' consumption is given without differentiating the sources that consume energy. This makes the predictions less accurate because there are some sudden peaks of consumption that are difficult to manage and can cause errors in the regression model.\n",
    "Finally, the data set covers a time interval of 6 months, from January 2016 to May 2016 and during this period the maximum temperarure reached is around 25 °C, so the consumption is not directly related to HVAC system.\n",
    "Furthermore, we have a R2 score that is very small and this means that the correlation between our target and features is not linear at all. Hence, the linear model does not fit properly the data, and making predictions with it leads to errors."
   ]
  }
 ],
 "metadata": {
  "kernelspec": {
   "display_name": "Python 2",
   "language": "python",
   "name": "python2"
  },
  "language_info": {
   "codemirror_mode": {
    "name": "ipython",
    "version": 2
   },
   "file_extension": ".py",
   "mimetype": "text/x-python",
   "name": "python",
   "nbconvert_exporter": "python",
   "pygments_lexer": "ipython2",
   "version": "2.7.13"
  }
 },
 "nbformat": 4,
 "nbformat_minor": 2
}
