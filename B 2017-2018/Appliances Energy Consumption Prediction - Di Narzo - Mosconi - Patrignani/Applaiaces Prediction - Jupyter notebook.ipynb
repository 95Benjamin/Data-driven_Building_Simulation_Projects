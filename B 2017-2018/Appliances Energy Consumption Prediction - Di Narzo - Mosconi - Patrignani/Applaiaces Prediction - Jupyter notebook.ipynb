{
 "cells": [
  {
   "cell_type": "markdown",
   "metadata": {
    "deletable": true,
    "editable": true
   },
   "source": [
    "Import all libraries and path of files"
   ]
  },
  {
   "cell_type": "code",
   "execution_count": 263,
   "metadata": {
    "collapsed": true,
    "deletable": true,
    "editable": true
   },
   "outputs": [],
   "source": [
    "import matplotlib.pyplot as plt\n",
    "import pandas as pd\n",
    "DataFolder=\"C:\\Users\\Manuel\\Documents\\Polimi\\Building systems\\Project\\Phyton\"\n",
    "DataSetName=\"energydata_complete.csv\"\n"
   ]
  },
  {
   "cell_type": "markdown",
   "metadata": {
    "deletable": true,
    "editable": true
   },
   "source": [
    "Read the dataframe and change the numerical index to a data index"
   ]
  },
  {
   "cell_type": "code",
   "execution_count": 264,
   "metadata": {
    "collapsed": true,
    "deletable": true,
    "editable": true
   },
   "outputs": [],
   "source": [
    "completeDataPath=DataFolder+\"/\"+DataSetName\n",
    "completeDF=pd.read_csv(completeDataPath,sep = \",\",index_col=0)\n",
    "previousIndex= completeDF.index\n",
    "NewparsedIndex = pd.to_datetime(previousIndex)\n",
    "completeDF.index= NewparsedIndex\n"
   ]
  },
  {
   "cell_type": "markdown",
   "metadata": {
    "deletable": true,
    "editable": true
   },
   "source": [
    "Find the target variable (Appliances), and all the correlations with other features. corrAppliance is the correlation of appliance with alla feature."
   ]
  },
  {
   "cell_type": "code",
   "execution_count": 265,
   "metadata": {
    "collapsed": false,
    "deletable": true,
    "editable": true
   },
   "outputs": [
    {
     "data": {
      "text/html": [
       "<div>\n",
       "<table border=\"1\" class=\"dataframe\">\n",
       "  <thead>\n",
       "    <tr style=\"text-align: right;\">\n",
       "      <th></th>\n",
       "      <th>Appliances</th>\n",
       "      <th>lights</th>\n",
       "      <th>T1</th>\n",
       "      <th>RH_1</th>\n",
       "      <th>T2</th>\n",
       "      <th>RH_2</th>\n",
       "      <th>T3</th>\n",
       "      <th>RH_3</th>\n",
       "      <th>T4</th>\n",
       "      <th>RH_4</th>\n",
       "      <th>...</th>\n",
       "      <th>T9</th>\n",
       "      <th>RH_9</th>\n",
       "      <th>T_out</th>\n",
       "      <th>Press_mm_hg</th>\n",
       "      <th>RH_out</th>\n",
       "      <th>Windspeed</th>\n",
       "      <th>Visibility</th>\n",
       "      <th>Tdewpoint</th>\n",
       "      <th>rv1</th>\n",
       "      <th>rv2</th>\n",
       "    </tr>\n",
       "  </thead>\n",
       "  <tbody>\n",
       "    <tr>\n",
       "      <th>Appliances</th>\n",
       "      <td>True</td>\n",
       "      <td>True</td>\n",
       "      <td>False</td>\n",
       "      <td>True</td>\n",
       "      <td>True</td>\n",
       "      <td>False</td>\n",
       "      <td>True</td>\n",
       "      <td>False</td>\n",
       "      <td>False</td>\n",
       "      <td>False</td>\n",
       "      <td>...</td>\n",
       "      <td>False</td>\n",
       "      <td>False</td>\n",
       "      <td>True</td>\n",
       "      <td>False</td>\n",
       "      <td>False</td>\n",
       "      <td>True</td>\n",
       "      <td>False</td>\n",
       "      <td>False</td>\n",
       "      <td>False</td>\n",
       "      <td>False</td>\n",
       "    </tr>\n",
       "  </tbody>\n",
       "</table>\n",
       "<p>1 rows × 28 columns</p>\n",
       "</div>"
      ],
      "text/plain": [
       "           Appliances lights     T1  RH_1    T2   RH_2    T3   RH_3     T4  \\\n",
       "Appliances       True   True  False  True  True  False  True  False  False   \n",
       "\n",
       "             RH_4  ...       T9   RH_9 T_out Press_mm_hg RH_out Windspeed  \\\n",
       "Appliances  False  ...    False  False  True       False  False      True   \n",
       "\n",
       "           Visibility Tdewpoint    rv1    rv2  \n",
       "Appliances      False     False  False  False  \n",
       "\n",
       "[1 rows x 28 columns]"
      ]
     },
     "execution_count": 265,
     "metadata": {},
     "output_type": "execute_result"
    }
   ],
   "source": [
    "DFtarget=completeDF[[\"Appliances\"]]\n",
    "corrAppliance=completeDF.corr().head(1)\n",
    "corrAppliance>0.08"
   ]
  },
  {
   "cell_type": "markdown",
   "metadata": {
    "deletable": true,
    "editable": true
   },
   "source": [
    "Use the heat map in order to visualize the correlation"
   ]
  },
  {
   "cell_type": "code",
   "execution_count": 266,
   "metadata": {
    "collapsed": false,
    "deletable": true,
    "editable": true,
    "scrolled": false
   },
   "outputs": [
    {
     "data": {
      "text/plain": [
       "<matplotlib.figure.Figure at 0xec900f0>"
      ]
     },
     "metadata": {},
     "output_type": "display_data"
    },
    {
     "data": {
      "image/png": "[encoded data removed]",
      "text/plain": [
       "<matplotlib.figure.Figure at 0x11bc8208>"
      ]
     },
     "metadata": {},
     "output_type": "display_data"
    }
   ],
   "source": [
    "plt.figure()\n",
    "plt.matshow(completeDF.corr())\n",
    "plt.colorbar()\n",
    "plt.show()"
   ]
  },
  {
   "cell_type": "markdown",
   "metadata": {
    "deletable": true,
    "editable": true
   },
   "source": [
    "As we can see, there is low correlation for Appliances, our model will be with a low quality.\n",
    "Most reliable variables are lights,RH1,T2,T3,T6,Tout,Windspeed. Let's find a correlation with shifted one"
   ]
  },
  {
   "cell_type": "markdown",
   "metadata": {
    "deletable": true,
    "editable": true
   },
   "source": [
    "Define a fucntion to find shifted variables"
   ]
  },
  {
   "cell_type": "code",
   "execution_count": 267,
   "metadata": {
    "collapsed": true,
    "deletable": true,
    "editable": true
   },
   "outputs": [],
   "source": [
    "def lag_column(df,column_name,lag_period=1):\n",
    "    for i in range(1,lag_period+1,1):\n",
    "        new_column_name = column_name+\"-\"+str(i)+\" times 10 min\"\n",
    "        df[new_column_name]=df[column_name].shift(i)\n",
    "    return df"
   ]
  },
  {
   "cell_type": "markdown",
   "metadata": {
    "deletable": true,
    "editable": true
   },
   "source": [
    "Let's try with temperature "
   ]
  },
  {
   "cell_type": "code",
   "execution_count": 268,
   "metadata": {
    "collapsed": false,
    "deletable": true,
    "editable": true
   },
   "outputs": [
    {
     "name": "stderr",
     "output_type": "stream",
     "text": [
      "C:\\Users\\Manuel\\AppData\\Local\\Enthought\\Canopy\\edm\\envs\\User\\lib\\site-packages\\ipykernel\\__main__.py:4: SettingWithCopyWarning: \n",
      "A value is trying to be set on a copy of a slice from a DataFrame.\n",
      "Try using .loc[row_indexer,col_indexer] = value instead\n",
      "\n",
      "See the caveats in the documentation: http://pandas.pydata.org/pandas-docs/stable/indexing.html#indexing-view-versus-copy\n"
     ]
    },
    {
     "data": {
      "text/html": [
       "<div>\n",
       "<table border=\"1\" class=\"dataframe\">\n",
       "  <thead>\n",
       "    <tr style=\"text-align: right;\">\n",
       "      <th></th>\n",
       "      <th>Appliances</th>\n",
       "      <th>T_out</th>\n",
       "      <th>T_out-1 times 10 min</th>\n",
       "      <th>T_out-2 times 10 min</th>\n",
       "      <th>T_out-3 times 10 min</th>\n",
       "      <th>T_out-4 times 10 min</th>\n",
       "      <th>T_out-5 times 10 min</th>\n",
       "      <th>T_out-6 times 10 min</th>\n",
       "    </tr>\n",
       "  </thead>\n",
       "  <tbody>\n",
       "    <tr>\n",
       "      <th>Appliances</th>\n",
       "      <td>1.0</td>\n",
       "      <td>0.099155</td>\n",
       "      <td>0.097865</td>\n",
       "      <td>0.096445</td>\n",
       "      <td>0.094833</td>\n",
       "      <td>0.093087</td>\n",
       "      <td>0.091238</td>\n",
       "      <td>0.089335</td>\n",
       "    </tr>\n",
       "  </tbody>\n",
       "</table>\n",
       "</div>"
      ],
      "text/plain": [
       "            Appliances     T_out  T_out-1 times 10 min  T_out-2 times 10 min  \\\n",
       "Appliances         1.0  0.099155              0.097865              0.096445   \n",
       "\n",
       "            T_out-3 times 10 min  T_out-4 times 10 min  T_out-5 times 10 min  \\\n",
       "Appliances              0.094833              0.093087              0.091238   \n",
       "\n",
       "            T_out-6 times 10 min  \n",
       "Appliances              0.089335  "
      ]
     },
     "execution_count": 268,
     "metadata": {},
     "output_type": "execute_result"
    }
   ],
   "source": [
    "DF_temperature_out = completeDF[['T_out']]\n",
    "\n",
    "DF_tout_lagged=lag_column(DF_temperature_out,'T_out',6)\n",
    "DF_corr_Tout=DFtarget.join([DF_tout_lagged])\n",
    "DF_corr_Tout.corr().head(1)"
   ]
  },
  {
   "cell_type": "markdown",
   "metadata": {
    "deletable": true,
    "editable": true
   },
   "source": [
    "Try with lights"
   ]
  },
  {
   "cell_type": "code",
   "execution_count": 269,
   "metadata": {
    "collapsed": false,
    "deletable": true,
    "editable": true
   },
   "outputs": [
    {
     "name": "stderr",
     "output_type": "stream",
     "text": [
      "C:\\Users\\Manuel\\AppData\\Local\\Enthought\\Canopy\\edm\\envs\\User\\lib\\site-packages\\ipykernel\\__main__.py:4: SettingWithCopyWarning: \n",
      "A value is trying to be set on a copy of a slice from a DataFrame.\n",
      "Try using .loc[row_indexer,col_indexer] = value instead\n",
      "\n",
      "See the caveats in the documentation: http://pandas.pydata.org/pandas-docs/stable/indexing.html#indexing-view-versus-copy\n"
     ]
    },
    {
     "data": {
      "text/html": [
       "<div>\n",
       "<table border=\"1\" class=\"dataframe\">\n",
       "  <thead>\n",
       "    <tr style=\"text-align: right;\">\n",
       "      <th></th>\n",
       "      <th>Appliances</th>\n",
       "      <th>lights</th>\n",
       "      <th>lights-1 times 10 min</th>\n",
       "      <th>lights-2 times 10 min</th>\n",
       "      <th>lights-3 times 10 min</th>\n",
       "      <th>lights-4 times 10 min</th>\n",
       "      <th>lights-5 times 10 min</th>\n",
       "      <th>lights-6 times 10 min</th>\n",
       "    </tr>\n",
       "  </thead>\n",
       "  <tbody>\n",
       "    <tr>\n",
       "      <th>Appliances</th>\n",
       "      <td>1.0</td>\n",
       "      <td>0.197278</td>\n",
       "      <td>0.189623</td>\n",
       "      <td>0.175272</td>\n",
       "      <td>0.15943</td>\n",
       "      <td>0.140586</td>\n",
       "      <td>0.122777</td>\n",
       "      <td>0.116414</td>\n",
       "    </tr>\n",
       "  </tbody>\n",
       "</table>\n",
       "</div>"
      ],
      "text/plain": [
       "            Appliances    lights  lights-1 times 10 min  \\\n",
       "Appliances         1.0  0.197278               0.189623   \n",
       "\n",
       "            lights-2 times 10 min  lights-3 times 10 min  \\\n",
       "Appliances               0.175272                0.15943   \n",
       "\n",
       "            lights-4 times 10 min  lights-5 times 10 min  \\\n",
       "Appliances               0.140586               0.122777   \n",
       "\n",
       "            lights-6 times 10 min  \n",
       "Appliances               0.116414  "
      ]
     },
     "execution_count": 269,
     "metadata": {},
     "output_type": "execute_result"
    }
   ],
   "source": [
    "DF_lights = completeDF[['lights']]\n",
    "DF_lights_lagged=lag_column(DF_lights,\"lights\",6)\n",
    "DF_corr_lights=DFtarget.join([DF_lights_lagged])\n",
    "DF_corr_lights.corr().head(1)"
   ]
  },
  {
   "cell_type": "markdown",
   "metadata": {
    "deletable": true,
    "editable": true
   },
   "source": [
    "Try with RH1"
   ]
  },
  {
   "cell_type": "code",
   "execution_count": 270,
   "metadata": {
    "collapsed": false,
    "deletable": true,
    "editable": true
   },
   "outputs": [
    {
     "name": "stderr",
     "output_type": "stream",
     "text": [
      "C:\\Users\\Manuel\\AppData\\Local\\Enthought\\Canopy\\edm\\envs\\User\\lib\\site-packages\\ipykernel\\__main__.py:4: SettingWithCopyWarning: \n",
      "A value is trying to be set on a copy of a slice from a DataFrame.\n",
      "Try using .loc[row_indexer,col_indexer] = value instead\n",
      "\n",
      "See the caveats in the documentation: http://pandas.pydata.org/pandas-docs/stable/indexing.html#indexing-view-versus-copy\n"
     ]
    },
    {
     "data": {
      "text/html": [
       "<div>\n",
       "<table border=\"1\" class=\"dataframe\">\n",
       "  <thead>\n",
       "    <tr style=\"text-align: right;\">\n",
       "      <th></th>\n",
       "      <th>Appliances</th>\n",
       "      <th>RH_1</th>\n",
       "      <th>RH_1-1 times 10 min</th>\n",
       "      <th>RH_1-2 times 10 min</th>\n",
       "      <th>RH_1-3 times 10 min</th>\n",
       "      <th>RH_1-4 times 10 min</th>\n",
       "      <th>RH_1-5 times 10 min</th>\n",
       "      <th>RH_1-6 times 10 min</th>\n",
       "    </tr>\n",
       "  </thead>\n",
       "  <tbody>\n",
       "    <tr>\n",
       "      <th>Appliances</th>\n",
       "      <td>1.0</td>\n",
       "      <td>0.086031</td>\n",
       "      <td>0.072884</td>\n",
       "      <td>0.068916</td>\n",
       "      <td>0.066024</td>\n",
       "      <td>0.063358</td>\n",
       "      <td>0.060123</td>\n",
       "      <td>0.058115</td>\n",
       "    </tr>\n",
       "  </tbody>\n",
       "</table>\n",
       "</div>"
      ],
      "text/plain": [
       "            Appliances      RH_1  RH_1-1 times 10 min  RH_1-2 times 10 min  \\\n",
       "Appliances         1.0  0.086031             0.072884             0.068916   \n",
       "\n",
       "            RH_1-3 times 10 min  RH_1-4 times 10 min  RH_1-5 times 10 min  \\\n",
       "Appliances             0.066024             0.063358             0.060123   \n",
       "\n",
       "            RH_1-6 times 10 min  \n",
       "Appliances             0.058115  "
      ]
     },
     "execution_count": 270,
     "metadata": {},
     "output_type": "execute_result"
    }
   ],
   "source": [
    "DF_RH1 = completeDF[['RH_1']]\n",
    "DF_RH1_lagged=lag_column(DF_RH1,\"RH_1\",6)\n",
    "DF_corr_RH1=DFtarget.join([DF_RH1_lagged])\n",
    "DF_corr_RH1.corr().head(1)"
   ]
  },
  {
   "cell_type": "markdown",
   "metadata": {
    "collapsed": true,
    "deletable": true,
    "editable": true
   },
   "source": [
    "Try with appliances"
   ]
  },
  {
   "cell_type": "code",
   "execution_count": 271,
   "metadata": {
    "collapsed": false,
    "deletable": true,
    "editable": true,
    "scrolled": true
   },
   "outputs": [
    {
     "name": "stderr",
     "output_type": "stream",
     "text": [
      "C:\\Users\\Manuel\\AppData\\Local\\Enthought\\Canopy\\edm\\envs\\User\\lib\\site-packages\\ipykernel\\__main__.py:4: SettingWithCopyWarning: \n",
      "A value is trying to be set on a copy of a slice from a DataFrame.\n",
      "Try using .loc[row_indexer,col_indexer] = value instead\n",
      "\n",
      "See the caveats in the documentation: http://pandas.pydata.org/pandas-docs/stable/indexing.html#indexing-view-versus-copy\n"
     ]
    },
    {
     "data": {
      "text/html": [
       "<div>\n",
       "<table border=\"1\" class=\"dataframe\">\n",
       "  <thead>\n",
       "    <tr style=\"text-align: right;\">\n",
       "      <th></th>\n",
       "      <th>Appliances</th>\n",
       "      <th>Appliances-1 times 10 min</th>\n",
       "      <th>Appliances-2 times 10 min</th>\n",
       "      <th>Appliances-3 times 10 min</th>\n",
       "      <th>Appliances-4 times 10 min</th>\n",
       "      <th>Appliances-5 times 10 min</th>\n",
       "      <th>Appliances-6 times 10 min</th>\n",
       "      <th>Appliances-7 times 10 min</th>\n",
       "      <th>Appliances-8 times 10 min</th>\n",
       "      <th>Appliances-9 times 10 min</th>\n",
       "      <th>Appliances-10 times 10 min</th>\n",
       "      <th>Appliances-11 times 10 min</th>\n",
       "      <th>Appliances-12 times 10 min</th>\n",
       "    </tr>\n",
       "  </thead>\n",
       "  <tbody>\n",
       "    <tr>\n",
       "      <th>Appliances</th>\n",
       "      <td>1.0</td>\n",
       "      <td>0.753166</td>\n",
       "      <td>0.534236</td>\n",
       "      <td>0.437789</td>\n",
       "      <td>0.391175</td>\n",
       "      <td>0.357149</td>\n",
       "      <td>0.323661</td>\n",
       "      <td>0.289615</td>\n",
       "      <td>0.292892</td>\n",
       "      <td>0.322564</td>\n",
       "      <td>0.337676</td>\n",
       "      <td>0.32431</td>\n",
       "      <td>0.310939</td>\n",
       "    </tr>\n",
       "  </tbody>\n",
       "</table>\n",
       "</div>"
      ],
      "text/plain": [
       "            Appliances  Appliances-1 times 10 min  Appliances-2 times 10 min  \\\n",
       "Appliances         1.0                   0.753166                   0.534236   \n",
       "\n",
       "            Appliances-3 times 10 min  Appliances-4 times 10 min  \\\n",
       "Appliances                   0.437789                   0.391175   \n",
       "\n",
       "            Appliances-5 times 10 min  Appliances-6 times 10 min  \\\n",
       "Appliances                   0.357149                   0.323661   \n",
       "\n",
       "            Appliances-7 times 10 min  Appliances-8 times 10 min  \\\n",
       "Appliances                   0.289615                   0.292892   \n",
       "\n",
       "            Appliances-9 times 10 min  Appliances-10 times 10 min  \\\n",
       "Appliances                   0.322564                    0.337676   \n",
       "\n",
       "            Appliances-11 times 10 min  Appliances-12 times 10 min  \n",
       "Appliances                     0.32431                    0.310939  "
      ]
     },
     "execution_count": 271,
     "metadata": {},
     "output_type": "execute_result"
    }
   ],
   "source": [
    "DF_Appliances = completeDF[['Appliances']]\n",
    "DF_Appliances_lagged=lag_column(DF_Appliances,\"Appliances\",12)\n",
    "DF_Appliances_lagged.corr().head(1)"
   ]
  },
  {
   "cell_type": "markdown",
   "metadata": {
    "deletable": true,
    "editable": true
   },
   "source": [
    "Try with T2"
   ]
  },
  {
   "cell_type": "code",
   "execution_count": 272,
   "metadata": {
    "collapsed": false,
    "deletable": true,
    "editable": true
   },
   "outputs": [
    {
     "name": "stderr",
     "output_type": "stream",
     "text": [
      "C:\\Users\\Manuel\\AppData\\Local\\Enthought\\Canopy\\edm\\envs\\User\\lib\\site-packages\\ipykernel\\__main__.py:4: SettingWithCopyWarning: \n",
      "A value is trying to be set on a copy of a slice from a DataFrame.\n",
      "Try using .loc[row_indexer,col_indexer] = value instead\n",
      "\n",
      "See the caveats in the documentation: http://pandas.pydata.org/pandas-docs/stable/indexing.html#indexing-view-versus-copy\n"
     ]
    },
    {
     "data": {
      "text/html": [
       "<div>\n",
       "<table border=\"1\" class=\"dataframe\">\n",
       "  <thead>\n",
       "    <tr style=\"text-align: right;\">\n",
       "      <th></th>\n",
       "      <th>Appliances</th>\n",
       "      <th>T2</th>\n",
       "      <th>T2-1 times 10 min</th>\n",
       "      <th>T2-2 times 10 min</th>\n",
       "      <th>T2-3 times 10 min</th>\n",
       "      <th>T2-4 times 10 min</th>\n",
       "    </tr>\n",
       "  </thead>\n",
       "  <tbody>\n",
       "    <tr>\n",
       "      <th>Appliances</th>\n",
       "      <td>1.0</td>\n",
       "      <td>0.120073</td>\n",
       "      <td>0.114486</td>\n",
       "      <td>0.109048</td>\n",
       "      <td>0.103772</td>\n",
       "      <td>0.098531</td>\n",
       "    </tr>\n",
       "  </tbody>\n",
       "</table>\n",
       "</div>"
      ],
      "text/plain": [
       "            Appliances        T2  T2-1 times 10 min  T2-2 times 10 min  \\\n",
       "Appliances         1.0  0.120073           0.114486           0.109048   \n",
       "\n",
       "            T2-3 times 10 min  T2-4 times 10 min  \n",
       "Appliances           0.103772           0.098531  "
      ]
     },
     "execution_count": 272,
     "metadata": {},
     "output_type": "execute_result"
    }
   ],
   "source": [
    "DF_T2 = completeDF[['T2']]\n",
    "DF_T2_lagged=lag_column(DF_T2,\"T2\",4)\n",
    "DF_corr_T2=DFtarget.join([DF_T2_lagged])\n",
    "DF_corr_T2.corr().head(1)"
   ]
  },
  {
   "cell_type": "markdown",
   "metadata": {
    "deletable": true,
    "editable": true
   },
   "source": [
    "Try with T3"
   ]
  },
  {
   "cell_type": "code",
   "execution_count": 273,
   "metadata": {
    "collapsed": false,
    "deletable": true,
    "editable": true
   },
   "outputs": [
    {
     "name": "stderr",
     "output_type": "stream",
     "text": [
      "C:\\Users\\Manuel\\AppData\\Local\\Enthought\\Canopy\\edm\\envs\\User\\lib\\site-packages\\ipykernel\\__main__.py:4: SettingWithCopyWarning: \n",
      "A value is trying to be set on a copy of a slice from a DataFrame.\n",
      "Try using .loc[row_indexer,col_indexer] = value instead\n",
      "\n",
      "See the caveats in the documentation: http://pandas.pydata.org/pandas-docs/stable/indexing.html#indexing-view-versus-copy\n"
     ]
    },
    {
     "data": {
      "text/html": [
       "<div>\n",
       "<table border=\"1\" class=\"dataframe\">\n",
       "  <thead>\n",
       "    <tr style=\"text-align: right;\">\n",
       "      <th></th>\n",
       "      <th>Appliances</th>\n",
       "      <th>T3</th>\n",
       "      <th>T3-1 times 10 min</th>\n",
       "      <th>T3-2 times 10 min</th>\n",
       "      <th>T3-3 times 10 min</th>\n",
       "      <th>T3-4 times 10 min</th>\n",
       "      <th>T3-5 times 10 min</th>\n",
       "      <th>T3-6 times 10 min</th>\n",
       "    </tr>\n",
       "  </thead>\n",
       "  <tbody>\n",
       "    <tr>\n",
       "      <th>Appliances</th>\n",
       "      <td>1.0</td>\n",
       "      <td>0.08506</td>\n",
       "      <td>0.077542</td>\n",
       "      <td>0.071687</td>\n",
       "      <td>0.067108</td>\n",
       "      <td>0.063686</td>\n",
       "      <td>0.061173</td>\n",
       "      <td>0.058959</td>\n",
       "    </tr>\n",
       "  </tbody>\n",
       "</table>\n",
       "</div>"
      ],
      "text/plain": [
       "            Appliances       T3  T3-1 times 10 min  T3-2 times 10 min  \\\n",
       "Appliances         1.0  0.08506           0.077542           0.071687   \n",
       "\n",
       "            T3-3 times 10 min  T3-4 times 10 min  T3-5 times 10 min  \\\n",
       "Appliances           0.067108           0.063686           0.061173   \n",
       "\n",
       "            T3-6 times 10 min  \n",
       "Appliances           0.058959  "
      ]
     },
     "execution_count": 273,
     "metadata": {},
     "output_type": "execute_result"
    }
   ],
   "source": [
    "DF_T3 = completeDF[['T3']]\n",
    "DF_T3_lagged=lag_column(DF_T3,\"T3\",6)\n",
    "DF_corr_T3=DFtarget.join([DF_T3_lagged])\n",
    "DF_corr_T3.corr().head(1)"
   ]
  },
  {
   "cell_type": "markdown",
   "metadata": {
    "deletable": true,
    "editable": true
   },
   "source": [
    "Try with T6"
   ]
  },
  {
   "cell_type": "code",
   "execution_count": 274,
   "metadata": {
    "collapsed": false,
    "deletable": true,
    "editable": true
   },
   "outputs": [
    {
     "name": "stderr",
     "output_type": "stream",
     "text": [
      "C:\\Users\\Manuel\\AppData\\Local\\Enthought\\Canopy\\edm\\envs\\User\\lib\\site-packages\\ipykernel\\__main__.py:4: SettingWithCopyWarning: \n",
      "A value is trying to be set on a copy of a slice from a DataFrame.\n",
      "Try using .loc[row_indexer,col_indexer] = value instead\n",
      "\n",
      "See the caveats in the documentation: http://pandas.pydata.org/pandas-docs/stable/indexing.html#indexing-view-versus-copy\n"
     ]
    },
    {
     "data": {
      "text/html": [
       "<div>\n",
       "<table border=\"1\" class=\"dataframe\">\n",
       "  <thead>\n",
       "    <tr style=\"text-align: right;\">\n",
       "      <th></th>\n",
       "      <th>Appliances</th>\n",
       "      <th>T6</th>\n",
       "      <th>T6-1 times 10 min</th>\n",
       "      <th>T6-2 times 10 min</th>\n",
       "      <th>T6-3 times 10 min</th>\n",
       "      <th>T6-4 times 10 min</th>\n",
       "      <th>T6-5 times 10 min</th>\n",
       "      <th>T6-6 times 10 min</th>\n",
       "    </tr>\n",
       "  </thead>\n",
       "  <tbody>\n",
       "    <tr>\n",
       "      <th>Appliances</th>\n",
       "      <td>1.0</td>\n",
       "      <td>0.117638</td>\n",
       "      <td>0.117672</td>\n",
       "      <td>0.117538</td>\n",
       "      <td>0.117287</td>\n",
       "      <td>0.116854</td>\n",
       "      <td>0.116234</td>\n",
       "      <td>0.11555</td>\n",
       "    </tr>\n",
       "  </tbody>\n",
       "</table>\n",
       "</div>"
      ],
      "text/plain": [
       "            Appliances        T6  T6-1 times 10 min  T6-2 times 10 min  \\\n",
       "Appliances         1.0  0.117638           0.117672           0.117538   \n",
       "\n",
       "            T6-3 times 10 min  T6-4 times 10 min  T6-5 times 10 min  \\\n",
       "Appliances           0.117287           0.116854           0.116234   \n",
       "\n",
       "            T6-6 times 10 min  \n",
       "Appliances            0.11555  "
      ]
     },
     "execution_count": 274,
     "metadata": {},
     "output_type": "execute_result"
    }
   ],
   "source": [
    "DF_T6 = completeDF[['T6']]\n",
    "DF_T6_lagged=lag_column(DF_T6,\"T6\",6)\n",
    "DF_corr_T6=DFtarget.join([DF_T6_lagged])\n",
    "DF_corr_T6.corr().head(1)"
   ]
  },
  {
   "cell_type": "markdown",
   "metadata": {
    "deletable": true,
    "editable": true
   },
   "source": [
    "Try with windspeed"
   ]
  },
  {
   "cell_type": "code",
   "execution_count": 275,
   "metadata": {
    "collapsed": false,
    "deletable": true,
    "editable": true
   },
   "outputs": [
    {
     "name": "stderr",
     "output_type": "stream",
     "text": [
      "C:\\Users\\Manuel\\AppData\\Local\\Enthought\\Canopy\\edm\\envs\\User\\lib\\site-packages\\ipykernel\\__main__.py:4: SettingWithCopyWarning: \n",
      "A value is trying to be set on a copy of a slice from a DataFrame.\n",
      "Try using .loc[row_indexer,col_indexer] = value instead\n",
      "\n",
      "See the caveats in the documentation: http://pandas.pydata.org/pandas-docs/stable/indexing.html#indexing-view-versus-copy\n"
     ]
    },
    {
     "data": {
      "text/html": [
       "<div>\n",
       "<table border=\"1\" class=\"dataframe\">\n",
       "  <thead>\n",
       "    <tr style=\"text-align: right;\">\n",
       "      <th></th>\n",
       "      <th>Appliances</th>\n",
       "      <th>Windspeed</th>\n",
       "      <th>Windspeed-1 times 10 min</th>\n",
       "      <th>Windspeed-2 times 10 min</th>\n",
       "      <th>Windspeed-3 times 10 min</th>\n",
       "      <th>Windspeed-4 times 10 min</th>\n",
       "      <th>Windspeed-5 times 10 min</th>\n",
       "      <th>Windspeed-6 times 10 min</th>\n",
       "      <th>Windspeed-7 times 10 min</th>\n",
       "      <th>Windspeed-8 times 10 min</th>\n",
       "    </tr>\n",
       "  </thead>\n",
       "  <tbody>\n",
       "    <tr>\n",
       "      <th>Appliances</th>\n",
       "      <td>1.0</td>\n",
       "      <td>0.087122</td>\n",
       "      <td>0.089356</td>\n",
       "      <td>0.091329</td>\n",
       "      <td>0.092793</td>\n",
       "      <td>0.09341</td>\n",
       "      <td>0.093233</td>\n",
       "      <td>0.092356</td>\n",
       "      <td>0.091299</td>\n",
       "      <td>0.090357</td>\n",
       "    </tr>\n",
       "  </tbody>\n",
       "</table>\n",
       "</div>"
      ],
      "text/plain": [
       "            Appliances  Windspeed  Windspeed-1 times 10 min  \\\n",
       "Appliances         1.0   0.087122                  0.089356   \n",
       "\n",
       "            Windspeed-2 times 10 min  Windspeed-3 times 10 min  \\\n",
       "Appliances                  0.091329                  0.092793   \n",
       "\n",
       "            Windspeed-4 times 10 min  Windspeed-5 times 10 min  \\\n",
       "Appliances                   0.09341                  0.093233   \n",
       "\n",
       "            Windspeed-6 times 10 min  Windspeed-7 times 10 min  \\\n",
       "Appliances                  0.092356                  0.091299   \n",
       "\n",
       "            Windspeed-8 times 10 min  \n",
       "Appliances                  0.090357  "
      ]
     },
     "execution_count": 275,
     "metadata": {},
     "output_type": "execute_result"
    }
   ],
   "source": [
    "DF_Windspeed = completeDF[['Windspeed']]\n",
    "DF_Windspeed_lagged=lag_column(DF_Windspeed,\"Windspeed\",8)\n",
    "DF_corr_Windspeed=DFtarget.join([DF_Windspeed_lagged])\n",
    "DF_corr_Windspeed.corr().head(1)"
   ]
  },
  {
   "cell_type": "markdown",
   "metadata": {
    "deletable": true,
    "editable": true
   },
   "source": [
    "Join all data "
   ]
  },
  {
   "cell_type": "code",
   "execution_count": 276,
   "metadata": {
    "collapsed": false,
    "deletable": true,
    "editable": true
   },
   "outputs": [],
   "source": [
    "DF_FinalSet=DFtarget.join([DF_lights_lagged,completeDF[['RH_1']],DF_Appliances_lagged.drop([\"Appliances\"],axis=1),DF_T2_lagged,completeDF[['T3']],DF_T6_lagged,DF_Windspeed_lagged])"
   ]
  },
  {
   "cell_type": "markdown",
   "metadata": {
    "deletable": true,
    "editable": true
   },
   "source": [
    "Set variables for day and night, day of the week and month of the year"
   ]
  },
  {
   "cell_type": "code",
   "execution_count": 277,
   "metadata": {
    "collapsed": true,
    "deletable": true,
    "editable": true
   },
   "outputs": [],
   "source": [
    "DF_FinalSet['hour']=DF_FinalSet.index.hour\n",
    "DF_FinalSet['day_of_week']=DF_FinalSet.index.dayofweek\n",
    "DF_FinalSet['month']=DF_FinalSet.index.month\n",
    "DF_FinalSet['week_of_the_year']=DF_FinalSet.index.week"
   ]
  },
  {
   "cell_type": "markdown",
   "metadata": {
    "deletable": true,
    "editable": true
   },
   "source": [
    "Define dayDetector function and week-end function and put that value in final dataset"
   ]
  },
  {
   "cell_type": "code",
   "execution_count": 278,
   "metadata": {
    "collapsed": false,
    "deletable": true,
    "editable": true,
    "scrolled": false
   },
   "outputs": [],
   "source": [
    "def weekendDetector(day):\n",
    "    weekendLabel=0\n",
    "    if(day == 5 or day == 6):\n",
    "        weekendLabel=1\n",
    "    else:\n",
    "        weekendLabel=0\n",
    "    return weekendLabel\n",
    "\n",
    "def dayDetector(hour):\n",
    "    dayLabel=1\n",
    "    if(hour<20 and hour>9):\n",
    "        dayLabel=1\n",
    "    else:\n",
    "        dayLabel=0\n",
    "    return dayLabel\n",
    "\n",
    "\n",
    "simpleVectorOfDays = [0,1,2,3,4,5,6]\n",
    "weekendOrNotVector = [weekendDetector(thisDay) for thisDay in simpleVectorOfDays]\n",
    "\n",
    "\n",
    "hoursOfDayVector= range(0,24,1)\n",
    "dayOrNotVEctor =[dayDetector(ThisHour) for ThisHour in hoursOfDayVector]\n",
    "\n",
    "DF_FinalSet[\"weekend\"] = [weekendDetector(thisDay) for thisDay in DF_FinalSet.index.dayofweek]\n",
    "DF_FinalSet[\"day_nigth\"] = [dayDetector(thisHour) for thisHour in DF_FinalSet.index.hour]\n",
    "DF_FinalSet.dropna(inplace=True)"
   ]
  },
  {
   "cell_type": "markdown",
   "metadata": {
    "deletable": true,
    "editable": true
   },
   "source": [
    "Let's try to build a model"
   ]
  },
  {
   "cell_type": "code",
   "execution_count": 279,
   "metadata": {
    "collapsed": false,
    "scrolled": true
   },
   "outputs": [
    {
     "data": {
      "text/html": [
       "<div>\n",
       "<table border=\"1\" class=\"dataframe\">\n",
       "  <thead>\n",
       "    <tr style=\"text-align: right;\">\n",
       "      <th></th>\n",
       "      <th>Appliances</th>\n",
       "      <th>lights</th>\n",
       "      <th>lights-1 times 10 min</th>\n",
       "      <th>lights-2 times 10 min</th>\n",
       "      <th>lights-3 times 10 min</th>\n",
       "      <th>lights-4 times 10 min</th>\n",
       "      <th>lights-5 times 10 min</th>\n",
       "      <th>lights-6 times 10 min</th>\n",
       "      <th>RH_1</th>\n",
       "      <th>Appliances-1 times 10 min</th>\n",
       "      <th>...</th>\n",
       "      <th>Windspeed-5 times 10 min</th>\n",
       "      <th>Windspeed-6 times 10 min</th>\n",
       "      <th>Windspeed-7 times 10 min</th>\n",
       "      <th>Windspeed-8 times 10 min</th>\n",
       "      <th>hour</th>\n",
       "      <th>day_of_week</th>\n",
       "      <th>month</th>\n",
       "      <th>week_of_the_year</th>\n",
       "      <th>weekend</th>\n",
       "      <th>day_nigth</th>\n",
       "    </tr>\n",
       "  </thead>\n",
       "  <tbody>\n",
       "    <tr>\n",
       "      <th>Appliances</th>\n",
       "      <td>1.0</td>\n",
       "      <td>0.197666</td>\n",
       "      <td>0.189551</td>\n",
       "      <td>0.175593</td>\n",
       "      <td>0.159357</td>\n",
       "      <td>0.139916</td>\n",
       "      <td>0.121914</td>\n",
       "      <td>0.115625</td>\n",
       "      <td>0.085978</td>\n",
       "      <td>0.753347</td>\n",
       "      <td>...</td>\n",
       "      <td>0.093265</td>\n",
       "      <td>0.092326</td>\n",
       "      <td>0.09121</td>\n",
       "      <td>0.090207</td>\n",
       "      <td>0.216861</td>\n",
       "      <td>0.003226</td>\n",
       "      <td>-0.011453</td>\n",
       "      <td>-0.011194</td>\n",
       "      <td>0.017517</td>\n",
       "      <td>0.296265</td>\n",
       "    </tr>\n",
       "  </tbody>\n",
       "</table>\n",
       "<p>1 rows × 49 columns</p>\n",
       "</div>"
      ],
      "text/plain": [
       "            Appliances    lights  lights-1 times 10 min  \\\n",
       "Appliances         1.0  0.197666               0.189551   \n",
       "\n",
       "            lights-2 times 10 min  lights-3 times 10 min  \\\n",
       "Appliances               0.175593               0.159357   \n",
       "\n",
       "            lights-4 times 10 min  lights-5 times 10 min  \\\n",
       "Appliances               0.139916               0.121914   \n",
       "\n",
       "            lights-6 times 10 min      RH_1  Appliances-1 times 10 min  \\\n",
       "Appliances               0.115625  0.085978                   0.753347   \n",
       "\n",
       "              ...      Windspeed-5 times 10 min  Windspeed-6 times 10 min  \\\n",
       "Appliances    ...                      0.093265                  0.092326   \n",
       "\n",
       "            Windspeed-7 times 10 min  Windspeed-8 times 10 min      hour  \\\n",
       "Appliances                   0.09121                  0.090207  0.216861   \n",
       "\n",
       "            day_of_week     month  week_of_the_year   weekend  day_nigth  \n",
       "Appliances     0.003226 -0.011453         -0.011194  0.017517   0.296265  \n",
       "\n",
       "[1 rows x 49 columns]"
      ]
     },
     "execution_count": 279,
     "metadata": {},
     "output_type": "execute_result"
    }
   ],
   "source": [
    "DF_FinalSet.corr().head(1)"
   ]
  },
  {
   "cell_type": "markdown",
   "metadata": {},
   "source": [
    "Remove day of the week, month, week of the year and weekend predictors from features."
   ]
  },
  {
   "cell_type": "code",
   "execution_count": 280,
   "metadata": {
    "collapsed": false,
    "deletable": true,
    "editable": true
   },
   "outputs": [],
   "source": [
    "DF_FinalSet.corr().head(1)\n",
    "\n",
    "DF_features = DF_FinalSet.drop([\"Appliances\",\"day_of_week\",\"month\",\"week_of_the_year\",\"weekend\"],axis=1)\n",
    "DF_target=DF_FinalSet[[\"Appliances\"]]"
   ]
  },
  {
   "cell_type": "code",
   "execution_count": 281,
   "metadata": {
    "collapsed": true,
    "deletable": true,
    "editable": true
   },
   "outputs": [],
   "source": [
    "#import sklearn to define test and train, test size is the fraction that will be test\n",
    "from sklearn.model_selection import train_test_split\n",
    "X_train, X_test, Y_train, Y_test = train_test_split (DF_features,DF_target,test_size=0.2)"
   ]
  },
  {
   "cell_type": "code",
   "execution_count": 282,
   "metadata": {
    "collapsed": true,
    "deletable": true,
    "editable": true
   },
   "outputs": [],
   "source": [
    "#First model is simple linear model\n",
    "from sklearn import linear_model\n",
    "linear_reg=linear_model.LinearRegression() #empty alghoritm that we fill with fit"
   ]
  },
  {
   "cell_type": "markdown",
   "metadata": {
    "deletable": true,
    "editable": true
   },
   "source": [
    "Fit the algorithm with X train and Y train and predict Appliances"
   ]
  },
  {
   "cell_type": "code",
   "execution_count": 283,
   "metadata": {
    "collapsed": false,
    "deletable": true,
    "editable": true
   },
   "outputs": [],
   "source": [
    "linear_reg.fit(X_train,Y_train)\n",
    "predict_linearAppliances=linear_reg.predict(X_test)"
   ]
  },
  {
   "cell_type": "markdown",
   "metadata": {
    "deletable": true,
    "editable": true
   },
   "source": [
    "Fill a DF with predicted values and Y_test for a period and plot to show the results."
   ]
  },
  {
   "cell_type": "code",
   "execution_count": 284,
   "metadata": {
    "collapsed": false,
    "deletable": true,
    "editable": true
   },
   "outputs": [
    {
     "data": {
      "text/plain": [
       "<matplotlib.figure.Figure at 0xf213da0>"
      ]
     },
     "metadata": {},
     "output_type": "display_data"
    },
    {
     "data": {
      "image/png": "[encoded data removed]",
      "text/plain": [
       "<matplotlib.figure.Figure at 0x21f24128>"
      ]
     },
     "metadata": {},
     "output_type": "display_data"
    }
   ],
   "source": [
    "#How to extract index of Y_test---> Y_test.index\n",
    "predict_DF_linearReg_split=pd.DataFrame(predict_linearAppliances,index =Y_test.index,columns =[\"AppliancesEnergy_predic_linearReg_split\"])\n",
    "predict_DF_linearReg_split=predict_DF_linearReg_split.join(Y_test)\n",
    "#Now we have a DF in which we have predicted value and value of completeDF, let's see if the prediction is good: plot a period and see if hte curves match\n",
    "predict_DF_linearReg_split_period=predict_DF_linearReg_split[\"2016-03-01\":\"2016-03-07\"]\n",
    "\n",
    "plt.figure()\n",
    "predict_DF_linearReg_split_period.plot()\n",
    "plt.xlabel(\"time\")\n",
    "plt.ylabel(\"Appliances\")\n",
    "plt.ylim([0,800])\n",
    "plt.title(\"Linear regression\")\n",
    "plt.show()"
   ]
  },
  {
   "cell_type": "markdown",
   "metadata": {
    "deletable": true,
    "editable": true
   },
   "source": [
    "Let's find the metrics."
   ]
  },
  {
   "cell_type": "code",
   "execution_count": 285,
   "metadata": {
    "collapsed": false,
    "deletable": true,
    "editable": true
   },
   "outputs": [
    {
     "name": "stdout",
     "output_type": "stream",
     "text": [
      "R2 index is 0.589128882529\n",
      "mean squared error is 4229.11374865\n",
      "mean absolute error is 30.3281141792\n"
     ]
    }
   ],
   "source": [
    "from sklearn.metrics import mean_absolute_error, mean_squared_error, r2_score\n",
    "mean_squared_error_linearREG=mean_squared_error(Y_test,predict_linearAppliances)\n",
    "mean_absolute_error_linearREG=mean_absolute_error(Y_test,predict_linearAppliances)\n",
    "R2_score_linearReg= r2_score(Y_test,predict_linearAppliances)\n",
    "print \"R2 index is \"+str(R2_score_linearReg)\n",
    "print \"mean squared error is \"+str(mean_squared_error_linearREG)\n",
    "print \"mean absolute error is \"+str(mean_absolute_error_linearREG)"
   ]
  },
  {
   "cell_type": "markdown",
   "metadata": {
    "deletable": true,
    "editable": true
   },
   "source": [
    "Let's use cross validation"
   ]
  },
  {
   "cell_type": "code",
   "execution_count": 287,
   "metadata": {
    "collapsed": false,
    "deletable": true,
    "editable": true
   },
   "outputs": [
    {
     "data": {
      "text/plain": [
       "<matplotlib.figure.Figure at 0x1c23ee10>"
      ]
     },
     "metadata": {},
     "output_type": "display_data"
    },
    {
     "data": {
      "image/png": "[encoded data removed]",
      "text/plain": [
       "<matplotlib.figure.Figure at 0x1c22db38>"
      ]
     },
     "metadata": {},
     "output_type": "display_data"
    }
   ],
   "source": [
    "from sklearn.model_selection import cross_val_predict\n",
    "\n",
    "predict_linearReg_CV=cross_val_predict(linear_reg,DF_features,DF_target,cv =10)\n",
    "#Lets put in a DF\n",
    "predict_DF_linearReg_CV=pd.DataFrame(predict_linearReg_CV,index =DF_target.index,columns =[\"Appliances_predic_linearReg_CV\"])\n",
    "predict_DF_linearReg_CV=predict_DF_linearReg_CV.join(DF_target)  #use DF target instead of Y_test\n",
    "predict_DF_linearReg_CV_period= predict_DF_linearReg_CV[\"2016-03-01\":\"2016-03-03\"] \n",
    "\n",
    "plt.figure()\n",
    "predict_DF_linearReg_CV_period.plot()\n",
    "plt.xlabel(\"time\")\n",
    "plt.ylabel(\"Appliances\")\n",
    "plt.ylim([0,800])\n",
    "plt.title(\"Crossing validation\")\n",
    "plt.show()"
   ]
  },
  {
   "cell_type": "markdown",
   "metadata": {
    "deletable": true,
    "editable": true
   },
   "source": [
    "Let's find the metrics"
   ]
  },
  {
   "cell_type": "code",
   "execution_count": 290,
   "metadata": {
    "collapsed": false,
    "deletable": true,
    "editable": true
   },
   "outputs": [
    {
     "name": "stdout",
     "output_type": "stream",
     "text": [
      "R2 index is 0.594273819529\n",
      "mean squared error is 4261.63279774\n",
      "mean absolute error is 30.4503275913\n"
     ]
    }
   ],
   "source": [
    "mean_squared_error_CV=mean_squared_error(DF_target,predict_linearReg_CV)\n",
    "mean_absolute_error_CV=mean_absolute_error(DF_target,predict_linearReg_CV)\n",
    "R2_score_CV= r2_score(DF_target,predict_linearReg_CV)\n",
    "print \"R2 index is \"+str(R2_score_CV)\n",
    "print \"mean squared error is \"+str(mean_squared_error_CV)\n",
    "print \"mean absolute error is \"+str(mean_absolute_error_CV)"
   ]
  },
  {
   "cell_type": "markdown",
   "metadata": {
    "deletable": true,
    "editable": true
   },
   "source": [
    "Now use Random Forest regressor to find another model"
   ]
  },
  {
   "cell_type": "code",
   "execution_count": 289,
   "metadata": {
    "collapsed": false,
    "deletable": true,
    "editable": true
   },
   "outputs": [],
   "source": [
    "from sklearn.ensemble import RandomForestRegressor\n",
    "reg_RF=RandomForestRegressor()\n",
    "\n",
    "predict_RF_CV=cross_val_predict(reg_RF,DF_features,DF_target,cv =10) #heavy procedure"
   ]
  },
  {
   "cell_type": "markdown",
   "metadata": {
    "deletable": true,
    "editable": true
   },
   "source": [
    "Do the DF, plot and find the metrics"
   ]
  },
  {
   "cell_type": "code",
   "execution_count": 291,
   "metadata": {
    "collapsed": false,
    "deletable": true,
    "editable": true
   },
   "outputs": [
    {
     "data": {
      "text/plain": [
       "<matplotlib.figure.Figure at 0x233969b0>"
      ]
     },
     "metadata": {},
     "output_type": "display_data"
    },
    {
     "data": {
      "image/png": "[encoded data removed]",
      "text/plain": [
       "<matplotlib.figure.Figure at 0x20e07898>"
      ]
     },
     "metadata": {},
     "output_type": "display_data"
    },
    {
     "name": "stdout",
     "output_type": "stream",
     "text": [
      "R2 index is 0.560698983082\n",
      "mean squared error is 4614.29336308\n",
      "mean absolute error is 32.9551285301\n"
     ]
    }
   ],
   "source": [
    "predict_DF_RF_CV=pd.DataFrame(predict_RF_CV,index =DF_target.index,columns =[\"Appliances_predic_RF_CV\"])\n",
    "predict_DF_RF_CV=predict_DF_RF_CV.join(DF_target)\n",
    "predict_DF_RF_CV_period= predict_DF_RF_CV[\"2016-03-01\":\"2016-03-03\"]\n",
    "plt.figure()\n",
    "predict_DF_RF_CV_period.plot()\n",
    "plt.xlabel(\"time\")\n",
    "plt.ylabel(\"Appliances\")\n",
    "plt.ylim([0,800])\n",
    "plt.title(\"Regression line with RandomForestRegressor\")\n",
    "plt.show()\n",
    "\n",
    "mean_squared_error_RF=mean_squared_error(DF_target,predict_RF_CV)\n",
    "mean_absolute_error_RF=mean_absolute_error(DF_target,predict_RF_CV)\n",
    "R2_score_RF= r2_score(DF_target,predict_RF_CV)\n",
    "print \"R2 index is \"+str(R2_score_RF)\n",
    "print \"mean squared error is \"+str(mean_squared_error_RF)\n",
    "print \"mean absolute error is \"+str(mean_absolute_error_RF)"
   ]
  },
  {
   "cell_type": "markdown",
   "metadata": {
    "deletable": true,
    "editable": true
   },
   "source": [
    "Now try to use another model called Supported Vector Regression, that uses normalize data"
   ]
  },
  {
   "cell_type": "code",
   "execution_count": 292,
   "metadata": {
    "collapsed": true,
    "deletable": true,
    "editable": true
   },
   "outputs": [],
   "source": [
    "from sklearn.svm import SVR\n",
    "reg_SVR = SVR(kernel='rbf',C=10,gamma=1)\n",
    "\n",
    "def normalize(df):\n",
    "    return (df-df.min())/(df.max()-df.min())\n",
    "\n",
    "DF_features_norm=normalize(DF_features)\n",
    "DF_target_norm=normalize(DF_target)"
   ]
  },
  {
   "cell_type": "markdown",
   "metadata": {
    "deletable": true,
    "editable": true
   },
   "source": [
    "Predict the data with SVR"
   ]
  },
  {
   "cell_type": "code",
   "execution_count": 293,
   "metadata": {
    "collapsed": false,
    "deletable": true,
    "editable": true
   },
   "outputs": [],
   "source": [
    "predict_SVR_CV = cross_val_predict(reg_SVR,DF_features_norm,DF_target_norm,cv=10) #very heavy procedure\n",
    "predict_DF_SVR_CV=pd.DataFrame(predict_SVR_CV, index = DF_target_norm.index,columns=[\"AC_ConsPred_SVR_CV\"])\n",
    "predict_DF_SVR_CV = predict_DF_SVR_CV.join(DF_target_norm).dropna()"
   ]
  },
  {
   "cell_type": "markdown",
   "metadata": {
    "deletable": true,
    "editable": true
   },
   "source": [
    "Plot the results and compute the metrics"
   ]
  },
  {
   "cell_type": "code",
   "execution_count": 294,
   "metadata": {
    "collapsed": false,
    "deletable": true,
    "editable": true
   },
   "outputs": [
    {
     "data": {
      "text/plain": [
       "<matplotlib.figure.Figure at 0x20dfbe10>"
      ]
     },
     "metadata": {},
     "output_type": "display_data"
    },
    {
     "data": {
      "image/png": "[encoded data removed]",
      "text/plain": [
       "<matplotlib.figure.Figure at 0x1a06b198>"
      ]
     },
     "metadata": {},
     "output_type": "display_data"
    },
    {
     "name": "stdout",
     "output_type": "stream",
     "text": [
      "R2 index is 0.0913347493328\n",
      "mean squared error is 0.00833641561222\n",
      "mean absolute error is 0.0672520214896\n"
     ]
    }
   ],
   "source": [
    "plt.figure()\n",
    "predict_DF_SVR_CV[\"2016-03-01\":\"2016-03-03\"].plot()\n",
    "plt.xlabel(\"time\")\n",
    "plt.ylabel(\"Appliances ratio\")\n",
    "plt.ylim([0,0.65])\n",
    "plt.title(\"Regression normalized line with SVR\")\n",
    "plt.show()\n",
    "\n",
    "mean_squared_error_SVR=mean_squared_error(predict_DF_SVR_CV[[\"Appliances\"]],predict_DF_SVR_CV[['AC_ConsPred_SVR_CV']])\n",
    "mean_absolute_error_SVR=mean_absolute_error(predict_DF_SVR_CV[[\"Appliances\"]],predict_DF_SVR_CV[['AC_ConsPred_SVR_CV']])\n",
    "R2_score_SVR= r2_score(predict_DF_SVR_CV[[\"Appliances\"]],predict_DF_SVR_CV[['AC_ConsPred_SVR_CV']])\n",
    "print \"R2 index is \"+str(R2_score_SVR)\n",
    "print \"mean squared error is \"+str(mean_squared_error_SVR)\n",
    "print \"mean absolute error is \"+str(mean_absolute_error_SVR)"
   ]
  },
  {
   "cell_type": "markdown",
   "metadata": {
    "deletable": true,
    "editable": true
   },
   "source": [
    "This model fits badly the set, if you try to compute the regression with non-normalized features you would find a model with an horizontal line that predicts better your target since R2 coefficient is very low."
   ]
  },
  {
   "cell_type": "code",
   "execution_count": 295,
   "metadata": {
    "collapsed": true,
    "deletable": true,
    "editable": true
   },
   "outputs": [],
   "source": [
    "reg_SVR.fit(X_train,Y_train)\n",
    "predict_SVR_Appliances=reg_SVR.predict(X_test)\n",
    "predict_DF_SVR_split=pd.DataFrame(predict_SVR_Appliances,index =Y_test.index,columns =[\"AppliancesEnergy_predic_SVR_split\"])\n",
    "predict_DF_SVR_split=predict_DF_SVR_split.join(Y_test)\n"
   ]
  },
  {
   "cell_type": "markdown",
   "metadata": {
    "deletable": true,
    "editable": true
   },
   "source": [
    "Plot"
   ]
  },
  {
   "cell_type": "code",
   "execution_count": 296,
   "metadata": {
    "collapsed": false,
    "deletable": true,
    "editable": true
   },
   "outputs": [
    {
     "data": {
      "text/plain": [
       "<matplotlib.figure.Figure at 0xcf700f0>"
      ]
     },
     "metadata": {},
     "output_type": "display_data"
    },
    {
     "data": {
      "image/png": "[encoded data removed]",
      "text/plain": [
       "<matplotlib.figure.Figure at 0x1a728978>"
      ]
     },
     "metadata": {},
     "output_type": "display_data"
    }
   ],
   "source": [
    "predict_DF_SVR_split_period=predict_DF_SVR_split[\"2016-03-01\":\"2016-03-07\"]\n",
    "\n",
    "plt.figure()\n",
    "predict_DF_SVR_split_period.plot()\n",
    "plt.xlabel(\"time\")\n",
    "plt.ylabel(\"Appliances\")\n",
    "plt.ylim([0,800])\n",
    "plt.title(\"Regression line with SVR\")\n",
    "plt.show()"
   ]
  },
  {
   "cell_type": "markdown",
   "metadata": {
    "deletable": true,
    "editable": true
   },
   "source": [
    "In the plot you can see the horizontal line\n",
    "\n",
    "In conclusion with linear and RF regression you can find a model that more or less fits good the data (R2 sligthly less than 0.6).\n",
    "With SVR, model is bad fitted.\n",
    "To increase accurancy of model you should find other variables more correlated with Appliances or other models that fit better dataset \n"
   ]
  },
  {
   "cell_type": "code",
   "execution_count": null,
   "metadata": {
    "collapsed": true,
    "deletable": true,
    "editable": true
   },
   "outputs": [],
   "source": []
  }
 ],
 "metadata": {
  "kernelspec": {
   "display_name": "Python 2",
   "language": "python",
   "name": "python2"
  },
  "language_info": {
   "codemirror_mode": {
    "name": "ipython",
    "version": 2
   },
   "file_extension": ".py",
   "mimetype": "text/x-python",
   "name": "python",
   "nbconvert_exporter": "python",
   "pygments_lexer": "ipython2",
   "version": "2.7.13"
  }
 },
 "nbformat": 4,
 "nbformat_minor": 2
}
